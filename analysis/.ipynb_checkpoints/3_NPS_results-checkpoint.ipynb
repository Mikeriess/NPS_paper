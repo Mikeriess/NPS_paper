{
 "cells": [
  {
   "cell_type": "markdown",
   "id": "d8ba4e64",
   "metadata": {},
   "source": [
    "# Study 1: Fit with existing data from salesforce"
   ]
  },
  {
   "cell_type": "code",
   "execution_count": 48,
   "id": "1d664c53",
   "metadata": {},
   "outputs": [],
   "source": [
    "# No changes to the analysis here"
   ]
  },
  {
   "cell_type": "code",
   "execution_count": 49,
   "id": "af735159",
   "metadata": {},
   "outputs": [
    {
     "data": {
      "text/plain": [
       "12.962962962962964"
      ]
     },
     "execution_count": 49,
     "metadata": {},
     "output_type": "execute_result"
    }
   ],
   "source": [
    "#estimated time\n",
    "((5 * 4 * 2 * 100 * 7)/60)/36"
   ]
  },
  {
   "cell_type": "markdown",
   "id": "8d76887e",
   "metadata": {},
   "source": [
    "# Study 2: Performance of proposed approaches"
   ]
  },
  {
   "cell_type": "code",
   "execution_count": 50,
   "id": "eda694b7",
   "metadata": {},
   "outputs": [],
   "source": [
    "import pandas as pd\n",
    "import numpy as np\n",
    "import statsmodels\n",
    "import seaborn as sns\n",
    "import scipy\n",
    "import matplotlib.pyplot as plt\n",
    "import seaborn as sns"
   ]
  },
  {
   "cell_type": "code",
   "execution_count": 51,
   "id": "d00c6cfa",
   "metadata": {},
   "outputs": [
    {
     "data": {
      "text/html": [
       "<div>\n",
       "<style scoped>\n",
       "    .dataframe tbody tr th:only-of-type {\n",
       "        vertical-align: middle;\n",
       "    }\n",
       "\n",
       "    .dataframe tbody tr th {\n",
       "        vertical-align: top;\n",
       "    }\n",
       "\n",
       "    .dataframe thead th {\n",
       "        text-align: right;\n",
       "    }\n",
       "</style>\n",
       "<table border=\"1\" class=\"dataframe\">\n",
       "  <thead>\n",
       "    <tr style=\"text-align: right;\">\n",
       "      <th></th>\n",
       "      <th>F_priority_scheme</th>\n",
       "      <th>F_number_of_agents</th>\n",
       "      <th>F_hard_ceiling</th>\n",
       "      <th>ceiling_value</th>\n",
       "      <th>burn_in</th>\n",
       "      <th>days</th>\n",
       "      <th>startdate</th>\n",
       "      <th>repetition</th>\n",
       "      <th>closed_avg_simulated_NPS</th>\n",
       "      <th>closed_avg_simulated_throughput_time</th>\n",
       "      <th>...</th>\n",
       "      <th>Simulation_duration_min</th>\n",
       "      <th>RUN</th>\n",
       "      <th>Done</th>\n",
       "      <th>n_promoters</th>\n",
       "      <th>n_detractors</th>\n",
       "      <th>n_neutrals</th>\n",
       "      <th>SIM_NPS</th>\n",
       "      <th>all_avg_daily_queue_waitingtime</th>\n",
       "      <th>all_avg_n_cases_waiting_in_queue</th>\n",
       "      <th>all_avg_n_busy_agents</th>\n",
       "    </tr>\n",
       "  </thead>\n",
       "  <tbody>\n",
       "    <tr>\n",
       "      <th>0</th>\n",
       "      <td>FCFS</td>\n",
       "      <td>3</td>\n",
       "      <td>NONE</td>\n",
       "      <td>2.5</td>\n",
       "      <td>0</td>\n",
       "      <td>365</td>\n",
       "      <td>2018-07-01</td>\n",
       "      <td>0</td>\n",
       "      <td>9.063628</td>\n",
       "      <td>90.218883</td>\n",
       "      <td>...</td>\n",
       "      <td>-1</td>\n",
       "      <td>0</td>\n",
       "      <td>0</td>\n",
       "      <td>9.0</td>\n",
       "      <td>275.0</td>\n",
       "      <td>18.0</td>\n",
       "      <td>-88.079470</td>\n",
       "      <td>47.112982</td>\n",
       "      <td>194.082192</td>\n",
       "      <td>2.972603</td>\n",
       "    </tr>\n",
       "    <tr>\n",
       "      <th>1</th>\n",
       "      <td>SRTF</td>\n",
       "      <td>3</td>\n",
       "      <td>NONE</td>\n",
       "      <td>2.5</td>\n",
       "      <td>0</td>\n",
       "      <td>365</td>\n",
       "      <td>2018-07-01</td>\n",
       "      <td>0</td>\n",
       "      <td>8.739368</td>\n",
       "      <td>25.034114</td>\n",
       "      <td>...</td>\n",
       "      <td>-1</td>\n",
       "      <td>1</td>\n",
       "      <td>0</td>\n",
       "      <td>9.0</td>\n",
       "      <td>270.0</td>\n",
       "      <td>10.0</td>\n",
       "      <td>-90.311419</td>\n",
       "      <td>83.487206</td>\n",
       "      <td>192.093151</td>\n",
       "      <td>2.986301</td>\n",
       "    </tr>\n",
       "    <tr>\n",
       "      <th>2</th>\n",
       "      <td>LRTF</td>\n",
       "      <td>3</td>\n",
       "      <td>NONE</td>\n",
       "      <td>2.5</td>\n",
       "      <td>0</td>\n",
       "      <td>365</td>\n",
       "      <td>2018-07-01</td>\n",
       "      <td>0</td>\n",
       "      <td>8.933926</td>\n",
       "      <td>12.111148</td>\n",
       "      <td>...</td>\n",
       "      <td>-1</td>\n",
       "      <td>2</td>\n",
       "      <td>0</td>\n",
       "      <td>10.0</td>\n",
       "      <td>250.0</td>\n",
       "      <td>17.0</td>\n",
       "      <td>-86.642599</td>\n",
       "      <td>80.034736</td>\n",
       "      <td>215.542466</td>\n",
       "      <td>2.939726</td>\n",
       "    </tr>\n",
       "    <tr>\n",
       "      <th>3</th>\n",
       "      <td>NPS</td>\n",
       "      <td>3</td>\n",
       "      <td>NONE</td>\n",
       "      <td>2.5</td>\n",
       "      <td>0</td>\n",
       "      <td>365</td>\n",
       "      <td>2018-07-01</td>\n",
       "      <td>0</td>\n",
       "      <td>9.015346</td>\n",
       "      <td>13.714178</td>\n",
       "      <td>...</td>\n",
       "      <td>-1</td>\n",
       "      <td>3</td>\n",
       "      <td>0</td>\n",
       "      <td>13.0</td>\n",
       "      <td>268.0</td>\n",
       "      <td>15.0</td>\n",
       "      <td>-86.148649</td>\n",
       "      <td>90.854691</td>\n",
       "      <td>202.413699</td>\n",
       "      <td>2.980822</td>\n",
       "    </tr>\n",
       "    <tr>\n",
       "      <th>4</th>\n",
       "      <td>FCFS</td>\n",
       "      <td>6</td>\n",
       "      <td>NONE</td>\n",
       "      <td>2.5</td>\n",
       "      <td>0</td>\n",
       "      <td>365</td>\n",
       "      <td>2018-07-01</td>\n",
       "      <td>0</td>\n",
       "      <td>8.841563</td>\n",
       "      <td>53.041304</td>\n",
       "      <td>...</td>\n",
       "      <td>-1</td>\n",
       "      <td>4</td>\n",
       "      <td>0</td>\n",
       "      <td>15.0</td>\n",
       "      <td>534.0</td>\n",
       "      <td>28.0</td>\n",
       "      <td>-89.948007</td>\n",
       "      <td>24.418900</td>\n",
       "      <td>103.386301</td>\n",
       "      <td>5.923288</td>\n",
       "    </tr>\n",
       "  </tbody>\n",
       "</table>\n",
       "<p>5 rows × 40 columns</p>\n",
       "</div>"
      ],
      "text/plain": [
       "  F_priority_scheme  F_number_of_agents F_hard_ceiling  ceiling_value  \\\n",
       "0              FCFS                   3           NONE            2.5   \n",
       "1              SRTF                   3           NONE            2.5   \n",
       "2              LRTF                   3           NONE            2.5   \n",
       "3               NPS                   3           NONE            2.5   \n",
       "4              FCFS                   6           NONE            2.5   \n",
       "\n",
       "   burn_in  days   startdate  repetition  closed_avg_simulated_NPS  \\\n",
       "0        0   365  2018-07-01           0                  9.063628   \n",
       "1        0   365  2018-07-01           0                  8.739368   \n",
       "2        0   365  2018-07-01           0                  8.933926   \n",
       "3        0   365  2018-07-01           0                  9.015346   \n",
       "4        0   365  2018-07-01           0                  8.841563   \n",
       "\n",
       "   closed_avg_simulated_throughput_time  ...  Simulation_duration_min  RUN  \\\n",
       "0                             90.218883  ...                       -1    0   \n",
       "1                             25.034114  ...                       -1    1   \n",
       "2                             12.111148  ...                       -1    2   \n",
       "3                             13.714178  ...                       -1    3   \n",
       "4                             53.041304  ...                       -1    4   \n",
       "\n",
       "   Done  n_promoters  n_detractors  n_neutrals    SIM_NPS  \\\n",
       "0     0          9.0         275.0        18.0 -88.079470   \n",
       "1     0          9.0         270.0        10.0 -90.311419   \n",
       "2     0         10.0         250.0        17.0 -86.642599   \n",
       "3     0         13.0         268.0        15.0 -86.148649   \n",
       "4     0         15.0         534.0        28.0 -89.948007   \n",
       "\n",
       "   all_avg_daily_queue_waitingtime  all_avg_n_cases_waiting_in_queue  \\\n",
       "0                        47.112982                        194.082192   \n",
       "1                        83.487206                        192.093151   \n",
       "2                        80.034736                        215.542466   \n",
       "3                        90.854691                        202.413699   \n",
       "4                        24.418900                        103.386301   \n",
       "\n",
       "   all_avg_n_busy_agents  \n",
       "0               2.972603  \n",
       "1               2.986301  \n",
       "2               2.939726  \n",
       "3               2.980822  \n",
       "4               5.923288  \n",
       "\n",
       "[5 rows x 40 columns]"
      ]
     },
     "execution_count": 51,
     "metadata": {},
     "output_type": "execute_result"
    }
   ],
   "source": [
    "experiments = pd.read_csv(\"../results/experiments.csv\")\n",
    "experiments.head()"
   ]
  },
  {
   "cell_type": "code",
   "execution_count": 52,
   "id": "dfd813da",
   "metadata": {},
   "outputs": [
    {
     "data": {
      "text/plain": [
       "{'F_priority_scheme': 'FCFS',\n",
       " 'F_number_of_agents': 3,\n",
       " 'F_hard_ceiling': 'NONE',\n",
       " 'ceiling_value': 2.5,\n",
       " 'burn_in': 0,\n",
       " 'days': 365,\n",
       " 'startdate': '2018-07-01',\n",
       " 'repetition': 0,\n",
       " 'closed_avg_simulated_NPS': 9.063628179805889,\n",
       " 'closed_avg_simulated_throughput_time': 90.21888255343272,\n",
       " 'closed_avg_predicted_NPS': 10.133959686025516,\n",
       " 'closed_avg_predicted_throughput_time': 1.6036601352290738,\n",
       " 'closed_avg_predicted_NPS_priority': 2.633959686025515,\n",
       " 'closed_avg_initial_delay': 86.95740261718343,\n",
       " 'closed_avg_activity_start_delay': 0.3562532763352507,\n",
       " 'closed_avg_duration_delayed': 0.3562532763352507,\n",
       " 'all_avg_simulated_NPS': 9.088501938050875,\n",
       " 'all_avg_simulated_throughput_time': 91.0003807116414,\n",
       " 'all_avg_predicted_NPS': 10.134159598693731,\n",
       " 'all_avg_predicted_throughput_time': 1.598493986745226,\n",
       " 'all_avg_predicted_NPS_priority': 2.6341595986937296,\n",
       " 'all_avg_initial_delay': 86.38531444207038,\n",
       " 'all_avg_activity_start_delay': 0.3692604258330451,\n",
       " 'all_avg_duration_delayed': 0.3692604258330451,\n",
       " 'cases_arrived': 722,\n",
       " 'cases_closed': 302,\n",
       " 'case_queued': 417,\n",
       " 'cases_assigned_at_end': 304,\n",
       " 'min_tracelen': 1,\n",
       " 'max_tracelen': 12,\n",
       " 'Simulation_duration_min': -1,\n",
       " 'RUN': 0,\n",
       " 'Done': 0,\n",
       " 'n_promoters': 9.0,\n",
       " 'n_detractors': 275.0,\n",
       " 'n_neutrals': 18.0,\n",
       " 'SIM_NPS': -88.0794701986755,\n",
       " 'all_avg_daily_queue_waitingtime': 47.112982367431165,\n",
       " 'all_avg_n_cases_waiting_in_queue': 194.08219178082192,\n",
       " 'all_avg_n_busy_agents': 2.9726027397260277}"
      ]
     },
     "execution_count": 52,
     "metadata": {},
     "output_type": "execute_result"
    }
   ],
   "source": [
    "experiments.loc[0].to_dict()"
   ]
  },
  {
   "cell_type": "markdown",
   "id": "ee6ae2e0",
   "metadata": {},
   "source": [
    "# Effects on customer tNPS"
   ]
  },
  {
   "cell_type": "markdown",
   "id": "b803f0f1",
   "metadata": {},
   "source": [
    "### Means"
   ]
  },
  {
   "cell_type": "code",
   "execution_count": 53,
   "id": "eb98f817",
   "metadata": {},
   "outputs": [
    {
     "data": {
      "text/html": [
       "<div>\n",
       "<style scoped>\n",
       "    .dataframe tbody tr th:only-of-type {\n",
       "        vertical-align: middle;\n",
       "    }\n",
       "\n",
       "    .dataframe tbody tr th {\n",
       "        vertical-align: top;\n",
       "    }\n",
       "\n",
       "    .dataframe thead th {\n",
       "        text-align: right;\n",
       "    }\n",
       "</style>\n",
       "<table border=\"1\" class=\"dataframe\">\n",
       "  <thead>\n",
       "    <tr style=\"text-align: right;\">\n",
       "      <th></th>\n",
       "      <th></th>\n",
       "      <th></th>\n",
       "      <th>SIM_NPS</th>\n",
       "    </tr>\n",
       "    <tr>\n",
       "      <th>F_hard_ceiling</th>\n",
       "      <th>F_priority_scheme</th>\n",
       "      <th>F_number_of_agents</th>\n",
       "      <th></th>\n",
       "    </tr>\n",
       "  </thead>\n",
       "  <tbody>\n",
       "    <tr>\n",
       "      <th rowspan=\"16\" valign=\"top\">NONE</th>\n",
       "      <th rowspan=\"4\" valign=\"top\">FCFS</th>\n",
       "      <th>3</th>\n",
       "      <td>-88.934101</td>\n",
       "    </tr>\n",
       "    <tr>\n",
       "      <th>6</th>\n",
       "      <td>-89.886284</td>\n",
       "    </tr>\n",
       "    <tr>\n",
       "      <th>9</th>\n",
       "      <td>-88.010880</td>\n",
       "    </tr>\n",
       "    <tr>\n",
       "      <th>12</th>\n",
       "      <td>-87.623401</td>\n",
       "    </tr>\n",
       "    <tr>\n",
       "      <th rowspan=\"4\" valign=\"top\">LRTF</th>\n",
       "      <th>3</th>\n",
       "      <td>-88.137353</td>\n",
       "    </tr>\n",
       "    <tr>\n",
       "      <th>6</th>\n",
       "      <td>-88.897568</td>\n",
       "    </tr>\n",
       "    <tr>\n",
       "      <th>9</th>\n",
       "      <td>-88.260784</td>\n",
       "    </tr>\n",
       "    <tr>\n",
       "      <th>12</th>\n",
       "      <td>-88.333333</td>\n",
       "    </tr>\n",
       "    <tr>\n",
       "      <th rowspan=\"4\" valign=\"top\">NPS</th>\n",
       "      <th>3</th>\n",
       "      <td>-87.264465</td>\n",
       "    </tr>\n",
       "    <tr>\n",
       "      <th>6</th>\n",
       "      <td>-88.820152</td>\n",
       "    </tr>\n",
       "    <tr>\n",
       "      <th>9</th>\n",
       "      <td>-87.761464</td>\n",
       "    </tr>\n",
       "    <tr>\n",
       "      <th>12</th>\n",
       "      <td>-87.898376</td>\n",
       "    </tr>\n",
       "    <tr>\n",
       "      <th rowspan=\"4\" valign=\"top\">SRTF</th>\n",
       "      <th>3</th>\n",
       "      <td>-89.012365</td>\n",
       "    </tr>\n",
       "    <tr>\n",
       "      <th>6</th>\n",
       "      <td>-88.510829</td>\n",
       "    </tr>\n",
       "    <tr>\n",
       "      <th>9</th>\n",
       "      <td>-88.155662</td>\n",
       "    </tr>\n",
       "    <tr>\n",
       "      <th>12</th>\n",
       "      <td>-87.901125</td>\n",
       "    </tr>\n",
       "    <tr>\n",
       "      <th rowspan=\"16\" valign=\"top\">SLA</th>\n",
       "      <th rowspan=\"4\" valign=\"top\">FCFS</th>\n",
       "      <th>3</th>\n",
       "      <td>-87.809659</td>\n",
       "    </tr>\n",
       "    <tr>\n",
       "      <th>6</th>\n",
       "      <td>-89.280313</td>\n",
       "    </tr>\n",
       "    <tr>\n",
       "      <th>9</th>\n",
       "      <td>-87.958903</td>\n",
       "    </tr>\n",
       "    <tr>\n",
       "      <th>12</th>\n",
       "      <td>-87.640449</td>\n",
       "    </tr>\n",
       "    <tr>\n",
       "      <th rowspan=\"4\" valign=\"top\">LRTF</th>\n",
       "      <th>3</th>\n",
       "      <td>-89.330527</td>\n",
       "    </tr>\n",
       "    <tr>\n",
       "      <th>6</th>\n",
       "      <td>-90.026288</td>\n",
       "    </tr>\n",
       "    <tr>\n",
       "      <th>9</th>\n",
       "      <td>-88.638382</td>\n",
       "    </tr>\n",
       "    <tr>\n",
       "      <th>12</th>\n",
       "      <td>-88.042536</td>\n",
       "    </tr>\n",
       "    <tr>\n",
       "      <th rowspan=\"4\" valign=\"top\">NPS</th>\n",
       "      <th>3</th>\n",
       "      <td>-89.343933</td>\n",
       "    </tr>\n",
       "    <tr>\n",
       "      <th>6</th>\n",
       "      <td>-90.116567</td>\n",
       "    </tr>\n",
       "    <tr>\n",
       "      <th>9</th>\n",
       "      <td>-88.012507</td>\n",
       "    </tr>\n",
       "    <tr>\n",
       "      <th>12</th>\n",
       "      <td>-86.801068</td>\n",
       "    </tr>\n",
       "    <tr>\n",
       "      <th rowspan=\"4\" valign=\"top\">SRTF</th>\n",
       "      <th>3</th>\n",
       "      <td>-88.688185</td>\n",
       "    </tr>\n",
       "    <tr>\n",
       "      <th>6</th>\n",
       "      <td>-90.742329</td>\n",
       "    </tr>\n",
       "    <tr>\n",
       "      <th>9</th>\n",
       "      <td>-87.679117</td>\n",
       "    </tr>\n",
       "    <tr>\n",
       "      <th>12</th>\n",
       "      <td>-87.844000</td>\n",
       "    </tr>\n",
       "  </tbody>\n",
       "</table>\n",
       "</div>"
      ],
      "text/plain": [
       "                                                       SIM_NPS\n",
       "F_hard_ceiling F_priority_scheme F_number_of_agents           \n",
       "NONE           FCFS              3                  -88.934101\n",
       "                                 6                  -89.886284\n",
       "                                 9                  -88.010880\n",
       "                                 12                 -87.623401\n",
       "               LRTF              3                  -88.137353\n",
       "                                 6                  -88.897568\n",
       "                                 9                  -88.260784\n",
       "                                 12                 -88.333333\n",
       "               NPS               3                  -87.264465\n",
       "                                 6                  -88.820152\n",
       "                                 9                  -87.761464\n",
       "                                 12                 -87.898376\n",
       "               SRTF              3                  -89.012365\n",
       "                                 6                  -88.510829\n",
       "                                 9                  -88.155662\n",
       "                                 12                 -87.901125\n",
       "SLA            FCFS              3                  -87.809659\n",
       "                                 6                  -89.280313\n",
       "                                 9                  -87.958903\n",
       "                                 12                 -87.640449\n",
       "               LRTF              3                  -89.330527\n",
       "                                 6                  -90.026288\n",
       "                                 9                  -88.638382\n",
       "                                 12                 -88.042536\n",
       "               NPS               3                  -89.343933\n",
       "                                 6                  -90.116567\n",
       "                                 9                  -88.012507\n",
       "                                 12                 -86.801068\n",
       "               SRTF              3                  -88.688185\n",
       "                                 6                  -90.742329\n",
       "                                 9                  -87.679117\n",
       "                                 12                 -87.844000"
      ]
     },
     "execution_count": 53,
     "metadata": {},
     "output_type": "execute_result"
    }
   ],
   "source": [
    " #Crosstab AE by trace length\n",
    "    \n",
    "response = \"SIM_NPS\"\n",
    "factors = [\"F_hard_ceiling\",\"F_priority_scheme\",\"F_number_of_agents\"]\n",
    "    \n",
    "pivottable = pd.pivot_table(experiments, \n",
    "                            values=response,\n",
    "                            columns=factors, \n",
    "                            aggfunc=np.mean).T\n",
    "\n",
    "#pivottable = pivottable.reset_index()\n",
    "\n",
    "pivottable"
   ]
  },
  {
   "cell_type": "code",
   "execution_count": 54,
   "id": "cda64b1f",
   "metadata": {},
   "outputs": [
    {
     "name": "stdout",
     "output_type": "stream",
     "text": [
      "\\begin{tabular}{l|l|l|r|}\n",
      "\\hline\n",
      "    &      &    &    SIM\\_NPS \\\\\n",
      "F\\_hard\\_ceiling & Priority scheme & Number of agents &            \\\\\n",
      "\\hline\n",
      "NONE & FCFS & 3  & -88.934101 \\\\\n",
      "    &      & 6  & -89.886284 \\\\\n",
      "    &      & 9  & -88.010880 \\\\\n",
      "    &      & 12 & -87.623401 \\\\\n",
      "    & LRTF & 3  & -88.137353 \\\\\n",
      "    &      & 6  & -88.897568 \\\\\n",
      "    &      & 9  & -88.260784 \\\\\n",
      "    &      & 12 & -88.333333 \\\\\n",
      "    & NPS & 3  & -87.264465 \\\\\n",
      "    &      & 6  & -88.820152 \\\\\n",
      "    &      & 9  & -87.761464 \\\\\n",
      "    &      & 12 & -87.898376 \\\\\n",
      "    & SRTF & 3  & -89.012365 \\\\\n",
      "    &      & 6  & -88.510829 \\\\\n",
      "    &      & 9  & -88.155662 \\\\\n",
      "    &      & 12 & -87.901125 \\\\\n",
      "SLA & FCFS & 3  & -87.809659 \\\\\n",
      "    &      & 6  & -89.280313 \\\\\n",
      "    &      & 9  & -87.958903 \\\\\n",
      "    &      & 12 & -87.640449 \\\\\n",
      "    & LRTF & 3  & -89.330527 \\\\\n",
      "    &      & 6  & -90.026288 \\\\\n",
      "    &      & 9  & -88.638382 \\\\\n",
      "    &      & 12 & -88.042536 \\\\\n",
      "    & NPS & 3  & -89.343933 \\\\\n",
      "    &      & 6  & -90.116567 \\\\\n",
      "    &      & 9  & -88.012507 \\\\\n",
      "    &      & 12 & -86.801068 \\\\\n",
      "    & SRTF & 3  & -88.688185 \\\\\n",
      "    &      & 6  & -90.742329 \\\\\n",
      "    &      & 9  & -87.679117 \\\\\n",
      "    &      & 12 & -87.844000 \\\\\n",
      "\\hline\n",
      "\\end{tabular}\n",
      "\n"
     ]
    },
    {
     "name": "stderr",
     "output_type": "stream",
     "text": [
      "C:\\Users\\Mike\\AppData\\Local\\Temp\\ipykernel_25244\\1350266391.py:1: FutureWarning: In future versions `DataFrame.to_latex` is expected to utilise the base implementation of `Styler.to_latex` for formatting and rendering. The arguments signature may therefore change. It is recommended instead to use `DataFrame.style.to_latex` which also contains additional functionality.\n",
      "  string = str((pivottable.to_latex(index=True)))\n"
     ]
    }
   ],
   "source": [
    "\n",
    "\n",
    "string = str((pivottable.to_latex(index=True)))\n",
    "string = string.replace('!', '$\\pm$')\n",
    "\n",
    "string = string.replace(\"toprule\",\"hline\")\n",
    "string = string.replace(\"midrule\",\"hline\")\n",
    "string = string.replace(\"bottomrule\",\"hline\") #\n",
    "\n",
    "string = string.replace(\"MAE           &\",\"$MAE$           &\")\n",
    "string = string.replace(\"MAE\\_Etd\",\"$MAE_{EtD}$\")\n",
    "string = string.replace(\"MAE\\_Mtd\",\"$MAE_{MtD}$\")\n",
    "string = string.replace(\"MAE\\_Ptd\",\"$MAE_{PtD}$\")\n",
    "\n",
    "string = string.replace(\"llr\",\"|l|l|r|\")\n",
    "\n",
    "string = string.replace(\"data\",\"Loss function\")\n",
    "\n",
    "string = string.replace(\"loss\\_function &             &              &               &                  \\\\\",\"\")\n",
    "\n",
    "string = string.replace('F\\_number\\_of\\_agents', 'Number of agents')\n",
    "string = string.replace('F\\_priority\\_scheme', 'Priority scheme')\n",
    "string = string.replace('closed\\_avg\\_simulated\\_NPS', 'Simulated tNPS')\n",
    "\n",
    "pivottable\n",
    "print(string)"
   ]
  },
  {
   "cell_type": "markdown",
   "id": "9be36f63",
   "metadata": {},
   "source": [
    "### F-test"
   ]
  },
  {
   "cell_type": "code",
   "execution_count": 55,
   "id": "0df0bf24",
   "metadata": {},
   "outputs": [],
   "source": [
    "def f_test(group1, group2, log_trans=False):\n",
    "    \n",
    "    #log transform\n",
    "    if log_trans == True:\n",
    "        group1 = np.log(1+group1)\n",
    "        group2 = np.log(1+group2)\n",
    "    \n",
    "    f = np.var(group1, ddof=1)/np.var(group2, ddof=1)\n",
    "    nun = group1.size-1\n",
    "    dun = group2.size-1\n",
    "    p_value = 1-scipy.stats.f.cdf(f, nun, dun)\n",
    "    return f, p_value\n",
    "  "
   ]
  },
  {
   "cell_type": "code",
   "execution_count": 56,
   "id": "555d88ec",
   "metadata": {},
   "outputs": [
    {
     "data": {
      "text/plain": [
       "(0.5600680399732404, 0.8635876880377723)"
      ]
     },
     "execution_count": 56,
     "metadata": {},
     "output_type": "execute_result"
    }
   ],
   "source": [
    "baseline = experiments.loc[experiments.F_priority_scheme == \"FCFS\", response]\n",
    "candidate = experiments.loc[experiments.F_priority_scheme == \"NPS\", response]\n",
    "\n",
    "#perform f_test:\n",
    "f_value, p_value = f_test(baseline.values, candidate.values, log_trans=False)\n",
    "f_value, p_value"
   ]
  },
  {
   "cell_type": "markdown",
   "id": "cbf9a6da",
   "metadata": {},
   "source": [
    "### Boxplot"
   ]
  },
  {
   "cell_type": "code",
   "execution_count": 57,
   "id": "5dd2c166",
   "metadata": {},
   "outputs": [],
   "source": [
    "import matplotlib.pyplot as plt"
   ]
  },
  {
   "cell_type": "code",
   "execution_count": 70,
   "id": "3cf4f6bc",
   "metadata": {},
   "outputs": [
    {
     "data": {
      "image/png": "[encoded data removed]",
      "text/plain": [
       "<Figure size 1152x720 with 1 Axes>"
      ]
     },
     "metadata": {
      "needs_background": "light"
     },
     "output_type": "display_data"
    }
   ],
   "source": [
    "fig = plt.figure(figsize=(16, 10))\n",
    "\n",
    "hue_order = [\"FCFS\",\"SRTF\",\"LRTF\",\"NPS\"]\n",
    "\n",
    "sns.boxplot(x=experiments.F_number_of_agents,\n",
    "            y=experiments[response],\n",
    "            hue=experiments.F_priority_scheme,\n",
    "            hue_order = hue_order,\n",
    "            width=0.8,\n",
    "            dodge=True,\n",
    "            showfliers = False,\n",
    "            linewidth=1,\n",
    "            whis=1.5)\n",
    "\n",
    "plt.xlabel(\"Number of agents\")\n",
    "plt.ylabel(\"Simulated tNPS\")\n",
    "\n",
    "plt.title(\"Simulated tNPS performance (after case completion)\")\n",
    "\n",
    "\n",
    "plt.savefig(\"NPS_performance.png\", dpi=200, bbox_inches = \"tight\")\n",
    "\n",
    "plt.show()"
   ]
  },
  {
   "cell_type": "raw",
   "id": "6fca0ef0",
   "metadata": {},
   "source": [
    "def f_test(group1, group2, log_trans=False):\n",
    "    \n",
    "    #log transform\n",
    "    if log_trans == True:\n",
    "        group1 = np.log(1+group1)\n",
    "        group2 = np.log(1+group2)\n",
    "    \n",
    "    f = np.var(group1, ddof=1)/np.var(group2, ddof=1)\n",
    "    nun = group1.size-1\n",
    "    dun = group2.size-1\n",
    "    p_value = 1-scipy.stats.f.cdf(f, nun, dun)\n",
    "    return f, p_value\n",
    "  "
   ]
  },
  {
   "cell_type": "raw",
   "id": "926d8831",
   "metadata": {},
   "source": [
    "schemes = ['LRTF',\"SRTF\",\"NPS\",\"NPS-SLA\"]\n",
    "agents = [3,6,9,12]\n",
    "\n",
    "res = {\"Num_agents\":[],\n",
    "      \"Priority_scheme\":[],\n",
    "      \"f_value\":[],\n",
    "      \"p_value\":[]}\n",
    "\n",
    "#do a comparison for each dataset\n",
    "for n in agents:\n",
    "    results = experiments.loc[experiments.F_number_of_agents == n]\n",
    "    \n",
    "    #do a comparison with MAE for each of the three losses\n",
    "    for scheme in schemes:\n",
    "        \n",
    "        #get MAE vectors, n = 10\n",
    "        baseline = results.loc[results.F_priority_scheme == \"FCFS\",response]\n",
    "        scheme_i = results.loc[results.F_priority_scheme == scheme, response]\n",
    "        \n",
    "        #perform f_test:\n",
    "        f_value, p_value = f_test(baseline.values, scheme_i.values, log_trans=False)\n",
    "        \n",
    "        #append results\n",
    "        res[\"Num_agents\"].append(n)\n",
    "        res[\"Priority_scheme\"].append(scheme)\n",
    "        res[\"f_value\"].append(np.round(f_value,decimals=3))\n",
    "        res[\"p_value\"].append(np.round(p_value,decimals=3))\n",
    "res = pd.DataFrame(res)"
   ]
  },
  {
   "cell_type": "raw",
   "id": "367171a7",
   "metadata": {},
   "source": [
    "res"
   ]
  },
  {
   "cell_type": "markdown",
   "id": "d76570ca",
   "metadata": {},
   "source": [
    "## Linear model"
   ]
  },
  {
   "cell_type": "code",
   "execution_count": 59,
   "id": "3f1a4227",
   "metadata": {},
   "outputs": [],
   "source": [
    "import statsmodels.api as sm\n",
    "import statsmodels.formula.api as smf\n",
    "#https://www.statsmodels.org/dev/example_formulas.html"
   ]
  },
  {
   "cell_type": "code",
   "execution_count": 60,
   "id": "6cda6974",
   "metadata": {},
   "outputs": [],
   "source": [
    "formula = response + \"~ F_number_of_agents + F_priority_scheme + F_number_of_agents*F_priority_scheme\""
   ]
  },
  {
   "cell_type": "code",
   "execution_count": 61,
   "id": "a794a939",
   "metadata": {},
   "outputs": [],
   "source": [
    "experiments[\"F_priority_scheme\"] = experiments.F_priority_scheme.astype('category')\n",
    "experiments[\"F_number_of_agents\"] = experiments.F_number_of_agents.astype('category')"
   ]
  },
  {
   "cell_type": "code",
   "execution_count": 62,
   "id": "b80c55b6",
   "metadata": {},
   "outputs": [],
   "source": [
    "ols_model = smf.ols(formula=formula, data=experiments)"
   ]
  },
  {
   "cell_type": "code",
   "execution_count": 63,
   "id": "46b5f295",
   "metadata": {},
   "outputs": [],
   "source": [
    "ols_results = ols_model.fit()"
   ]
  },
  {
   "cell_type": "code",
   "execution_count": 64,
   "id": "df01152b",
   "metadata": {},
   "outputs": [
    {
     "name": "stdout",
     "output_type": "stream",
     "text": [
      "                            OLS Regression Results                            \n",
      "==============================================================================\n",
      "Dep. Variable:                SIM_NPS   R-squared:                       0.424\n",
      "Model:                            OLS   Adj. R-squared:                  0.244\n",
      "Method:                 Least Squares   F-statistic:                     2.358\n",
      "Date:                Tue, 31 Jan 2023   Prob (F-statistic):             0.0126\n",
      "Time:                        12:55:42   Log-Likelihood:                -78.737\n",
      "No. Observations:                  64   AIC:                             189.5\n",
      "Df Residuals:                      48   BIC:                             224.0\n",
      "Df Model:                          15                                         \n",
      "Covariance Type:            nonrobust                                         \n",
      "======================================================================================================================\n",
      "                                                         coef    std err          t      P>|t|      [0.025      0.975]\n",
      "----------------------------------------------------------------------------------------------------------------------\n",
      "Intercept                                            -88.3719      0.478   -184.849      0.000     -89.333     -87.411\n",
      "F_number_of_agents[T.6]                               -1.2114      0.676     -1.792      0.079      -2.571       0.148\n",
      "F_number_of_agents[T.9]                                0.3870      0.676      0.572      0.570      -0.972       1.746\n",
      "F_number_of_agents[T.12]                               0.7400      0.676      1.094      0.279      -0.619       2.099\n",
      "F_priority_scheme[T.LRTF]                             -0.3621      0.676     -0.536      0.595      -1.721       0.997\n",
      "F_priority_scheme[T.NPS]                               0.0677      0.676      0.100      0.921      -1.292       1.427\n",
      "F_priority_scheme[T.SRTF]                             -0.4784      0.676     -0.708      0.483      -1.838       0.881\n",
      "F_number_of_agents[T.6]:F_priority_scheme[T.LRTF]      0.4834      0.956      0.506      0.615      -1.439       2.406\n",
      "F_number_of_agents[T.9]:F_priority_scheme[T.LRTF]     -0.1026      0.956     -0.107      0.915      -2.025       1.820\n",
      "F_number_of_agents[T.12]:F_priority_scheme[T.LRTF]    -0.1939      0.956     -0.203      0.840      -2.116       1.729\n",
      "F_number_of_agents[T.6]:F_priority_scheme[T.NPS]       0.0473      0.956      0.049      0.961      -1.875       1.970\n",
      "F_number_of_agents[T.9]:F_priority_scheme[T.NPS]       0.0302      0.956      0.032      0.975      -1.892       1.953\n",
      "F_number_of_agents[T.12]:F_priority_scheme[T.NPS]      0.2145      0.956      0.224      0.823      -1.708       2.137\n",
      "F_number_of_agents[T.6]:F_priority_scheme[T.SRTF]      0.4351      0.956      0.455      0.651      -1.487       2.358\n",
      "F_number_of_agents[T.9]:F_priority_scheme[T.SRTF]      0.5459      0.956      0.571      0.571      -1.377       2.468\n",
      "F_number_of_agents[T.12]:F_priority_scheme[T.SRTF]     0.2378      0.956      0.249      0.805      -1.685       2.160\n",
      "==============================================================================\n",
      "Omnibus:                        1.177   Durbin-Watson:                   2.068\n",
      "Prob(Omnibus):                  0.555   Jarque-Bera (JB):                0.762\n",
      "Skew:                           0.262   Prob(JB):                        0.683\n",
      "Kurtosis:                       3.104   Cond. No.                         23.0\n",
      "==============================================================================\n",
      "\n",
      "Notes:\n",
      "[1] Standard Errors assume that the covariance matrix of the errors is correctly specified.\n"
     ]
    }
   ],
   "source": [
    "print(ols_results.summary())"
   ]
  },
  {
   "cell_type": "markdown",
   "id": "80bea179",
   "metadata": {},
   "source": [
    "# New measurement:"
   ]
  },
  {
   "cell_type": "code",
   "execution_count": 65,
   "id": "42225b75",
   "metadata": {},
   "outputs": [],
   "source": [
    "#NPS = % promoters - % detractors"
   ]
  },
  {
   "cell_type": "code",
   "execution_count": 66,
   "id": "eb14d569",
   "metadata": {},
   "outputs": [
    {
     "data": {
      "text/plain": [
       "'\\nUsing our approach, there should be more promoters\\n\\nfor each experiment:\\n\\n    Calculate NPS score\\n\\n'"
      ]
     },
     "execution_count": 66,
     "metadata": {},
     "output_type": "execute_result"
    }
   ],
   "source": [
    "\"\"\"\n",
    "Using our approach, there should be more promoters\n",
    "\n",
    "for each experiment:\n",
    "\n",
    "    Calculate NPS score\n",
    "\n",
    "\"\"\""
   ]
  },
  {
   "cell_type": "code",
   "execution_count": null,
   "id": "dd57cd51",
   "metadata": {},
   "outputs": [],
   "source": []
  },
  {
   "cell_type": "code",
   "execution_count": null,
   "id": "1e8588cf",
   "metadata": {},
   "outputs": [],
   "source": []
  },
  {
   "cell_type": "code",
   "execution_count": null,
   "id": "8ef6f50f",
   "metadata": {},
   "outputs": [],
   "source": []
  },
  {
   "cell_type": "code",
   "execution_count": null,
   "id": "25283673",
   "metadata": {},
   "outputs": [],
   "source": []
  },
  {
   "cell_type": "code",
   "execution_count": null,
   "id": "6671ca2e",
   "metadata": {},
   "outputs": [],
   "source": []
  },
  {
   "cell_type": "code",
   "execution_count": null,
   "id": "3fbcc28d",
   "metadata": {},
   "outputs": [],
   "source": []
  },
  {
   "cell_type": "code",
   "execution_count": 69,
   "id": "f939f169",
   "metadata": {},
   "outputs": [
    {
     "data": {
      "text/plain": [
       "<matplotlib.legend.Legend at 0x1a41092adc0>"
      ]
     },
     "execution_count": 69,
     "metadata": {},
     "output_type": "execute_result"
    },
    {
     "data": {
      "image/png": "[encoded data removed]",
      "text/plain": [
       "<Figure size 1152x432 with 2 Axes>"
      ]
     },
     "metadata": {
      "needs_background": "light"
     },
     "output_type": "display_data"
    }
   ],
   "source": [
    "response = \"SIM_NPS\"\n",
    "\n",
    "fig, ax = plt.subplots(\n",
    "    nrows=1,\n",
    "    ncols=2, figsize=(16, 6))\n",
    "\n",
    "st = fig.suptitle(\"Simulated NPS performance for closed cases: Priority scheme vs. Number of agents\", fontsize=\"x-large\")\n",
    "\n",
    "\"\"\" divide to two plots\"\"\"\n",
    "\n",
    "width = 0.8\n",
    "linewidth = 1\n",
    "\n",
    "hue_order = [\"FCFS\",\"SRTF\",\"LRTF\",\"NPS\"]\n",
    "\n",
    "NONE = experiments.loc[experiments.F_hard_ceiling == \"NONE\"]\n",
    "\n",
    "sns.boxplot(x=NONE.F_number_of_agents,\n",
    "            y=NONE[response],\n",
    "            hue=NONE.F_priority_scheme,\n",
    "            hue_order = hue_order,\n",
    "            width=width,\n",
    "            dodge=True,\n",
    "            showfliers = False,\n",
    "            linewidth=linewidth,\n",
    "            whis=1.5,\n",
    "            ax=ax[0])\n",
    "\n",
    "\n",
    "SLA = experiments.loc[experiments.F_hard_ceiling == \"SLA\"]\n",
    "\n",
    "sns.boxplot(x=SLA.F_number_of_agents,\n",
    "            y=SLA[response],\n",
    "            hue=SLA.F_priority_scheme,\n",
    "            hue_order = hue_order,\n",
    "            width=width,\n",
    "            dodge=True,\n",
    "            showfliers = False,\n",
    "            linewidth=linewidth,\n",
    "            whis=1.5,\n",
    "            ax=ax[1])\n",
    "\n",
    "#fig.title(\"Simulated tNPS performance (after case completion)\")\n",
    "\n",
    "ax[0].set(ylabel='Simulated tNPS', xlabel='No hard ceiling', ylim=[-93,-83])\n",
    "ax[0].legend([],[], frameon=False)\n",
    "\n",
    "ax[1].set(ylabel='Simulated tNPS', xlabel='Hard ceiling = 2.5 days', ylim=[-93,-83])\n",
    "ax[1].legend(loc='lower right')\n"
   ]
  },
  {
   "cell_type": "code",
   "execution_count": null,
   "id": "6a5e630f",
   "metadata": {},
   "outputs": [],
   "source": []
  },
  {
   "cell_type": "code",
   "execution_count": null,
   "id": "41bb187d",
   "metadata": {},
   "outputs": [],
   "source": []
  }
 ],
 "metadata": {
  "kernelspec": {
   "display_name": "Python 3 (ipykernel)",
   "language": "python",
   "name": "python3"
  },
  "language_info": {
   "codemirror_mode": {
    "name": "ipython",
    "version": 3
   },
   "file_extension": ".py",
   "mimetype": "text/x-python",
   "name": "python",
   "nbconvert_exporter": "python",
   "pygments_lexer": "ipython3",
   "version": "3.8.13"
  }
 },
 "nbformat": 4,
 "nbformat_minor": 5
}
