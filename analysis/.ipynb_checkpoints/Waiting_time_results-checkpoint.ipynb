{
 "cells": [
  {
   "cell_type": "markdown",
   "id": "7bd1613d",
   "metadata": {},
   "source": [
    "# Study 1: Fit with existing data from salesforce"
   ]
  },
  {
   "cell_type": "code",
   "execution_count": 1,
   "id": "9334c201",
   "metadata": {},
   "outputs": [],
   "source": [
    "# No changes to the analysis here"
   ]
  },
  {
   "cell_type": "markdown",
   "id": "964d309c",
   "metadata": {},
   "source": [
    "# Study 2: Performance of proposed approaches"
   ]
  },
  {
   "cell_type": "code",
   "execution_count": 2,
   "id": "162b1d78",
   "metadata": {},
   "outputs": [],
   "source": [
    "import pandas as pd\n",
    "import numpy as np\n",
    "import statsmodels\n",
    "import seaborn as sns\n",
    "import scipy\n",
    "import matplotlib.pyplot as plt\n",
    "import seaborn as sns"
   ]
  },
  {
   "cell_type": "code",
   "execution_count": 3,
   "id": "9990708f",
   "metadata": {},
   "outputs": [
    {
     "data": {
      "text/html": [
       "<div>\n",
       "<style scoped>\n",
       "    .dataframe tbody tr th:only-of-type {\n",
       "        vertical-align: middle;\n",
       "    }\n",
       "\n",
       "    .dataframe tbody tr th {\n",
       "        vertical-align: top;\n",
       "    }\n",
       "\n",
       "    .dataframe thead th {\n",
       "        text-align: right;\n",
       "    }\n",
       "</style>\n",
       "<table border=\"1\" class=\"dataframe\">\n",
       "  <thead>\n",
       "    <tr style=\"text-align: right;\">\n",
       "      <th></th>\n",
       "      <th>F_priority_scheme</th>\n",
       "      <th>F_number_of_agents</th>\n",
       "      <th>burn_in</th>\n",
       "      <th>days</th>\n",
       "      <th>startdate</th>\n",
       "      <th>service_level</th>\n",
       "      <th>repetition</th>\n",
       "      <th>closed_avg_simulated_NPS</th>\n",
       "      <th>closed_avg_simulated_throughput_time</th>\n",
       "      <th>closed_avg_predicted_NPS</th>\n",
       "      <th>...</th>\n",
       "      <th>case_queued</th>\n",
       "      <th>cases_assigned_at_end</th>\n",
       "      <th>min_tracelen</th>\n",
       "      <th>max_tracelen</th>\n",
       "      <th>Simulation_duration_min</th>\n",
       "      <th>RUN</th>\n",
       "      <th>Done</th>\n",
       "      <th>all_avg_daily_queue_waitingtime</th>\n",
       "      <th>all_avg_n_cases_waiting_in_queue</th>\n",
       "      <th>all_avg_n_busy_agents</th>\n",
       "    </tr>\n",
       "  </thead>\n",
       "  <tbody>\n",
       "    <tr>\n",
       "      <th>0</th>\n",
       "      <td>FCFS</td>\n",
       "      <td>3</td>\n",
       "      <td>30</td>\n",
       "      <td>395</td>\n",
       "      <td>2018-07-01</td>\n",
       "      <td>2.5</td>\n",
       "      <td>0</td>\n",
       "      <td>8.876113</td>\n",
       "      <td>111.208746</td>\n",
       "      <td>10.137230</td>\n",
       "      <td>...</td>\n",
       "      <td>472</td>\n",
       "      <td>299</td>\n",
       "      <td>1</td>\n",
       "      <td>12</td>\n",
       "      <td>-1</td>\n",
       "      <td>0</td>\n",
       "      <td>0</td>\n",
       "      <td>55.876835</td>\n",
       "      <td>230.173077</td>\n",
       "      <td>3.0</td>\n",
       "    </tr>\n",
       "    <tr>\n",
       "      <th>1</th>\n",
       "      <td>SRTF</td>\n",
       "      <td>3</td>\n",
       "      <td>30</td>\n",
       "      <td>395</td>\n",
       "      <td>2018-07-01</td>\n",
       "      <td>2.5</td>\n",
       "      <td>0</td>\n",
       "      <td>8.571375</td>\n",
       "      <td>27.976574</td>\n",
       "      <td>10.154545</td>\n",
       "      <td>...</td>\n",
       "      <td>426</td>\n",
       "      <td>290</td>\n",
       "      <td>1</td>\n",
       "      <td>14</td>\n",
       "      <td>-1</td>\n",
       "      <td>1</td>\n",
       "      <td>0</td>\n",
       "      <td>97.044512</td>\n",
       "      <td>225.618132</td>\n",
       "      <td>3.0</td>\n",
       "    </tr>\n",
       "    <tr>\n",
       "      <th>2</th>\n",
       "      <td>LRTF</td>\n",
       "      <td>3</td>\n",
       "      <td>30</td>\n",
       "      <td>395</td>\n",
       "      <td>2018-07-01</td>\n",
       "      <td>2.5</td>\n",
       "      <td>0</td>\n",
       "      <td>8.828545</td>\n",
       "      <td>13.116466</td>\n",
       "      <td>10.102700</td>\n",
       "      <td>...</td>\n",
       "      <td>467</td>\n",
       "      <td>278</td>\n",
       "      <td>1</td>\n",
       "      <td>10</td>\n",
       "      <td>-1</td>\n",
       "      <td>2</td>\n",
       "      <td>0</td>\n",
       "      <td>94.945852</td>\n",
       "      <td>253.296703</td>\n",
       "      <td>3.0</td>\n",
       "    </tr>\n",
       "    <tr>\n",
       "      <th>3</th>\n",
       "      <td>NPS</td>\n",
       "      <td>3</td>\n",
       "      <td>30</td>\n",
       "      <td>395</td>\n",
       "      <td>2018-07-01</td>\n",
       "      <td>2.5</td>\n",
       "      <td>0</td>\n",
       "      <td>9.170859</td>\n",
       "      <td>15.702605</td>\n",
       "      <td>10.100688</td>\n",
       "      <td>...</td>\n",
       "      <td>403</td>\n",
       "      <td>296</td>\n",
       "      <td>1</td>\n",
       "      <td>14</td>\n",
       "      <td>-1</td>\n",
       "      <td>3</td>\n",
       "      <td>0</td>\n",
       "      <td>106.211070</td>\n",
       "      <td>234.923077</td>\n",
       "      <td>3.0</td>\n",
       "    </tr>\n",
       "    <tr>\n",
       "      <th>4</th>\n",
       "      <td>NPS-SLA</td>\n",
       "      <td>3</td>\n",
       "      <td>30</td>\n",
       "      <td>395</td>\n",
       "      <td>2018-07-01</td>\n",
       "      <td>2.5</td>\n",
       "      <td>0</td>\n",
       "      <td>8.974775</td>\n",
       "      <td>146.266895</td>\n",
       "      <td>10.132725</td>\n",
       "      <td>...</td>\n",
       "      <td>518</td>\n",
       "      <td>252</td>\n",
       "      <td>1</td>\n",
       "      <td>13</td>\n",
       "      <td>-1</td>\n",
       "      <td>4</td>\n",
       "      <td>0</td>\n",
       "      <td>66.872626</td>\n",
       "      <td>286.162088</td>\n",
       "      <td>3.0</td>\n",
       "    </tr>\n",
       "  </tbody>\n",
       "</table>\n",
       "<p>5 rows × 35 columns</p>\n",
       "</div>"
      ],
      "text/plain": [
       "  F_priority_scheme  F_number_of_agents  burn_in  days   startdate  \\\n",
       "0              FCFS                   3       30   395  2018-07-01   \n",
       "1              SRTF                   3       30   395  2018-07-01   \n",
       "2              LRTF                   3       30   395  2018-07-01   \n",
       "3               NPS                   3       30   395  2018-07-01   \n",
       "4           NPS-SLA                   3       30   395  2018-07-01   \n",
       "\n",
       "   service_level  repetition  closed_avg_simulated_NPS  \\\n",
       "0            2.5           0                  8.876113   \n",
       "1            2.5           0                  8.571375   \n",
       "2            2.5           0                  8.828545   \n",
       "3            2.5           0                  9.170859   \n",
       "4            2.5           0                  8.974775   \n",
       "\n",
       "   closed_avg_simulated_throughput_time  closed_avg_predicted_NPS  ...  \\\n",
       "0                            111.208746                 10.137230  ...   \n",
       "1                             27.976574                 10.154545  ...   \n",
       "2                             13.116466                 10.102700  ...   \n",
       "3                             15.702605                 10.100688  ...   \n",
       "4                            146.266895                 10.132725  ...   \n",
       "\n",
       "   case_queued  cases_assigned_at_end  min_tracelen  max_tracelen  \\\n",
       "0          472                    299             1            12   \n",
       "1          426                    290             1            14   \n",
       "2          467                    278             1            10   \n",
       "3          403                    296             1            14   \n",
       "4          518                    252             1            13   \n",
       "\n",
       "   Simulation_duration_min  RUN  Done  all_avg_daily_queue_waitingtime  \\\n",
       "0                       -1    0     0                        55.876835   \n",
       "1                       -1    1     0                        97.044512   \n",
       "2                       -1    2     0                        94.945852   \n",
       "3                       -1    3     0                       106.211070   \n",
       "4                       -1    4     0                        66.872626   \n",
       "\n",
       "   all_avg_n_cases_waiting_in_queue  all_avg_n_busy_agents  \n",
       "0                        230.173077                    3.0  \n",
       "1                        225.618132                    3.0  \n",
       "2                        253.296703                    3.0  \n",
       "3                        234.923077                    3.0  \n",
       "4                        286.162088                    3.0  \n",
       "\n",
       "[5 rows x 35 columns]"
      ]
     },
     "execution_count": 3,
     "metadata": {},
     "output_type": "execute_result"
    }
   ],
   "source": [
    "experiments = pd.read_csv(\"../results/experiments.csv\")\n",
    "experiments.head()"
   ]
  },
  {
   "cell_type": "code",
   "execution_count": 4,
   "id": "162c942b",
   "metadata": {},
   "outputs": [
    {
     "data": {
      "text/plain": [
       "{'F_priority_scheme': 'FCFS',\n",
       " 'F_number_of_agents': 3,\n",
       " 'burn_in': 30,\n",
       " 'days': 395,\n",
       " 'startdate': '2018-07-01',\n",
       " 'service_level': 2.5,\n",
       " 'repetition': 0,\n",
       " 'closed_avg_simulated_NPS': 8.876112636885566,\n",
       " 'closed_avg_simulated_throughput_time': 111.2087463835398,\n",
       " 'closed_avg_predicted_NPS': 10.137230040605198,\n",
       " 'closed_avg_predicted_throughput_time': 1.508562145860066,\n",
       " 'closed_avg_predicted_NPS_priority': 2.637230040605202,\n",
       " 'closed_avg_initial_delay': 107.56504333858712,\n",
       " 'closed_avg_activity_start_delay': 0.4134078497038624,\n",
       " 'closed_avg_duration_delayed': 0.4134078497038624,\n",
       " 'all_avg_simulated_NPS': 8.860451478614031,\n",
       " 'all_avg_simulated_throughput_time': 111.65556438778364,\n",
       " 'all_avg_predicted_NPS': 10.137113623761511,\n",
       " 'all_avg_predicted_throughput_time': 1.5119876236474248,\n",
       " 'all_avg_predicted_NPS_priority': 2.6371136237615147,\n",
       " 'all_avg_initial_delay': 107.16724362209828,\n",
       " 'all_avg_activity_start_delay': 0.4143965483388608,\n",
       " 'all_avg_duration_delayed': 0.4143965483388608,\n",
       " 'cases_arrived': 772,\n",
       " 'cases_closed': 297,\n",
       " 'case_queued': 472,\n",
       " 'cases_assigned_at_end': 299,\n",
       " 'min_tracelen': 1,\n",
       " 'max_tracelen': 12,\n",
       " 'Simulation_duration_min': -1,\n",
       " 'RUN': 0,\n",
       " 'Done': 0,\n",
       " 'all_avg_daily_queue_waitingtime': 55.87683510815532,\n",
       " 'all_avg_n_cases_waiting_in_queue': 230.17307692307693,\n",
       " 'all_avg_n_busy_agents': 3.0}"
      ]
     },
     "execution_count": 4,
     "metadata": {},
     "output_type": "execute_result"
    }
   ],
   "source": [
    "experiments.loc[0].to_dict()"
   ]
  },
  {
   "cell_type": "markdown",
   "id": "f01c62ca",
   "metadata": {},
   "source": [
    "# Calculate average queue waiting time"
   ]
  },
  {
   "cell_type": "code",
   "execution_count": 5,
   "id": "acf7429c",
   "metadata": {},
   "outputs": [],
   "source": [
    "runs = []\n",
    "for i in list(range(0,int(np.max(experiments.RUN)))):\n",
    "    \n",
    "    # load a single run\n",
    "    df = pd.read_csv(\"../results/\"+str(i)+\"/\"+str(i)+\"_timeseries.csv\")\n",
    "    \n",
    "    # mark it with specs\n",
    "    specs = experiments.loc[i].to_dict()\n",
    "    \n",
    "    df[\"F_priority_scheme\"] = specs[\"F_priority_scheme\"]\n",
    "    df[\"F_number_of_agents\"] = specs[\"F_number_of_agents\"]\n",
    "    df[\"repetition\"] = specs[\"repetition\"]\n",
    "    df[\"RUN\"] = specs[\"RUN\"]\n",
    "    \n",
    "    # add it to a list\n",
    "    runs.append(df)\n",
    "    \n",
    "    \"\"\"\n",
    "    \"\"\"\n",
    "    experiments.at[i, 'all_avg_daily_queue_waitingtime'] = np.mean(df[\"avg_current_queue_waitingtime\"])\n",
    "    experiments.at[i, 'all_avg_n_cases_waiting_in_queue'] = np.mean(df[\"n_cases_waiting_in_queue\"])\n",
    "    experiments.at[i, 'all_avg_n_busy_agents'] = np.mean(df[\"n_busy_agents\"])\n",
    "    experiments.at[i, 'all_n_cases_closed_total'] = np.max(df[\"n_busy_agents\"])\n",
    "    experiments.at[i, 'all_agent_utilization'] = np.mean(df[\"n_agents\"]/df[\"n_busy_agents\"])\n",
    "    \n",
    "all_runs = pd.concat(runs)"
   ]
  },
  {
   "cell_type": "code",
   "execution_count": 6,
   "id": "0f9339f1",
   "metadata": {},
   "outputs": [
    {
     "data": {
      "text/plain": [
       "{'day': {0: 0},\n",
       " 'n_cases_caseDB': {0: 860},\n",
       " 'n_cases_future_arrival': {0: 860},\n",
       " 'n_cases_arrived': {0: 0},\n",
       " 'n_cases_waiting_in_queue': {0: 0},\n",
       " 'n_cases_in_process': {0: 0},\n",
       " 'n_cases_assigned_total': {0: 0},\n",
       " 'n_cases_closed_total': {0: 0},\n",
       " 'n_agents': {0: 12},\n",
       " 'n_busy_agents': {0: 0},\n",
       " 'avg_current_queue_waitingtime': {0: 0.0},\n",
       " 'min_current_queue_waitingtime': {0: 0.0},\n",
       " 'max_current_queue_waitingtime': {0: 0.0},\n",
       " 'median_current_queue_waitingtime': {0: 0.0},\n",
       " 'burn_in_period': {0: True},\n",
       " 'F_priority_scheme': {0: 'NPS'},\n",
       " 'F_number_of_agents': {0: 12},\n",
       " 'repetition': {0: 9},\n",
       " 'RUN': {0: 198}}"
      ]
     },
     "execution_count": 6,
     "metadata": {},
     "output_type": "execute_result"
    }
   ],
   "source": [
    "all_runs.loc[0].to_dict()"
   ]
  },
  {
   "cell_type": "markdown",
   "id": "23e0dfdd",
   "metadata": {},
   "source": [
    "# Effects on waiting time"
   ]
  },
  {
   "cell_type": "code",
   "execution_count": 7,
   "id": "a7ab550d",
   "metadata": {},
   "outputs": [
    {
     "data": {
      "text/plain": [
       "Index(['F_priority_scheme', 'F_number_of_agents', 'burn_in', 'days',\n",
       "       'startdate', 'service_level', 'repetition', 'closed_avg_simulated_NPS',\n",
       "       'closed_avg_simulated_throughput_time', 'closed_avg_predicted_NPS',\n",
       "       'closed_avg_predicted_throughput_time',\n",
       "       'closed_avg_predicted_NPS_priority', 'closed_avg_initial_delay',\n",
       "       'closed_avg_activity_start_delay', 'closed_avg_duration_delayed',\n",
       "       'all_avg_simulated_NPS', 'all_avg_simulated_throughput_time',\n",
       "       'all_avg_predicted_NPS', 'all_avg_predicted_throughput_time',\n",
       "       'all_avg_predicted_NPS_priority', 'all_avg_initial_delay',\n",
       "       'all_avg_activity_start_delay', 'all_avg_duration_delayed',\n",
       "       'cases_arrived', 'cases_closed', 'case_queued', 'cases_assigned_at_end',\n",
       "       'min_tracelen', 'max_tracelen', 'Simulation_duration_min', 'RUN',\n",
       "       'Done', 'all_avg_daily_queue_waitingtime',\n",
       "       'all_avg_n_cases_waiting_in_queue', 'all_avg_n_busy_agents',\n",
       "       'all_n_cases_closed_total', 'all_agent_utilization'],\n",
       "      dtype='object')"
      ]
     },
     "execution_count": 7,
     "metadata": {},
     "output_type": "execute_result"
    }
   ],
   "source": [
    "experiments.columns"
   ]
  },
  {
   "cell_type": "code",
   "execution_count": 8,
   "id": "775853c5",
   "metadata": {},
   "outputs": [
    {
     "data": {
      "text/html": [
       "<div>\n",
       "<style scoped>\n",
       "    .dataframe tbody tr th:only-of-type {\n",
       "        vertical-align: middle;\n",
       "    }\n",
       "\n",
       "    .dataframe tbody tr th {\n",
       "        vertical-align: top;\n",
       "    }\n",
       "\n",
       "    .dataframe thead th {\n",
       "        text-align: right;\n",
       "    }\n",
       "</style>\n",
       "<table border=\"1\" class=\"dataframe\">\n",
       "  <thead>\n",
       "    <tr style=\"text-align: right;\">\n",
       "      <th></th>\n",
       "      <th></th>\n",
       "      <th>all_avg_daily_queue_waitingtime</th>\n",
       "    </tr>\n",
       "    <tr>\n",
       "      <th>F_priority_scheme</th>\n",
       "      <th>F_number_of_agents</th>\n",
       "      <th></th>\n",
       "    </tr>\n",
       "  </thead>\n",
       "  <tbody>\n",
       "    <tr>\n",
       "      <th rowspan=\"4\" valign=\"top\">FCFS</th>\n",
       "      <th>3</th>\n",
       "      <td>58.331909</td>\n",
       "    </tr>\n",
       "    <tr>\n",
       "      <th>6</th>\n",
       "      <td>22.908430</td>\n",
       "    </tr>\n",
       "    <tr>\n",
       "      <th>9</th>\n",
       "      <td>0.809313</td>\n",
       "    </tr>\n",
       "    <tr>\n",
       "      <th>12</th>\n",
       "      <td>0.045982</td>\n",
       "    </tr>\n",
       "    <tr>\n",
       "      <th rowspan=\"4\" valign=\"top\">LRTF</th>\n",
       "      <th>3</th>\n",
       "      <td>91.712769</td>\n",
       "    </tr>\n",
       "    <tr>\n",
       "      <th>6</th>\n",
       "      <td>74.806484</td>\n",
       "    </tr>\n",
       "    <tr>\n",
       "      <th>9</th>\n",
       "      <td>2.051787</td>\n",
       "    </tr>\n",
       "    <tr>\n",
       "      <th>12</th>\n",
       "      <td>0.105982</td>\n",
       "    </tr>\n",
       "    <tr>\n",
       "      <th rowspan=\"4\" valign=\"top\">NPS</th>\n",
       "      <th>3</th>\n",
       "      <td>91.552503</td>\n",
       "    </tr>\n",
       "    <tr>\n",
       "      <th>6</th>\n",
       "      <td>76.500061</td>\n",
       "    </tr>\n",
       "    <tr>\n",
       "      <th>9</th>\n",
       "      <td>4.157149</td>\n",
       "    </tr>\n",
       "    <tr>\n",
       "      <th>12</th>\n",
       "      <td>0.052625</td>\n",
       "    </tr>\n",
       "    <tr>\n",
       "      <th rowspan=\"4\" valign=\"top\">NPS-SLA</th>\n",
       "      <th>3</th>\n",
       "      <td>58.589350</td>\n",
       "    </tr>\n",
       "    <tr>\n",
       "      <th>6</th>\n",
       "      <td>19.345474</td>\n",
       "    </tr>\n",
       "    <tr>\n",
       "      <th>9</th>\n",
       "      <td>1.112494</td>\n",
       "    </tr>\n",
       "    <tr>\n",
       "      <th>12</th>\n",
       "      <td>0.043086</td>\n",
       "    </tr>\n",
       "    <tr>\n",
       "      <th rowspan=\"4\" valign=\"top\">SRTF</th>\n",
       "      <th>3</th>\n",
       "      <td>89.656141</td>\n",
       "    </tr>\n",
       "    <tr>\n",
       "      <th>6</th>\n",
       "      <td>57.732345</td>\n",
       "    </tr>\n",
       "    <tr>\n",
       "      <th>9</th>\n",
       "      <td>2.410779</td>\n",
       "    </tr>\n",
       "    <tr>\n",
       "      <th>12</th>\n",
       "      <td>0.053178</td>\n",
       "    </tr>\n",
       "  </tbody>\n",
       "</table>\n",
       "</div>"
      ],
      "text/plain": [
       "                                      all_avg_daily_queue_waitingtime\n",
       "F_priority_scheme F_number_of_agents                                 \n",
       "FCFS              3                                         58.331909\n",
       "                  6                                         22.908430\n",
       "                  9                                          0.809313\n",
       "                  12                                         0.045982\n",
       "LRTF              3                                         91.712769\n",
       "                  6                                         74.806484\n",
       "                  9                                          2.051787\n",
       "                  12                                         0.105982\n",
       "NPS               3                                         91.552503\n",
       "                  6                                         76.500061\n",
       "                  9                                          4.157149\n",
       "                  12                                         0.052625\n",
       "NPS-SLA           3                                         58.589350\n",
       "                  6                                         19.345474\n",
       "                  9                                          1.112494\n",
       "                  12                                         0.043086\n",
       "SRTF              3                                         89.656141\n",
       "                  6                                         57.732345\n",
       "                  9                                          2.410779\n",
       "                  12                                         0.053178"
      ]
     },
     "execution_count": 8,
     "metadata": {},
     "output_type": "execute_result"
    }
   ],
   "source": [
    " #Crosstab AE by trace length\n",
    "    \n",
    "response = \"all_avg_daily_queue_waitingtime\"\n",
    "\n",
    "factors = [\"F_priority_scheme\",\"F_number_of_agents\"]\n",
    "    \n",
    "pivottable = pd.pivot_table(experiments, \n",
    "                            values=response,\n",
    "                            columns=factors, \n",
    "                            aggfunc=np.mean).T\n",
    "\n",
    "#pivottable = pivottable.reset_index()\n",
    "\n",
    "pivottable"
   ]
  },
  {
   "cell_type": "code",
   "execution_count": 9,
   "id": "7ba42dc0",
   "metadata": {},
   "outputs": [
    {
     "name": "stdout",
     "output_type": "stream",
     "text": [
      "\\begin{tabular}{|l|l|r|}\n",
      "\\hline\n",
      "     &    &  all\\_avg\\_daily\\_queue\\_waitingtime \\\\\n",
      "Priority scheme & Number of agents &                                  \\\\\n",
      "\\hline\n",
      "FCFS & 3  &                        58.331909 \\\\\n",
      "     & 6  &                        22.908430 \\\\\n",
      "     & 9  &                         0.809313 \\\\\n",
      "     & 12 &                         0.045982 \\\\\n",
      "LRTF & 3  &                        91.712769 \\\\\n",
      "     & 6  &                        74.806484 \\\\\n",
      "     & 9  &                         2.051787 \\\\\n",
      "     & 12 &                         0.105982 \\\\\n",
      "NPS & 3  &                        91.552503 \\\\\n",
      "     & 6  &                        76.500061 \\\\\n",
      "     & 9  &                         4.157149 \\\\\n",
      "     & 12 &                         0.052625 \\\\\n",
      "NPS-SLA & 3  &                        58.589350 \\\\\n",
      "     & 6  &                        19.345474 \\\\\n",
      "     & 9  &                         1.112494 \\\\\n",
      "     & 12 &                         0.043086 \\\\\n",
      "SRTF & 3  &                        89.656141 \\\\\n",
      "     & 6  &                        57.732345 \\\\\n",
      "     & 9  &                         2.410779 \\\\\n",
      "     & 12 &                         0.053178 \\\\\n",
      "\\hline\n",
      "\\end{tabular}\n",
      "\n"
     ]
    },
    {
     "name": "stderr",
     "output_type": "stream",
     "text": [
      "C:\\Users\\Mike\\AppData\\Local\\Temp\\ipykernel_16676\\1350266391.py:1: FutureWarning: In future versions `DataFrame.to_latex` is expected to utilise the base implementation of `Styler.to_latex` for formatting and rendering. The arguments signature may therefore change. It is recommended instead to use `DataFrame.style.to_latex` which also contains additional functionality.\n",
      "  string = str((pivottable.to_latex(index=True)))\n"
     ]
    }
   ],
   "source": [
    "\n",
    "\n",
    "string = str((pivottable.to_latex(index=True)))\n",
    "string = string.replace('!', '$\\pm$')\n",
    "\n",
    "string = string.replace(\"toprule\",\"hline\")\n",
    "string = string.replace(\"midrule\",\"hline\")\n",
    "string = string.replace(\"bottomrule\",\"hline\") #\n",
    "\n",
    "string = string.replace(\"MAE           &\",\"$MAE$           &\")\n",
    "string = string.replace(\"MAE\\_Etd\",\"$MAE_{EtD}$\")\n",
    "string = string.replace(\"MAE\\_Mtd\",\"$MAE_{MtD}$\")\n",
    "string = string.replace(\"MAE\\_Ptd\",\"$MAE_{PtD}$\")\n",
    "\n",
    "string = string.replace(\"llr\",\"|l|l|r|\")\n",
    "\n",
    "string = string.replace(\"data\",\"Loss function\")\n",
    "\n",
    "string = string.replace(\"loss\\_function &             &              &               &                  \\\\\",\"\")\n",
    "\n",
    "string = string.replace('F\\_number\\_of\\_agents', 'Number of agents')\n",
    "string = string.replace('F\\_priority\\_scheme', 'Priority scheme')\n",
    "string = string.replace('closed\\_avg\\_simulated\\_NPS', 'Simulated tNPS')\n",
    "\n",
    "pivottable\n",
    "print(string)"
   ]
  },
  {
   "cell_type": "code",
   "execution_count": null,
   "id": "a56715cd",
   "metadata": {},
   "outputs": [],
   "source": []
  },
  {
   "cell_type": "code",
   "execution_count": null,
   "id": "9b09dff1",
   "metadata": {},
   "outputs": [],
   "source": []
  },
  {
   "cell_type": "code",
   "execution_count": 10,
   "id": "38bd4d9d",
   "metadata": {},
   "outputs": [
    {
     "data": {
      "image/png": "[encoded data removed]",
      "text/plain": [
       "<Figure size 1152x720 with 1 Axes>"
      ]
     },
     "metadata": {
      "needs_background": "light"
     },
     "output_type": "display_data"
    }
   ],
   "source": [
    "fig = plt.figure(figsize=(16, 10))\n",
    "\n",
    "sns.boxplot(x=experiments.F_number_of_agents,\n",
    "            y=experiments[response],\n",
    "            hue=experiments.F_priority_scheme,\n",
    "            #hue_order = hue_order,\n",
    "            width=0.8,\n",
    "            dodge=True,\n",
    "            showfliers = False,\n",
    "            linewidth=1,\n",
    "            whis=1.5)\n",
    "\n",
    "plt.xlabel(\"Number of agents\")\n",
    "plt.ylabel(\"Queue waiting time in days\")\n",
    "\n",
    "plt.title(\"Queue waiting time performance\")\n",
    "\n",
    "\n",
    "plt.savefig(\"WT_performance_all.png\", dpi=200, bbox_inches = \"tight\")\n",
    "\n",
    "plt.show()"
   ]
  },
  {
   "cell_type": "code",
   "execution_count": 12,
   "id": "40a9fba7",
   "metadata": {},
   "outputs": [
    {
     "data": {
      "image/png": "[encoded data removed]",
      "text/plain": [
       "<Figure size 1152x720 with 1 Axes>"
      ]
     },
     "metadata": {
      "needs_background": "light"
     },
     "output_type": "display_data"
    }
   ],
   "source": [
    "subset = experiments.loc[experiments.F_number_of_agents ==12]\n",
    "\n",
    "fig = plt.figure(figsize=(16, 10))\n",
    "\n",
    "sns.boxplot(x=subset.F_number_of_agents,\n",
    "            y=subset[response],\n",
    "            hue=subset.F_priority_scheme,\n",
    "            #hue_order = hue_order,\n",
    "            width=0.8,\n",
    "            dodge=True,\n",
    "            showfliers = False,\n",
    "            linewidth=1,\n",
    "            whis=1.5)\n",
    "\n",
    "plt.xlabel(\"Number of agents\")\n",
    "plt.ylabel(\"Queue waiting time in days\")\n",
    "\n",
    "plt.title(\"Queue waiting time performance\")\n",
    "\n",
    "\n",
    "#plt.savefig(\"WT_performance_all.png\", dpi=200, bbox_inches = \"tight\")\n",
    "\n",
    "plt.show()"
   ]
  },
  {
   "cell_type": "markdown",
   "id": "2b575a0b",
   "metadata": {},
   "source": [
    "# GLM: Gammra regression"
   ]
  },
  {
   "cell_type": "code",
   "execution_count": 13,
   "id": "2f180aac",
   "metadata": {},
   "outputs": [],
   "source": [
    "import statsmodels.api as sm\n",
    "#https://www.statsmodels.org/stable/glm.html"
   ]
  },
  {
   "cell_type": "code",
   "execution_count": 14,
   "id": "4d464fcd",
   "metadata": {},
   "outputs": [],
   "source": [
    "#sm.GLM()"
   ]
  },
  {
   "cell_type": "code",
   "execution_count": 15,
   "id": "0e8671e5",
   "metadata": {},
   "outputs": [
    {
     "data": {
      "text/plain": [
       "Index(['F_priority_scheme', 'F_number_of_agents', 'burn_in', 'days',\n",
       "       'startdate', 'service_level', 'repetition', 'closed_avg_simulated_NPS',\n",
       "       'closed_avg_simulated_throughput_time', 'closed_avg_predicted_NPS',\n",
       "       'closed_avg_predicted_throughput_time',\n",
       "       'closed_avg_predicted_NPS_priority', 'closed_avg_initial_delay',\n",
       "       'closed_avg_activity_start_delay', 'closed_avg_duration_delayed',\n",
       "       'all_avg_simulated_NPS', 'all_avg_simulated_throughput_time',\n",
       "       'all_avg_predicted_NPS', 'all_avg_predicted_throughput_time',\n",
       "       'all_avg_predicted_NPS_priority', 'all_avg_initial_delay',\n",
       "       'all_avg_activity_start_delay', 'all_avg_duration_delayed',\n",
       "       'cases_arrived', 'cases_closed', 'case_queued', 'cases_assigned_at_end',\n",
       "       'min_tracelen', 'max_tracelen', 'Simulation_duration_min', 'RUN',\n",
       "       'Done', 'all_avg_daily_queue_waitingtime',\n",
       "       'all_avg_n_cases_waiting_in_queue', 'all_avg_n_busy_agents',\n",
       "       'all_n_cases_closed_total', 'all_agent_utilization'],\n",
       "      dtype='object')"
      ]
     },
     "execution_count": 15,
     "metadata": {},
     "output_type": "execute_result"
    }
   ],
   "source": [
    "experiments.columns"
   ]
  },
  {
   "cell_type": "code",
   "execution_count": 16,
   "id": "4aff1414",
   "metadata": {},
   "outputs": [],
   "source": [
    "experiments[\"F_priority_scheme\"] = experiments.F_priority_scheme.astype('category')\n",
    "experiments[\"F_number_of_agents\"] = experiments.F_number_of_agents.astype('category')"
   ]
  },
  {
   "cell_type": "code",
   "execution_count": 17,
   "id": "8155c0ce",
   "metadata": {},
   "outputs": [],
   "source": [
    "formula = \"all_avg_daily_queue_waitingtime ~ F_number_of_agents + F_priority_scheme + F_number_of_agents*F_priority_scheme\""
   ]
  },
  {
   "cell_type": "code",
   "execution_count": 18,
   "id": "5c7f16b5",
   "metadata": {},
   "outputs": [
    {
     "name": "stderr",
     "output_type": "stream",
     "text": [
      "C:\\Users\\Mike\\anaconda3\\envs\\PPM-RT-MODEL\\lib\\site-packages\\statsmodels\\genmod\\generalized_linear_model.py:298: DomainWarning: The inverse_power link function does not respect the domain of the Gamma family.\n",
      "  warnings.warn((f\"The {type(family.link).__name__} link function \"\n"
     ]
    }
   ],
   "source": [
    "import statsmodels.api as sm\n",
    "import statsmodels.formula.api as smf\n",
    "\n",
    "\"\"\"\n",
    "[statsmodels.genmod.families.links.Log,\n",
    " statsmodels.genmod.families.links.identity,\n",
    " statsmodels.genmod.families.links.inverse_power]\n",
    "\"\"\"\n",
    "link_fx = statsmodels.genmod.families.links.inverse_power()\n",
    "\n",
    "#Instantiate a gamma family model with the default link function.\n",
    "gamma_model = smf.glm(formula=formula, data=experiments, family=sm.families.Gamma(link_fx))"
   ]
  },
  {
   "cell_type": "code",
   "execution_count": 19,
   "id": "79e179af",
   "metadata": {},
   "outputs": [],
   "source": [
    "gamma_results = gamma_model.fit()"
   ]
  },
  {
   "cell_type": "code",
   "execution_count": 20,
   "id": "280ffb3f",
   "metadata": {},
   "outputs": [
    {
     "name": "stdout",
     "output_type": "stream",
     "text": [
      "                        Generalized Linear Model Regression Results                        \n",
      "===========================================================================================\n",
      "Dep. Variable:     all_avg_daily_queue_waitingtime   No. Observations:                  200\n",
      "Model:                                         GLM   Df Residuals:                      180\n",
      "Model Family:                                Gamma   Df Model:                           19\n",
      "Link Function:                       inverse_power   Scale:                         0.45285\n",
      "Method:                                       IRLS   Log-Likelihood:                -441.70\n",
      "Date:                             Mon, 30 Jan 2023   Deviance:                       64.916\n",
      "Time:                                     10:17:48   Pearson chi2:                     81.5\n",
      "No. Iterations:                                 15   Pseudo R-squ. (CS):             0.9999\n",
      "Covariance Type:                         nonrobust                                         \n",
      "=========================================================================================================================\n",
      "                                                            coef    std err          z      P>|z|      [0.025      0.975]\n",
      "-------------------------------------------------------------------------------------------------------------------------\n",
      "Intercept                                                 0.0171      0.004      4.699      0.000       0.010       0.024\n",
      "F_number_of_agents[T.6]                                   0.0265      0.010      2.656      0.008       0.007       0.046\n",
      "F_number_of_agents[T.9]                                   1.2185      0.263      4.634      0.000       0.703       1.734\n",
      "F_number_of_agents[T.12]                                 21.7307      4.628      4.695      0.000      12.660      30.801\n",
      "F_priority_scheme[T.LRTF]                                -0.0062      0.004     -1.443      0.149      -0.015       0.002\n",
      "F_priority_scheme[T.NPS]                                 -0.0062      0.004     -1.438      0.150      -0.015       0.002\n",
      "F_priority_scheme[T.NPS-SLA]                          -7.533e-05      0.005     -0.015      0.988      -0.010       0.010\n",
      "F_priority_scheme[T.SRTF]                                -0.0060      0.004     -1.376      0.169      -0.015       0.003\n",
      "F_number_of_agents[T.6]:F_priority_scheme[T.LRTF]        -0.0240      0.011     -2.261      0.024      -0.045      -0.003\n",
      "F_number_of_agents[T.9]:F_priority_scheme[T.LRTF]        -0.7420      0.283     -2.625      0.009      -1.296      -0.188\n",
      "F_number_of_agents[T.12]:F_priority_scheme[T.LRTF]      -12.3060      5.045     -2.439      0.015     -22.194      -2.418\n",
      "F_number_of_agents[T.6]:F_priority_scheme[T.NPS]         -0.0244      0.011     -2.294      0.022      -0.045      -0.004\n",
      "F_number_of_agents[T.9]:F_priority_scheme[T.NPS]         -0.9888      0.268     -3.691      0.000      -1.514      -0.464\n",
      "F_number_of_agents[T.12]:F_priority_scheme[T.NPS]        -2.7392      6.146     -0.446      0.656     -14.785       9.306\n",
      "F_number_of_agents[T.6]:F_priority_scheme[T.NPS-SLA]      0.0081      0.015      0.531      0.596      -0.022       0.038\n",
      "F_number_of_agents[T.9]:F_priority_scheme[T.NPS-SLA]     -0.3367      0.325     -1.035      0.301      -0.974       0.301\n",
      "F_number_of_agents[T.12]:F_priority_scheme[T.NPS-SLA]     1.4617      6.769      0.216      0.829     -11.804      14.728\n",
      "F_number_of_agents[T.6]:F_priority_scheme[T.SRTF]        -0.0203      0.011     -1.866      0.062      -0.042       0.001\n",
      "F_number_of_agents[T.9]:F_priority_scheme[T.SRTF]        -0.8148      0.277     -2.937      0.003      -1.359      -0.271\n",
      "F_number_of_agents[T.12]:F_priority_scheme[T.SRTF]       -2.9373      6.118     -0.480      0.631     -14.929       9.054\n",
      "=========================================================================================================================\n"
     ]
    }
   ],
   "source": [
    "print(gamma_results.summary())"
   ]
  },
  {
   "cell_type": "markdown",
   "id": "b546e391",
   "metadata": {},
   "source": [
    "# Waiting time for closed cases"
   ]
  },
  {
   "cell_type": "code",
   "execution_count": 21,
   "id": "dae1d380",
   "metadata": {},
   "outputs": [],
   "source": [
    "response = \"closed_avg_initial_delay\""
   ]
  },
  {
   "cell_type": "code",
   "execution_count": 22,
   "id": "d8fef0e2",
   "metadata": {},
   "outputs": [
    {
     "data": {
      "image/png": "[encoded data removed]",
      "text/plain": [
       "<Figure size 1152x720 with 1 Axes>"
      ]
     },
     "metadata": {
      "needs_background": "light"
     },
     "output_type": "display_data"
    }
   ],
   "source": [
    "fig = plt.figure(figsize=(16, 10))\n",
    "\n",
    "sns.boxplot(x=experiments.F_number_of_agents,\n",
    "            y=experiments[response],\n",
    "            hue=experiments.F_priority_scheme,\n",
    "            #hue_order = hue_order,\n",
    "            width=0.8,\n",
    "            dodge=True,\n",
    "            showfliers = False,\n",
    "            linewidth=1,\n",
    "            whis=1.5)\n",
    "\n",
    "plt.xlabel(\"Number of agents\")\n",
    "plt.ylabel(\"Average waiting time in days\")\n",
    "\n",
    "plt.title(\"Waiting time performance (closed cases)\")\n",
    "\n",
    "\n",
    "plt.savefig(\"WT_performance_closed.png\", dpi=200, bbox_inches = \"tight\")\n",
    "\n",
    "plt.show()"
   ]
  },
  {
   "cell_type": "code",
   "execution_count": null,
   "id": "33507bee",
   "metadata": {},
   "outputs": [],
   "source": []
  }
 ],
 "metadata": {
  "kernelspec": {
   "display_name": "Python 3 (ipykernel)",
   "language": "python",
   "name": "python3"
  },
  "language_info": {
   "codemirror_mode": {
    "name": "ipython",
    "version": 3
   },
   "file_extension": ".py",
   "mimetype": "text/x-python",
   "name": "python",
   "nbconvert_exporter": "python",
   "pygments_lexer": "ipython3",
   "version": "3.8.13"
  }
 },
 "nbformat": 4,
 "nbformat_minor": 5
}
