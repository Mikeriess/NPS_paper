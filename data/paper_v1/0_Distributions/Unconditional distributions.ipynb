{
 "cells": [
  {
   "cell_type": "code",
   "execution_count": 1,
   "metadata": {},
   "outputs": [],
   "source": [
    "import pandas as pd\n",
    "import numpy as np"
   ]
  },
  {
   "cell_type": "code",
   "execution_count": 2,
   "metadata": {},
   "outputs": [
    {
     "name": "stdout",
     "output_type": "stream",
     "text": [
      "5456\n"
     ]
    },
    {
     "data": {
      "text/html": [
       "<div>\n",
       "<style scoped>\n",
       "    .dataframe tbody tr th:only-of-type {\n",
       "        vertical-align: middle;\n",
       "    }\n",
       "\n",
       "    .dataframe tbody tr th {\n",
       "        vertical-align: top;\n",
       "    }\n",
       "\n",
       "    .dataframe thead th {\n",
       "        text-align: right;\n",
       "    }\n",
       "</style>\n",
       "<table border=\"1\" class=\"dataframe\">\n",
       "  <thead>\n",
       "    <tr style=\"text-align: right;\">\n",
       "      <th></th>\n",
       "      <th>case_id</th>\n",
       "      <th>case_type</th>\n",
       "      <th>task_id</th>\n",
       "      <th>task_tasksubtype</th>\n",
       "      <th>ressource</th>\n",
       "      <th>ressource_role</th>\n",
       "      <th>case_owner_role</th>\n",
       "      <th>case_topic</th>\n",
       "      <th>case_requires_rework__c</th>\n",
       "      <th>case_closure_code__c</th>\n",
       "      <th>...</th>\n",
       "      <th>task_count</th>\n",
       "      <th>task_number</th>\n",
       "      <th>date_case_created</th>\n",
       "      <th>date_case_closed</th>\n",
       "      <th>date_task_created</th>\n",
       "      <th>year</th>\n",
       "      <th>month</th>\n",
       "      <th>day</th>\n",
       "      <th>weekday</th>\n",
       "      <th>hour</th>\n",
       "    </tr>\n",
       "  </thead>\n",
       "  <tbody>\n",
       "    <tr>\n",
       "      <th>0</th>\n",
       "      <td>1485898</td>\n",
       "      <td>Service Request</td>\n",
       "      <td>1</td>\n",
       "      <td>Email</td>\n",
       "      <td>y_7</td>\n",
       "      <td>b_1</td>\n",
       "      <td>b_1</td>\n",
       "      <td>d_2</td>\n",
       "      <td>False</td>\n",
       "      <td>Changed subscription</td>\n",
       "      <td>...</td>\n",
       "      <td>2</td>\n",
       "      <td>1</td>\n",
       "      <td>2018-02-12 11:40:54</td>\n",
       "      <td>2018-02-18 23:01:09+00:00</td>\n",
       "      <td>2018-02-12 11:42:22+00:00</td>\n",
       "      <td>2018</td>\n",
       "      <td>2</td>\n",
       "      <td>12</td>\n",
       "      <td>0</td>\n",
       "      <td>11</td>\n",
       "    </tr>\n",
       "    <tr>\n",
       "      <th>1</th>\n",
       "      <td>1485898</td>\n",
       "      <td>Service Request</td>\n",
       "      <td>2</td>\n",
       "      <td>Email</td>\n",
       "      <td>y_7</td>\n",
       "      <td>b_1</td>\n",
       "      <td>b_1</td>\n",
       "      <td>d_2</td>\n",
       "      <td>False</td>\n",
       "      <td>Changed subscription</td>\n",
       "      <td>...</td>\n",
       "      <td>2</td>\n",
       "      <td>2</td>\n",
       "      <td>2018-02-12 11:40:54</td>\n",
       "      <td>2018-02-18 23:01:09+00:00</td>\n",
       "      <td>2018-02-12 11:57:20+00:00</td>\n",
       "      <td>2018</td>\n",
       "      <td>2</td>\n",
       "      <td>12</td>\n",
       "      <td>0</td>\n",
       "      <td>11</td>\n",
       "    </tr>\n",
       "    <tr>\n",
       "      <th>2</th>\n",
       "      <td>1491822</td>\n",
       "      <td>Service Request</td>\n",
       "      <td>5</td>\n",
       "      <td>Email</td>\n",
       "      <td>y_9</td>\n",
       "      <td>i_1</td>\n",
       "      <td>i_1</td>\n",
       "      <td>d_2</td>\n",
       "      <td>False</td>\n",
       "      <td>Information/guidance given</td>\n",
       "      <td>...</td>\n",
       "      <td>3</td>\n",
       "      <td>1</td>\n",
       "      <td>2018-02-20 10:17:59</td>\n",
       "      <td>2018-03-05 23:00:51+00:00</td>\n",
       "      <td>2018-02-20 10:20:20+00:00</td>\n",
       "      <td>2018</td>\n",
       "      <td>2</td>\n",
       "      <td>20</td>\n",
       "      <td>1</td>\n",
       "      <td>10</td>\n",
       "    </tr>\n",
       "    <tr>\n",
       "      <th>3</th>\n",
       "      <td>1491822</td>\n",
       "      <td>Service Request</td>\n",
       "      <td>10</td>\n",
       "      <td>Email</td>\n",
       "      <td>y_9</td>\n",
       "      <td>i_1</td>\n",
       "      <td>i_1</td>\n",
       "      <td>d_2</td>\n",
       "      <td>False</td>\n",
       "      <td>Information/guidance given</td>\n",
       "      <td>...</td>\n",
       "      <td>3</td>\n",
       "      <td>2</td>\n",
       "      <td>2018-02-20 10:17:59</td>\n",
       "      <td>2018-03-05 23:00:51+00:00</td>\n",
       "      <td>2018-02-21 11:19:09+00:00</td>\n",
       "      <td>2018</td>\n",
       "      <td>2</td>\n",
       "      <td>21</td>\n",
       "      <td>2</td>\n",
       "      <td>11</td>\n",
       "    </tr>\n",
       "    <tr>\n",
       "      <th>4</th>\n",
       "      <td>1491822</td>\n",
       "      <td>Service Request</td>\n",
       "      <td>19</td>\n",
       "      <td>Email</td>\n",
       "      <td>y_9</td>\n",
       "      <td>i_1</td>\n",
       "      <td>i_1</td>\n",
       "      <td>d_2</td>\n",
       "      <td>False</td>\n",
       "      <td>Information/guidance given</td>\n",
       "      <td>...</td>\n",
       "      <td>3</td>\n",
       "      <td>3</td>\n",
       "      <td>2018-02-20 10:17:59</td>\n",
       "      <td>2018-03-05 23:00:51+00:00</td>\n",
       "      <td>2018-02-23 10:30:44+00:00</td>\n",
       "      <td>2018</td>\n",
       "      <td>2</td>\n",
       "      <td>23</td>\n",
       "      <td>4</td>\n",
       "      <td>10</td>\n",
       "    </tr>\n",
       "  </tbody>\n",
       "</table>\n",
       "<p>5 rows × 27 columns</p>\n",
       "</div>"
      ],
      "text/plain": [
       "   case_id        case_type  task_id task_tasksubtype ressource  \\\n",
       "0  1485898  Service Request        1            Email       y_7   \n",
       "1  1485898  Service Request        2            Email       y_7   \n",
       "2  1491822  Service Request        5            Email       y_9   \n",
       "3  1491822  Service Request       10            Email       y_9   \n",
       "4  1491822  Service Request       19            Email       y_9   \n",
       "\n",
       "  ressource_role case_owner_role case_topic  case_requires_rework__c  \\\n",
       "0            b_1             b_1        d_2                    False   \n",
       "1            b_1             b_1        d_2                    False   \n",
       "2            i_1             i_1        d_2                    False   \n",
       "3            i_1             i_1        d_2                    False   \n",
       "4            i_1             i_1        d_2                    False   \n",
       "\n",
       "         case_closure_code__c  ... task_count  task_number  \\\n",
       "0        Changed subscription  ...          2            1   \n",
       "1        Changed subscription  ...          2            2   \n",
       "2  Information/guidance given  ...          3            1   \n",
       "3  Information/guidance given  ...          3            2   \n",
       "4  Information/guidance given  ...          3            3   \n",
       "\n",
       "     date_case_created           date_case_closed          date_task_created  \\\n",
       "0  2018-02-12 11:40:54  2018-02-18 23:01:09+00:00  2018-02-12 11:42:22+00:00   \n",
       "1  2018-02-12 11:40:54  2018-02-18 23:01:09+00:00  2018-02-12 11:57:20+00:00   \n",
       "2  2018-02-20 10:17:59  2018-03-05 23:00:51+00:00  2018-02-20 10:20:20+00:00   \n",
       "3  2018-02-20 10:17:59  2018-03-05 23:00:51+00:00  2018-02-21 11:19:09+00:00   \n",
       "4  2018-02-20 10:17:59  2018-03-05 23:00:51+00:00  2018-02-23 10:30:44+00:00   \n",
       "\n",
       "   year  month  day  weekday hour  \n",
       "0  2018      2   12        0   11  \n",
       "1  2018      2   12        0   11  \n",
       "2  2018      2   20        1   10  \n",
       "3  2018      2   21        2   11  \n",
       "4  2018      2   23        4   10  \n",
       "\n",
       "[5 rows x 27 columns]"
      ]
     },
     "execution_count": 2,
     "metadata": {},
     "output_type": "execute_result"
    }
   ],
   "source": [
    "df = pd.read_csv(\"../../Data/Data/Strata_Train_NPS_cases/Train_NPS_evlog.csv\")\n",
    "print(len(df))\n",
    "df.head()"
   ]
  },
  {
   "cell_type": "code",
   "execution_count": 4,
   "metadata": {},
   "outputs": [
    {
     "data": {
      "text/plain": [
       "Index(['case_id', 'case_type', 'task_id', 'task_tasksubtype', 'ressource',\n",
       "       'ressource_role', 'case_owner_role', 'case_topic',\n",
       "       'case_requires_rework__c', 'case_closure_code__c',\n",
       "       'case_milestonestatus', 'case_resolution_time__c', 'nps_createddate',\n",
       "       'nps_response_complete', 'nps_promoter', 'nps_detractor',\n",
       "       'nps_response_value', 'task_count', 'task_number', 'date_case_created',\n",
       "       'date_case_closed', 'date_task_created', 'year', 'month', 'day',\n",
       "       'weekday', 'hour'],\n",
       "      dtype='object')"
      ]
     },
     "execution_count": 4,
     "metadata": {},
     "output_type": "execute_result"
    }
   ],
   "source": [
    "df.columns"
   ]
  },
  {
   "cell_type": "markdown",
   "metadata": {},
   "source": [
    "## Split the data"
   ]
  },
  {
   "cell_type": "code",
   "execution_count": 3,
   "metadata": {},
   "outputs": [],
   "source": [
    "#make a holdout sample\n",
    "\n",
    "from sklearn.model_selection import train_test_split\n",
    "\n",
    "X_train, X_test = train_test_split(df, test_size=0.3)#, random_state=42)"
   ]
  },
  {
   "cell_type": "markdown",
   "metadata": {},
   "source": [
    "# 1. Case topic distribution"
   ]
  },
  {
   "cell_type": "code",
   "execution_count": 7,
   "metadata": {},
   "outputs": [
    {
     "data": {
      "text/plain": [
       "j_1    0.318670\n",
       "z_3    0.243781\n",
       "q_3    0.138256\n",
       "z_2    0.066510\n",
       "r_2    0.064415\n",
       "z_4    0.063891\n",
       "d_2    0.039277\n",
       "w_2    0.037968\n",
       "g_1    0.014925\n",
       "w_1    0.012307\n",
       "Name: case_topic, dtype: float64"
      ]
     },
     "execution_count": 7,
     "metadata": {},
     "output_type": "execute_result"
    }
   ],
   "source": [
    "X_train.case_topic.value_counts()/len(X_train)"
   ]
  },
  {
   "cell_type": "code",
   "execution_count": 11,
   "metadata": {},
   "outputs": [
    {
     "data": {
      "text/plain": [
       "10"
      ]
     },
     "execution_count": 11,
     "metadata": {},
     "output_type": "execute_result"
    }
   ],
   "source": [
    "len(X_train.case_topic.value_counts()/len(X_train))"
   ]
  },
  {
   "cell_type": "code",
   "execution_count": 8,
   "metadata": {},
   "outputs": [
    {
     "data": {
      "text/plain": [
       "j_1    0.328650\n",
       "z_3    0.246793\n",
       "q_3    0.138668\n",
       "r_2    0.067807\n",
       "z_2    0.061087\n",
       "z_4    0.054368\n",
       "w_2    0.042761\n",
       "d_2    0.033598\n",
       "g_1    0.014661\n",
       "w_1    0.011607\n",
       "Name: case_topic, dtype: float64"
      ]
     },
     "execution_count": 8,
     "metadata": {},
     "output_type": "execute_result"
    }
   ],
   "source": [
    "X_test.case_topic.value_counts()/len(X_test)"
   ]
  },
  {
   "cell_type": "code",
   "execution_count": 12,
   "metadata": {},
   "outputs": [
    {
     "data": {
      "text/plain": [
       "10"
      ]
     },
     "execution_count": 12,
     "metadata": {},
     "output_type": "execute_result"
    }
   ],
   "source": [
    "len(X_test.case_topic.value_counts()/len(X_test))"
   ]
  },
  {
   "cell_type": "markdown",
   "metadata": {},
   "source": [
    "# 2. Ressource"
   ]
  },
  {
   "cell_type": "code",
   "execution_count": 10,
   "metadata": {},
   "outputs": [
    {
     "name": "stdout",
     "output_type": "stream",
     "text": [
      "h_4    0.087981\n",
      "w_7    0.085886\n",
      "p_5    0.067819\n",
      "l_6    0.056559\n",
      "n_5    0.042419\n",
      "         ...   \n",
      "d_1    0.000262\n",
      "y_3    0.000262\n",
      "c_2    0.000262\n",
      "f_4    0.000262\n",
      "g_9    0.000262\n",
      "Name: ressource, Length: 77, dtype: float64\n"
     ]
    }
   ],
   "source": [
    "X_train.ressource.value_counts()/len(X_train)"
   ]
  },
  {
   "cell_type": "code",
   "execution_count": null,
   "metadata": {},
   "outputs": [],
   "source": []
  }
 ],
 "metadata": {
  "kernelspec": {
   "display_name": "Python 3",
   "language": "python",
   "name": "python3"
  },
  "language_info": {
   "codemirror_mode": {
    "name": "ipython",
    "version": 3
   },
   "file_extension": ".py",
   "mimetype": "text/x-python",
   "name": "python",
   "nbconvert_exporter": "python",
   "pygments_lexer": "ipython3",
   "version": "3.8.5"
  }
 },
 "nbformat": 4,
 "nbformat_minor": 4
}
