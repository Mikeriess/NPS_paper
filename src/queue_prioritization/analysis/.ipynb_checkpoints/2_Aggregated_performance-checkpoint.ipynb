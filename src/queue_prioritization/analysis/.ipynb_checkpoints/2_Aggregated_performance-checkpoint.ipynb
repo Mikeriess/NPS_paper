{
 "cells": [
  {
   "cell_type": "markdown",
   "id": "7bd1613d",
   "metadata": {},
   "source": [
    "# Study 1: Fit with existing data from salesforce"
   ]
  },
  {
   "cell_type": "code",
   "execution_count": 14,
   "id": "9334c201",
   "metadata": {},
   "outputs": [],
   "source": [
    "# No changes to the analysis here"
   ]
  },
  {
   "cell_type": "markdown",
   "id": "964d309c",
   "metadata": {},
   "source": [
    "# Study 2: Performance of proposed approaches"
   ]
  },
  {
   "cell_type": "code",
   "execution_count": 15,
   "id": "162b1d78",
   "metadata": {},
   "outputs": [],
   "source": [
    "import pandas as pd\n",
    "import numpy as np\n",
    "import statsmodels\n",
    "import seaborn as sns\n",
    "import scipy\n",
    "import matplotlib.pyplot as plt\n",
    "import seaborn as sns"
   ]
  },
  {
   "cell_type": "code",
   "execution_count": 16,
   "id": "9990708f",
   "metadata": {},
   "outputs": [
    {
     "data": {
      "text/html": [
       "<div>\n",
       "<style scoped>\n",
       "    .dataframe tbody tr th:only-of-type {\n",
       "        vertical-align: middle;\n",
       "    }\n",
       "\n",
       "    .dataframe tbody tr th {\n",
       "        vertical-align: top;\n",
       "    }\n",
       "\n",
       "    .dataframe thead th {\n",
       "        text-align: right;\n",
       "    }\n",
       "</style>\n",
       "<table border=\"1\" class=\"dataframe\">\n",
       "  <thead>\n",
       "    <tr style=\"text-align: right;\">\n",
       "      <th></th>\n",
       "      <th>F_priority_scheme</th>\n",
       "      <th>F_number_of_agents</th>\n",
       "      <th>F_SLA</th>\n",
       "      <th>burn_in</th>\n",
       "      <th>days</th>\n",
       "      <th>startdate</th>\n",
       "      <th>service_level</th>\n",
       "      <th>repetition</th>\n",
       "      <th>closed_avg_simulated_NPS</th>\n",
       "      <th>closed_avg_simulated_throughput_time</th>\n",
       "      <th>...</th>\n",
       "      <th>all_avg_duration_delayed</th>\n",
       "      <th>cases_arrived</th>\n",
       "      <th>cases_closed</th>\n",
       "      <th>case_queued</th>\n",
       "      <th>cases_assigned_at_end</th>\n",
       "      <th>min_tracelen</th>\n",
       "      <th>max_tracelen</th>\n",
       "      <th>Simulation_duration_min</th>\n",
       "      <th>RUN</th>\n",
       "      <th>Done</th>\n",
       "    </tr>\n",
       "  </thead>\n",
       "  <tbody>\n",
       "    <tr>\n",
       "      <th>0</th>\n",
       "      <td>FCFS</td>\n",
       "      <td>3</td>\n",
       "      <td>NONE</td>\n",
       "      <td>180</td>\n",
       "      <td>730</td>\n",
       "      <td>2018-01-01</td>\n",
       "      <td>2.0</td>\n",
       "      <td>0</td>\n",
       "      <td>8.661534</td>\n",
       "      <td>224.613380</td>\n",
       "      <td>...</td>\n",
       "      <td>0.411667</td>\n",
       "      <td>748</td>\n",
       "      <td>388</td>\n",
       "      <td>357</td>\n",
       "      <td>391</td>\n",
       "      <td>1</td>\n",
       "      <td>13</td>\n",
       "      <td>-1</td>\n",
       "      <td>0</td>\n",
       "      <td>0</td>\n",
       "    </tr>\n",
       "    <tr>\n",
       "      <th>1</th>\n",
       "      <td>SRTF</td>\n",
       "      <td>3</td>\n",
       "      <td>NONE</td>\n",
       "      <td>180</td>\n",
       "      <td>730</td>\n",
       "      <td>2018-01-01</td>\n",
       "      <td>2.0</td>\n",
       "      <td>0</td>\n",
       "      <td>8.666489</td>\n",
       "      <td>23.030403</td>\n",
       "      <td>...</td>\n",
       "      <td>0.422802</td>\n",
       "      <td>724</td>\n",
       "      <td>292</td>\n",
       "      <td>432</td>\n",
       "      <td>292</td>\n",
       "      <td>1</td>\n",
       "      <td>10</td>\n",
       "      <td>-1</td>\n",
       "      <td>1</td>\n",
       "      <td>0</td>\n",
       "    </tr>\n",
       "    <tr>\n",
       "      <th>2</th>\n",
       "      <td>LRTF</td>\n",
       "      <td>3</td>\n",
       "      <td>NONE</td>\n",
       "      <td>180</td>\n",
       "      <td>730</td>\n",
       "      <td>2018-01-01</td>\n",
       "      <td>2.0</td>\n",
       "      <td>0</td>\n",
       "      <td>8.948358</td>\n",
       "      <td>15.110435</td>\n",
       "      <td>...</td>\n",
       "      <td>0.430321</td>\n",
       "      <td>752</td>\n",
       "      <td>292</td>\n",
       "      <td>460</td>\n",
       "      <td>292</td>\n",
       "      <td>1</td>\n",
       "      <td>10</td>\n",
       "      <td>-1</td>\n",
       "      <td>2</td>\n",
       "      <td>0</td>\n",
       "    </tr>\n",
       "    <tr>\n",
       "      <th>3</th>\n",
       "      <td>NPS</td>\n",
       "      <td>3</td>\n",
       "      <td>NONE</td>\n",
       "      <td>180</td>\n",
       "      <td>730</td>\n",
       "      <td>2018-01-01</td>\n",
       "      <td>2.0</td>\n",
       "      <td>0</td>\n",
       "      <td>9.197038</td>\n",
       "      <td>14.451857</td>\n",
       "      <td>...</td>\n",
       "      <td>0.410852</td>\n",
       "      <td>642</td>\n",
       "      <td>299</td>\n",
       "      <td>343</td>\n",
       "      <td>299</td>\n",
       "      <td>1</td>\n",
       "      <td>13</td>\n",
       "      <td>-1</td>\n",
       "      <td>3</td>\n",
       "      <td>0</td>\n",
       "    </tr>\n",
       "    <tr>\n",
       "      <th>4</th>\n",
       "      <td>NPS-SLA</td>\n",
       "      <td>3</td>\n",
       "      <td>NONE</td>\n",
       "      <td>180</td>\n",
       "      <td>730</td>\n",
       "      <td>2018-01-01</td>\n",
       "      <td>2.0</td>\n",
       "      <td>0</td>\n",
       "      <td>8.628731</td>\n",
       "      <td>245.618041</td>\n",
       "      <td>...</td>\n",
       "      <td>0.430152</td>\n",
       "      <td>707</td>\n",
       "      <td>336</td>\n",
       "      <td>368</td>\n",
       "      <td>338</td>\n",
       "      <td>1</td>\n",
       "      <td>14</td>\n",
       "      <td>-1</td>\n",
       "      <td>4</td>\n",
       "      <td>0</td>\n",
       "    </tr>\n",
       "  </tbody>\n",
       "</table>\n",
       "<p>5 rows × 33 columns</p>\n",
       "</div>"
      ],
      "text/plain": [
       "  F_priority_scheme  F_number_of_agents F_SLA  burn_in  days   startdate  \\\n",
       "0              FCFS                   3  NONE      180   730  2018-01-01   \n",
       "1              SRTF                   3  NONE      180   730  2018-01-01   \n",
       "2              LRTF                   3  NONE      180   730  2018-01-01   \n",
       "3               NPS                   3  NONE      180   730  2018-01-01   \n",
       "4           NPS-SLA                   3  NONE      180   730  2018-01-01   \n",
       "\n",
       "   service_level  repetition  closed_avg_simulated_NPS  \\\n",
       "0            2.0           0                  8.661534   \n",
       "1            2.0           0                  8.666489   \n",
       "2            2.0           0                  8.948358   \n",
       "3            2.0           0                  9.197038   \n",
       "4            2.0           0                  8.628731   \n",
       "\n",
       "   closed_avg_simulated_throughput_time  ...  all_avg_duration_delayed  \\\n",
       "0                            224.613380  ...                  0.411667   \n",
       "1                             23.030403  ...                  0.422802   \n",
       "2                             15.110435  ...                  0.430321   \n",
       "3                             14.451857  ...                  0.410852   \n",
       "4                            245.618041  ...                  0.430152   \n",
       "\n",
       "   cases_arrived  cases_closed  case_queued  cases_assigned_at_end  \\\n",
       "0            748           388          357                    391   \n",
       "1            724           292          432                    292   \n",
       "2            752           292          460                    292   \n",
       "3            642           299          343                    299   \n",
       "4            707           336          368                    338   \n",
       "\n",
       "   min_tracelen  max_tracelen  Simulation_duration_min  RUN  Done  \n",
       "0             1            13                       -1    0     0  \n",
       "1             1            10                       -1    1     0  \n",
       "2             1            10                       -1    2     0  \n",
       "3             1            13                       -1    3     0  \n",
       "4             1            14                       -1    4     0  \n",
       "\n",
       "[5 rows x 33 columns]"
      ]
     },
     "execution_count": 16,
     "metadata": {},
     "output_type": "execute_result"
    }
   ],
   "source": [
    "experiments = pd.read_csv(\"../results/experiments.csv\")\n",
    "experiments.head()"
   ]
  },
  {
   "cell_type": "code",
   "execution_count": 17,
   "id": "162c942b",
   "metadata": {},
   "outputs": [
    {
     "data": {
      "text/plain": [
       "{'F_priority_scheme': 'FCFS',\n",
       " 'F_number_of_agents': 3,\n",
       " 'F_SLA': 'NONE',\n",
       " 'burn_in': 180,\n",
       " 'days': 730,\n",
       " 'startdate': '2018-01-01',\n",
       " 'service_level': 2.0,\n",
       " 'repetition': 0,\n",
       " 'closed_avg_simulated_NPS': 8.661533514432762,\n",
       " 'closed_avg_simulated_throughput_time': 224.6133798185256,\n",
       " 'closed_avg_predicted_NPS': 10.136971709804376,\n",
       " 'closed_avg_predicted_throughput_time': 1.517838472980183,\n",
       " 'closed_avg_predicted_NPS_priority': 2.636971709804378,\n",
       " 'closed_avg_initial_delay': 220.88990739897255,\n",
       " 'closed_avg_activity_start_delay': 0.4119177074028509,\n",
       " 'closed_avg_duration_delayed': 0.4119177074028509,\n",
       " 'all_avg_simulated_NPS': 8.65015877642491,\n",
       " 'all_avg_simulated_throughput_time': 225.6414424065955,\n",
       " 'all_avg_predicted_NPS': 10.136976742535344,\n",
       " 'all_avg_predicted_throughput_time': 1.517810231536531,\n",
       " 'all_avg_predicted_NPS_priority': 2.6369767425353463,\n",
       " 'all_avg_initial_delay': 219.4065952060304,\n",
       " 'all_avg_activity_start_delay': 0.4116671370341915,\n",
       " 'all_avg_duration_delayed': 0.4116671370341915,\n",
       " 'cases_arrived': 748,\n",
       " 'cases_closed': 388,\n",
       " 'case_queued': 357,\n",
       " 'cases_assigned_at_end': 391,\n",
       " 'min_tracelen': 1,\n",
       " 'max_tracelen': 13,\n",
       " 'Simulation_duration_min': -1,\n",
       " 'RUN': 0,\n",
       " 'Done': 0}"
      ]
     },
     "execution_count": 17,
     "metadata": {},
     "output_type": "execute_result"
    }
   ],
   "source": [
    "experiments.loc[0].to_dict()"
   ]
  },
  {
   "cell_type": "markdown",
   "id": "23e0dfdd",
   "metadata": {},
   "source": [
    "# Effects on case throughput time"
   ]
  },
  {
   "cell_type": "code",
   "execution_count": 18,
   "id": "a7ab550d",
   "metadata": {},
   "outputs": [
    {
     "data": {
      "text/plain": [
       "Index(['F_priority_scheme', 'F_number_of_agents', 'F_SLA', 'burn_in', 'days',\n",
       "       'startdate', 'service_level', 'repetition', 'closed_avg_simulated_NPS',\n",
       "       'closed_avg_simulated_throughput_time', 'closed_avg_predicted_NPS',\n",
       "       'closed_avg_predicted_throughput_time',\n",
       "       'closed_avg_predicted_NPS_priority', 'closed_avg_initial_delay',\n",
       "       'closed_avg_activity_start_delay', 'closed_avg_duration_delayed',\n",
       "       'all_avg_simulated_NPS', 'all_avg_simulated_throughput_time',\n",
       "       'all_avg_predicted_NPS', 'all_avg_predicted_throughput_time',\n",
       "       'all_avg_predicted_NPS_priority', 'all_avg_initial_delay',\n",
       "       'all_avg_activity_start_delay', 'all_avg_duration_delayed',\n",
       "       'cases_arrived', 'cases_closed', 'case_queued', 'cases_assigned_at_end',\n",
       "       'min_tracelen', 'max_tracelen', 'Simulation_duration_min', 'RUN',\n",
       "       'Done'],\n",
       "      dtype='object')"
      ]
     },
     "execution_count": 18,
     "metadata": {},
     "output_type": "execute_result"
    }
   ],
   "source": [
    "experiments.columns"
   ]
  },
  {
   "cell_type": "code",
   "execution_count": 19,
   "id": "775853c5",
   "metadata": {},
   "outputs": [
    {
     "data": {
      "text/html": [
       "<div>\n",
       "<style scoped>\n",
       "    .dataframe tbody tr th:only-of-type {\n",
       "        vertical-align: middle;\n",
       "    }\n",
       "\n",
       "    .dataframe tbody tr th {\n",
       "        vertical-align: top;\n",
       "    }\n",
       "\n",
       "    .dataframe thead th {\n",
       "        text-align: right;\n",
       "    }\n",
       "</style>\n",
       "<table border=\"1\" class=\"dataframe\">\n",
       "  <thead>\n",
       "    <tr style=\"text-align: right;\">\n",
       "      <th></th>\n",
       "      <th></th>\n",
       "      <th>closed_avg_simulated_throughput_time</th>\n",
       "    </tr>\n",
       "    <tr>\n",
       "      <th>F_priority_scheme</th>\n",
       "      <th>F_number_of_agents</th>\n",
       "      <th></th>\n",
       "    </tr>\n",
       "  </thead>\n",
       "  <tbody>\n",
       "    <tr>\n",
       "      <th rowspan=\"4\" valign=\"top\">FCFS</th>\n",
       "      <th>3</th>\n",
       "      <td>233.849256</td>\n",
       "    </tr>\n",
       "    <tr>\n",
       "      <th>6</th>\n",
       "      <td>51.678506</td>\n",
       "    </tr>\n",
       "    <tr>\n",
       "      <th>9</th>\n",
       "      <td>6.510040</td>\n",
       "    </tr>\n",
       "    <tr>\n",
       "      <th>12</th>\n",
       "      <td>4.428963</td>\n",
       "    </tr>\n",
       "    <tr>\n",
       "      <th rowspan=\"4\" valign=\"top\">LRTF</th>\n",
       "      <th>3</th>\n",
       "      <td>14.887356</td>\n",
       "    </tr>\n",
       "    <tr>\n",
       "      <th>6</th>\n",
       "      <td>12.988405</td>\n",
       "    </tr>\n",
       "    <tr>\n",
       "      <th>9</th>\n",
       "      <td>6.548684</td>\n",
       "    </tr>\n",
       "    <tr>\n",
       "      <th>12</th>\n",
       "      <td>4.403597</td>\n",
       "    </tr>\n",
       "    <tr>\n",
       "      <th rowspan=\"4\" valign=\"top\">NPS</th>\n",
       "      <th>3</th>\n",
       "      <td>14.957759</td>\n",
       "    </tr>\n",
       "    <tr>\n",
       "      <th>6</th>\n",
       "      <td>13.052420</td>\n",
       "    </tr>\n",
       "    <tr>\n",
       "      <th>9</th>\n",
       "      <td>6.381901</td>\n",
       "    </tr>\n",
       "    <tr>\n",
       "      <th>12</th>\n",
       "      <td>4.385237</td>\n",
       "    </tr>\n",
       "    <tr>\n",
       "      <th rowspan=\"4\" valign=\"top\">NPS-SLA</th>\n",
       "      <th>3</th>\n",
       "      <td>233.005630</td>\n",
       "    </tr>\n",
       "    <tr>\n",
       "      <th>6</th>\n",
       "      <td>53.963043</td>\n",
       "    </tr>\n",
       "    <tr>\n",
       "      <th>9</th>\n",
       "      <td>6.404027</td>\n",
       "    </tr>\n",
       "    <tr>\n",
       "      <th>12</th>\n",
       "      <td>4.389467</td>\n",
       "    </tr>\n",
       "    <tr>\n",
       "      <th rowspan=\"4\" valign=\"top\">SRTF</th>\n",
       "      <th>3</th>\n",
       "      <td>25.924935</td>\n",
       "    </tr>\n",
       "    <tr>\n",
       "      <th>6</th>\n",
       "      <td>19.916796</td>\n",
       "    </tr>\n",
       "    <tr>\n",
       "      <th>9</th>\n",
       "      <td>6.404609</td>\n",
       "    </tr>\n",
       "    <tr>\n",
       "      <th>12</th>\n",
       "      <td>4.390105</td>\n",
       "    </tr>\n",
       "  </tbody>\n",
       "</table>\n",
       "</div>"
      ],
      "text/plain": [
       "                                      closed_avg_simulated_throughput_time\n",
       "F_priority_scheme F_number_of_agents                                      \n",
       "FCFS              3                                             233.849256\n",
       "                  6                                              51.678506\n",
       "                  9                                               6.510040\n",
       "                  12                                              4.428963\n",
       "LRTF              3                                              14.887356\n",
       "                  6                                              12.988405\n",
       "                  9                                               6.548684\n",
       "                  12                                              4.403597\n",
       "NPS               3                                              14.957759\n",
       "                  6                                              13.052420\n",
       "                  9                                               6.381901\n",
       "                  12                                              4.385237\n",
       "NPS-SLA           3                                             233.005630\n",
       "                  6                                              53.963043\n",
       "                  9                                               6.404027\n",
       "                  12                                              4.389467\n",
       "SRTF              3                                              25.924935\n",
       "                  6                                              19.916796\n",
       "                  9                                               6.404609\n",
       "                  12                                              4.390105"
      ]
     },
     "execution_count": 19,
     "metadata": {},
     "output_type": "execute_result"
    }
   ],
   "source": [
    " #Crosstab AE by trace length\n",
    "    \n",
    "response = \"closed_avg_simulated_throughput_time\"\n",
    "factors = [\"F_priority_scheme\",\"F_number_of_agents\"]\n",
    "    \n",
    "pivottable = pd.pivot_table(experiments, \n",
    "                            values=response,\n",
    "                            columns=factors, \n",
    "                            aggfunc=np.mean).T\n",
    "\n",
    "#pivottable = pivottable.reset_index()\n",
    "\n",
    "pivottable"
   ]
  },
  {
   "cell_type": "code",
   "execution_count": 20,
   "id": "7ba42dc0",
   "metadata": {},
   "outputs": [
    {
     "name": "stdout",
     "output_type": "stream",
     "text": [
      "\\begin{tabular}{|l|l|r|}\n",
      "\\hline\n",
      "     &    &  closed\\_avg\\_simulated\\_throughput\\_time \\\\\n",
      "Priority scheme & Number of agents &                                       \\\\\n",
      "\\hline\n",
      "FCFS & 3  &                            233.849256 \\\\\n",
      "     & 6  &                             51.678506 \\\\\n",
      "     & 9  &                              6.510040 \\\\\n",
      "     & 12 &                              4.428963 \\\\\n",
      "LRTF & 3  &                             14.887356 \\\\\n",
      "     & 6  &                             12.988405 \\\\\n",
      "     & 9  &                              6.548684 \\\\\n",
      "     & 12 &                              4.403597 \\\\\n",
      "NPS & 3  &                             14.957759 \\\\\n",
      "     & 6  &                             13.052420 \\\\\n",
      "     & 9  &                              6.381901 \\\\\n",
      "     & 12 &                              4.385237 \\\\\n",
      "NPS-SLA & 3  &                            233.005630 \\\\\n",
      "     & 6  &                             53.963043 \\\\\n",
      "     & 9  &                              6.404027 \\\\\n",
      "     & 12 &                              4.389467 \\\\\n",
      "SRTF & 3  &                             25.924935 \\\\\n",
      "     & 6  &                             19.916796 \\\\\n",
      "     & 9  &                              6.404609 \\\\\n",
      "     & 12 &                              4.390105 \\\\\n",
      "\\hline\n",
      "\\end{tabular}\n",
      "\n"
     ]
    },
    {
     "name": "stderr",
     "output_type": "stream",
     "text": [
      "C:\\Users\\Mike\\AppData\\Local\\Temp\\ipykernel_16752\\1350266391.py:1: FutureWarning: In future versions `DataFrame.to_latex` is expected to utilise the base implementation of `Styler.to_latex` for formatting and rendering. The arguments signature may therefore change. It is recommended instead to use `DataFrame.style.to_latex` which also contains additional functionality.\n",
      "  string = str((pivottable.to_latex(index=True)))\n"
     ]
    }
   ],
   "source": [
    "\n",
    "\n",
    "string = str((pivottable.to_latex(index=True)))\n",
    "string = string.replace('!', '$\\pm$')\n",
    "\n",
    "string = string.replace(\"toprule\",\"hline\")\n",
    "string = string.replace(\"midrule\",\"hline\")\n",
    "string = string.replace(\"bottomrule\",\"hline\") #\n",
    "\n",
    "string = string.replace(\"MAE           &\",\"$MAE$           &\")\n",
    "string = string.replace(\"MAE\\_Etd\",\"$MAE_{EtD}$\")\n",
    "string = string.replace(\"MAE\\_Mtd\",\"$MAE_{MtD}$\")\n",
    "string = string.replace(\"MAE\\_Ptd\",\"$MAE_{PtD}$\")\n",
    "\n",
    "string = string.replace(\"llr\",\"|l|l|r|\")\n",
    "\n",
    "string = string.replace(\"data\",\"Loss function\")\n",
    "\n",
    "string = string.replace(\"loss\\_function &             &              &               &                  \\\\\",\"\")\n",
    "\n",
    "string = string.replace('F\\_number\\_of\\_agents', 'Number of agents')\n",
    "string = string.replace('F\\_priority\\_scheme', 'Priority scheme')\n",
    "string = string.replace('closed\\_avg\\_simulated\\_NPS', 'Simulated tNPS')\n",
    "\n",
    "pivottable\n",
    "print(string)"
   ]
  },
  {
   "cell_type": "code",
   "execution_count": null,
   "id": "a56715cd",
   "metadata": {},
   "outputs": [],
   "source": []
  },
  {
   "cell_type": "code",
   "execution_count": null,
   "id": "9b09dff1",
   "metadata": {},
   "outputs": [],
   "source": []
  },
  {
   "cell_type": "code",
   "execution_count": 31,
   "id": "38bd4d9d",
   "metadata": {},
   "outputs": [
    {
     "data": {
      "image/png": "[encoded data removed]",
      "text/plain": [
       "<Figure size 1152x720 with 1 Axes>"
      ]
     },
     "metadata": {
      "needs_background": "light"
     },
     "output_type": "display_data"
    }
   ],
   "source": [
    "fig = plt.figure(figsize=(16, 10))\n",
    "\n",
    "sns.boxplot(x=experiments.F_number_of_agents,\n",
    "            y=experiments[response],\n",
    "            hue=experiments.F_priority_scheme,\n",
    "            #hue_order = hue_order,\n",
    "            width=0.8,\n",
    "            dodge=True,\n",
    "            showfliers = False,\n",
    "            linewidth=1,\n",
    "            whis=1.5)\n",
    "\n",
    "plt.xlabel(\"Number of agents\")\n",
    "plt.ylabel(\"Throughput time in days\")\n",
    "\n",
    "plt.title(\"Throughput time performance\")\n",
    "\n",
    "\n",
    "plt.savefig(\"TT_performance.png\", dpi=200, bbox_inches = \"tight\")\n",
    "\n",
    "plt.show()"
   ]
  },
  {
   "cell_type": "code",
   "execution_count": 38,
   "id": "49d8bca8",
   "metadata": {},
   "outputs": [
    {
     "data": {
      "image/png": "[encoded data removed]",
      "text/plain": [
       "<Figure size 1152x720 with 1 Axes>"
      ]
     },
     "metadata": {
      "needs_background": "light"
     },
     "output_type": "display_data"
    }
   ],
   "source": [
    "subset = experiments.loc[experiments.F_number_of_agents != 3]\n",
    "\n",
    "fig = plt.figure(figsize=(16, 10))\n",
    "\n",
    "sns.boxplot(x=subset.F_number_of_agents,\n",
    "            y=subset[response],\n",
    "            hue=subset.F_priority_scheme,\n",
    "            #hue_order = hue_order,\n",
    "            width=0.8,\n",
    "            dodge=True,\n",
    "            showfliers = False,\n",
    "            linewidth=1,\n",
    "            whis=1.5)\n",
    "\n",
    "plt.xlabel(\"Number of agents\")\n",
    "plt.ylabel(\"Throughput time in days\")\n",
    "\n",
    "plt.title(\"Throughput time performance\")\n",
    "\n",
    "\n",
    "plt.savefig(\"TT_performance.png\", dpi=200, bbox_inches = \"tight\")\n",
    "\n",
    "plt.show()"
   ]
  },
  {
   "cell_type": "code",
   "execution_count": 39,
   "id": "40a9fba7",
   "metadata": {},
   "outputs": [
    {
     "data": {
      "image/png": "[encoded data removed]",
      "text/plain": [
       "<Figure size 1152x720 with 1 Axes>"
      ]
     },
     "metadata": {
      "needs_background": "light"
     },
     "output_type": "display_data"
    }
   ],
   "source": [
    "subset = experiments.loc[experiments.F_number_of_agents ==12]\n",
    "\n",
    "fig = plt.figure(figsize=(16, 10))\n",
    "\n",
    "sns.boxplot(x=subset.F_number_of_agents,\n",
    "            y=subset[response],\n",
    "            hue=subset.F_priority_scheme,\n",
    "            #hue_order = hue_order,\n",
    "            width=0.8,\n",
    "            dodge=True,\n",
    "            showfliers = False,\n",
    "            linewidth=1,\n",
    "            whis=1.5)\n",
    "\n",
    "plt.xlabel(\"Number of agents\")\n",
    "plt.ylabel(\"Throughput time in days\")\n",
    "\n",
    "plt.title(\"Throughput time performance\")\n",
    "\n",
    "\n",
    "plt.savefig(\"TT_performance.png\", dpi=200, bbox_inches = \"tight\")\n",
    "\n",
    "plt.show()"
   ]
  },
  {
   "cell_type": "markdown",
   "id": "2b575a0b",
   "metadata": {},
   "source": [
    "# GLM: Gammra regression"
   ]
  },
  {
   "cell_type": "code",
   "execution_count": 23,
   "id": "2f180aac",
   "metadata": {},
   "outputs": [],
   "source": [
    "import statsmodels.api as sm\n",
    "#https://www.statsmodels.org/stable/glm.html"
   ]
  },
  {
   "cell_type": "code",
   "execution_count": 24,
   "id": "4d464fcd",
   "metadata": {},
   "outputs": [],
   "source": [
    "#sm.GLM()"
   ]
  },
  {
   "cell_type": "code",
   "execution_count": 25,
   "id": "0e8671e5",
   "metadata": {},
   "outputs": [
    {
     "data": {
      "text/plain": [
       "Index(['F_priority_scheme', 'F_number_of_agents', 'F_SLA', 'burn_in', 'days',\n",
       "       'startdate', 'service_level', 'repetition', 'closed_avg_simulated_NPS',\n",
       "       'closed_avg_simulated_throughput_time', 'closed_avg_predicted_NPS',\n",
       "       'closed_avg_predicted_throughput_time',\n",
       "       'closed_avg_predicted_NPS_priority', 'closed_avg_initial_delay',\n",
       "       'closed_avg_activity_start_delay', 'closed_avg_duration_delayed',\n",
       "       'all_avg_simulated_NPS', 'all_avg_simulated_throughput_time',\n",
       "       'all_avg_predicted_NPS', 'all_avg_predicted_throughput_time',\n",
       "       'all_avg_predicted_NPS_priority', 'all_avg_initial_delay',\n",
       "       'all_avg_activity_start_delay', 'all_avg_duration_delayed',\n",
       "       'cases_arrived', 'cases_closed', 'case_queued', 'cases_assigned_at_end',\n",
       "       'min_tracelen', 'max_tracelen', 'Simulation_duration_min', 'RUN',\n",
       "       'Done'],\n",
       "      dtype='object')"
      ]
     },
     "execution_count": 25,
     "metadata": {},
     "output_type": "execute_result"
    }
   ],
   "source": [
    "experiments.columns"
   ]
  },
  {
   "cell_type": "code",
   "execution_count": 26,
   "id": "4aff1414",
   "metadata": {},
   "outputs": [],
   "source": [
    "experiments[\"F_priority_scheme\"] = experiments.F_priority_scheme.astype('category')\n",
    "experiments[\"F_number_of_agents\"] = experiments.F_number_of_agents.astype('category')"
   ]
  },
  {
   "cell_type": "code",
   "execution_count": 27,
   "id": "8155c0ce",
   "metadata": {},
   "outputs": [],
   "source": [
    "formula = \"closed_avg_simulated_throughput_time ~ F_number_of_agents + F_priority_scheme + F_number_of_agents*F_priority_scheme\""
   ]
  },
  {
   "cell_type": "code",
   "execution_count": 28,
   "id": "5c7f16b5",
   "metadata": {},
   "outputs": [
    {
     "name": "stderr",
     "output_type": "stream",
     "text": [
      "C:\\Users\\Mike\\anaconda3\\envs\\PPM-RT-MODEL\\lib\\site-packages\\statsmodels\\genmod\\generalized_linear_model.py:298: DomainWarning: The inverse_power link function does not respect the domain of the Gamma family.\n",
      "  warnings.warn((f\"The {type(family.link).__name__} link function \"\n"
     ]
    }
   ],
   "source": [
    "import statsmodels.api as sm\n",
    "import statsmodels.formula.api as smf\n",
    "\n",
    "\"\"\"\n",
    "[statsmodels.genmod.families.links.Log,\n",
    " statsmodels.genmod.families.links.identity,\n",
    " statsmodels.genmod.families.links.inverse_power]\n",
    "\"\"\"\n",
    "link_fx = statsmodels.genmod.families.links.inverse_power()\n",
    "\n",
    "#Instantiate a gamma family model with the default link function.\n",
    "gamma_model = smf.glm(formula=formula, data=experiments, family=sm.families.Gamma(link_fx))"
   ]
  },
  {
   "cell_type": "code",
   "execution_count": 29,
   "id": "79e179af",
   "metadata": {},
   "outputs": [],
   "source": [
    "gamma_results = gamma_model.fit()"
   ]
  },
  {
   "cell_type": "code",
   "execution_count": 30,
   "id": "280ffb3f",
   "metadata": {},
   "outputs": [
    {
     "name": "stdout",
     "output_type": "stream",
     "text": [
      "                          Generalized Linear Model Regression Results                           \n",
      "================================================================================================\n",
      "Dep. Variable:     closed_avg_simulated_throughput_time   No. Observations:                 2000\n",
      "Model:                                              GLM   Df Residuals:                     1980\n",
      "Model Family:                                     Gamma   Df Model:                           19\n",
      "Link Function:                            inverse_power   Scale:                        0.023443\n",
      "Method:                                            IRLS   Log-Likelihood:                -4275.6\n",
      "Date:                                  Sat, 28 Jan 2023   Deviance:                       45.699\n",
      "Time:                                          21:01:37   Pearson chi2:                     46.4\n",
      "No. Iterations:                                       9   Pseudo R-squ. (CS):              1.000\n",
      "Covariance Type:                              nonrobust                                         \n",
      "=========================================================================================================================\n",
      "                                                            coef    std err          z      P>|z|      [0.025      0.975]\n",
      "-------------------------------------------------------------------------------------------------------------------------\n",
      "Intercept                                                 0.0043   6.55e-05     65.312      0.000       0.004       0.004\n",
      "F_number_of_agents[T.6]                                   0.0151      0.000     49.680      0.000       0.014       0.016\n",
      "F_number_of_agents[T.9]                                   0.1493      0.002     63.469      0.000       0.145       0.154\n",
      "F_number_of_agents[T.12]                                  0.2215      0.003     64.063      0.000       0.215       0.228\n",
      "F_priority_scheme[T.LRTF]                                 0.0629      0.001     61.030      0.000       0.061       0.065\n",
      "F_priority_scheme[T.NPS]                                  0.0626      0.001     61.010      0.000       0.061       0.065\n",
      "F_priority_scheme[T.NPS-SLA]                           1.548e-05   9.28e-05      0.167      0.867      -0.000       0.000\n",
      "F_priority_scheme[T.SRTF]                                 0.0343      0.001     57.718      0.000       0.033       0.035\n",
      "F_number_of_agents[T.6]:F_priority_scheme[T.LRTF]        -0.0053      0.002     -3.297      0.001      -0.008      -0.002\n",
      "F_number_of_agents[T.9]:F_priority_scheme[T.LRTF]        -0.0638      0.003    -18.372      0.000      -0.071      -0.057\n",
      "F_number_of_agents[T.12]:F_priority_scheme[T.LRTF]       -0.0616      0.005    -12.294      0.000      -0.071      -0.052\n",
      "F_number_of_agents[T.6]:F_priority_scheme[T.NPS]         -0.0053      0.002     -3.351      0.001      -0.008      -0.002\n",
      "F_number_of_agents[T.9]:F_priority_scheme[T.NPS]         -0.0595      0.004    -16.937      0.000      -0.066      -0.053\n",
      "F_number_of_agents[T.12]:F_priority_scheme[T.NPS]        -0.0603      0.005    -12.019      0.000      -0.070      -0.050\n",
      "F_number_of_agents[T.6]:F_priority_scheme[T.NPS-SLA]     -0.0008      0.000     -1.985      0.047      -0.002   -1.04e-05\n",
      "F_number_of_agents[T.9]:F_priority_scheme[T.NPS-SLA]      0.0025      0.003      0.753      0.451      -0.004       0.009\n",
      "F_number_of_agents[T.12]:F_priority_scheme[T.NPS-SLA]     0.0020      0.005      0.410      0.681      -0.008       0.012\n",
      "F_number_of_agents[T.6]:F_priority_scheme[T.SRTF]        -0.0034      0.001     -3.385      0.001      -0.005      -0.001\n",
      "F_number_of_agents[T.9]:F_priority_scheme[T.SRTF]        -0.0318      0.003     -9.327      0.000      -0.038      -0.025\n",
      "F_number_of_agents[T.12]:F_priority_scheme[T.SRTF]       -0.0323      0.005     -6.529      0.000      -0.042      -0.023\n",
      "=========================================================================================================================\n"
     ]
    }
   ],
   "source": [
    "print(gamma_results.summary())"
   ]
  },
  {
   "cell_type": "markdown",
   "id": "b546e391",
   "metadata": {},
   "source": [
    "# Waiting time for closed cases"
   ]
  },
  {
   "cell_type": "code",
   "execution_count": 42,
   "id": "dae1d380",
   "metadata": {},
   "outputs": [],
   "source": [
    "response = \"closed_avg_initial_delay\""
   ]
  },
  {
   "cell_type": "code",
   "execution_count": 43,
   "id": "d8fef0e2",
   "metadata": {},
   "outputs": [
    {
     "data": {
      "image/png": "[encoded data removed]",
      "text/plain": [
       "<Figure size 1152x720 with 1 Axes>"
      ]
     },
     "metadata": {
      "needs_background": "light"
     },
     "output_type": "display_data"
    }
   ],
   "source": [
    "fig = plt.figure(figsize=(16, 10))\n",
    "\n",
    "sns.boxplot(x=experiments.F_number_of_agents,\n",
    "            y=experiments[response],\n",
    "            hue=experiments.F_priority_scheme,\n",
    "            #hue_order = hue_order,\n",
    "            width=0.8,\n",
    "            dodge=True,\n",
    "            showfliers = False,\n",
    "            linewidth=1,\n",
    "            whis=1.5)\n",
    "\n",
    "plt.xlabel(\"Number of agents\")\n",
    "plt.ylabel(\"Average waiting time in days\")\n",
    "\n",
    "plt.title(\"Waiting time performance (closed cases)\")\n",
    "\n",
    "\n",
    "plt.savefig(\"Waiting_T_performance.png\", dpi=200, bbox_inches = \"tight\")\n",
    "\n",
    "plt.show()"
   ]
  },
  {
   "cell_type": "code",
   "execution_count": null,
   "id": "33507bee",
   "metadata": {},
   "outputs": [],
   "source": []
  }
 ],
 "metadata": {
  "kernelspec": {
   "display_name": "Python 3 (ipykernel)",
   "language": "python",
   "name": "python3"
  },
  "language_info": {
   "codemirror_mode": {
    "name": "ipython",
    "version": 3
   },
   "file_extension": ".py",
   "mimetype": "text/x-python",
   "name": "python",
   "nbconvert_exporter": "python",
   "pygments_lexer": "ipython3",
   "version": "3.8.13"
  }
 },
 "nbformat": 4,
 "nbformat_minor": 5
}
