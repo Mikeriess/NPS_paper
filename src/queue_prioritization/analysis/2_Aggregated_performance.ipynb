{
 "cells": [
  {
   "cell_type": "markdown",
   "id": "7bd1613d",
   "metadata": {},
   "source": [
    "# Study 1: Fit with existing data from salesforce"
   ]
  },
  {
   "cell_type": "code",
   "execution_count": 14,
   "id": "9334c201",
   "metadata": {},
   "outputs": [],
   "source": [
    "# No changes to the analysis here"
   ]
  },
  {
   "cell_type": "markdown",
   "id": "964d309c",
   "metadata": {},
   "source": [
    "# Study 2: Performance of proposed approaches"
   ]
  },
  {
   "cell_type": "code",
   "execution_count": 15,
   "id": "162b1d78",
   "metadata": {},
   "outputs": [],
   "source": [
    "import pandas as pd\n",
    "import numpy as np\n",
    "import statsmodels\n",
    "import seaborn as sns\n",
    "import scipy\n",
    "import matplotlib.pyplot as plt\n",
    "import seaborn as sns"
   ]
  },
  {
   "cell_type": "code",
   "execution_count": 16,
   "id": "9990708f",
   "metadata": {},
   "outputs": [
    {
     "data": {
      "text/html": [
       "<div>\n",
       "<style scoped>\n",
       "    .dataframe tbody tr th:only-of-type {\n",
       "        vertical-align: middle;\n",
       "    }\n",
       "\n",
       "    .dataframe tbody tr th {\n",
       "        vertical-align: top;\n",
       "    }\n",
       "\n",
       "    .dataframe thead th {\n",
       "        text-align: right;\n",
       "    }\n",
       "</style>\n",
       "<table border=\"1\" class=\"dataframe\">\n",
       "  <thead>\n",
       "    <tr style=\"text-align: right;\">\n",
       "      <th></th>\n",
       "      <th>F_priority_scheme</th>\n",
       "      <th>F_number_of_agents</th>\n",
       "      <th>F_hard_ceiling</th>\n",
       "      <th>ceiling_value</th>\n",
       "      <th>burn_in</th>\n",
       "      <th>days</th>\n",
       "      <th>startdate</th>\n",
       "      <th>repetition</th>\n",
       "      <th>closed_avg_simulated_NPS</th>\n",
       "      <th>closed_avg_simulated_throughput_time</th>\n",
       "      <th>...</th>\n",
       "      <th>h1_cases_arrived</th>\n",
       "      <th>h1_cases_closed</th>\n",
       "      <th>h2_cases_arrived</th>\n",
       "      <th>h2_cases_closed</th>\n",
       "      <th>h2_n_promoters</th>\n",
       "      <th>h2_n_detractors</th>\n",
       "      <th>h2_n_neutrals</th>\n",
       "      <th>h2_SIM_NPS</th>\n",
       "      <th>h2_closed_avg_simulated_NPS</th>\n",
       "      <th>h2_closed_avg_simulated_throughput_time</th>\n",
       "    </tr>\n",
       "  </thead>\n",
       "  <tbody>\n",
       "    <tr>\n",
       "      <th>0</th>\n",
       "      <td>FCFS</td>\n",
       "      <td>3</td>\n",
       "      <td>NONE</td>\n",
       "      <td>2.5</td>\n",
       "      <td>0</td>\n",
       "      <td>365</td>\n",
       "      <td>2018-07-01</td>\n",
       "      <td>0</td>\n",
       "      <td>-1</td>\n",
       "      <td>90.218883</td>\n",
       "      <td>...</td>\n",
       "      <td>389.0</td>\n",
       "      <td>302.0</td>\n",
       "      <td>389.0</td>\n",
       "      <td>0.0</td>\n",
       "      <td>NaN</td>\n",
       "      <td>NaN</td>\n",
       "      <td>NaN</td>\n",
       "      <td>NaN</td>\n",
       "      <td>NaN</td>\n",
       "      <td>NaN</td>\n",
       "    </tr>\n",
       "    <tr>\n",
       "      <th>1</th>\n",
       "      <td>SRTF</td>\n",
       "      <td>3</td>\n",
       "      <td>NONE</td>\n",
       "      <td>2.5</td>\n",
       "      <td>0</td>\n",
       "      <td>365</td>\n",
       "      <td>2018-07-01</td>\n",
       "      <td>0</td>\n",
       "      <td>-1</td>\n",
       "      <td>25.034114</td>\n",
       "      <td>...</td>\n",
       "      <td>362.0</td>\n",
       "      <td>183.0</td>\n",
       "      <td>362.0</td>\n",
       "      <td>106.0</td>\n",
       "      <td>34.0</td>\n",
       "      <td>42.0</td>\n",
       "      <td>30.0</td>\n",
       "      <td>-7.547170</td>\n",
       "      <td>8.128492</td>\n",
       "      <td>17.480474</td>\n",
       "    </tr>\n",
       "    <tr>\n",
       "      <th>2</th>\n",
       "      <td>LRTF</td>\n",
       "      <td>3</td>\n",
       "      <td>NONE</td>\n",
       "      <td>2.5</td>\n",
       "      <td>0</td>\n",
       "      <td>365</td>\n",
       "      <td>2018-07-01</td>\n",
       "      <td>0</td>\n",
       "      <td>-1</td>\n",
       "      <td>12.111148</td>\n",
       "      <td>...</td>\n",
       "      <td>389.0</td>\n",
       "      <td>147.0</td>\n",
       "      <td>389.0</td>\n",
       "      <td>130.0</td>\n",
       "      <td>57.0</td>\n",
       "      <td>46.0</td>\n",
       "      <td>27.0</td>\n",
       "      <td>8.461538</td>\n",
       "      <td>8.652812</td>\n",
       "      <td>10.056297</td>\n",
       "    </tr>\n",
       "    <tr>\n",
       "      <th>3</th>\n",
       "      <td>NPS</td>\n",
       "      <td>3</td>\n",
       "      <td>NONE</td>\n",
       "      <td>2.5</td>\n",
       "      <td>0</td>\n",
       "      <td>365</td>\n",
       "      <td>2018-07-01</td>\n",
       "      <td>0</td>\n",
       "      <td>-1</td>\n",
       "      <td>13.714178</td>\n",
       "      <td>...</td>\n",
       "      <td>381.0</td>\n",
       "      <td>158.0</td>\n",
       "      <td>381.0</td>\n",
       "      <td>138.0</td>\n",
       "      <td>70.0</td>\n",
       "      <td>41.0</td>\n",
       "      <td>27.0</td>\n",
       "      <td>21.014493</td>\n",
       "      <td>9.151989</td>\n",
       "      <td>10.268588</td>\n",
       "    </tr>\n",
       "    <tr>\n",
       "      <th>4</th>\n",
       "      <td>FCFS</td>\n",
       "      <td>6</td>\n",
       "      <td>NONE</td>\n",
       "      <td>2.5</td>\n",
       "      <td>0</td>\n",
       "      <td>365</td>\n",
       "      <td>2018-07-01</td>\n",
       "      <td>0</td>\n",
       "      <td>-1</td>\n",
       "      <td>53.041304</td>\n",
       "      <td>...</td>\n",
       "      <td>413.0</td>\n",
       "      <td>413.0</td>\n",
       "      <td>413.0</td>\n",
       "      <td>164.0</td>\n",
       "      <td>65.0</td>\n",
       "      <td>56.0</td>\n",
       "      <td>43.0</td>\n",
       "      <td>5.487805</td>\n",
       "      <td>8.623977</td>\n",
       "      <td>88.044488</td>\n",
       "    </tr>\n",
       "  </tbody>\n",
       "</table>\n",
       "<p>5 rows × 57 columns</p>\n",
       "</div>"
      ],
      "text/plain": [
       "  F_priority_scheme  F_number_of_agents F_hard_ceiling  ceiling_value  \\\n",
       "0              FCFS                   3           NONE            2.5   \n",
       "1              SRTF                   3           NONE            2.5   \n",
       "2              LRTF                   3           NONE            2.5   \n",
       "3               NPS                   3           NONE            2.5   \n",
       "4              FCFS                   6           NONE            2.5   \n",
       "\n",
       "   burn_in  days   startdate  repetition  closed_avg_simulated_NPS  \\\n",
       "0        0   365  2018-07-01           0                        -1   \n",
       "1        0   365  2018-07-01           0                        -1   \n",
       "2        0   365  2018-07-01           0                        -1   \n",
       "3        0   365  2018-07-01           0                        -1   \n",
       "4        0   365  2018-07-01           0                        -1   \n",
       "\n",
       "   closed_avg_simulated_throughput_time  ...  h1_cases_arrived  \\\n",
       "0                             90.218883  ...             389.0   \n",
       "1                             25.034114  ...             362.0   \n",
       "2                             12.111148  ...             389.0   \n",
       "3                             13.714178  ...             381.0   \n",
       "4                             53.041304  ...             413.0   \n",
       "\n",
       "   h1_cases_closed  h2_cases_arrived  h2_cases_closed  h2_n_promoters  \\\n",
       "0            302.0             389.0              0.0             NaN   \n",
       "1            183.0             362.0            106.0            34.0   \n",
       "2            147.0             389.0            130.0            57.0   \n",
       "3            158.0             381.0            138.0            70.0   \n",
       "4            413.0             413.0            164.0            65.0   \n",
       "\n",
       "   h2_n_detractors  h2_n_neutrals  h2_SIM_NPS  h2_closed_avg_simulated_NPS  \\\n",
       "0              NaN            NaN         NaN                          NaN   \n",
       "1             42.0           30.0   -7.547170                     8.128492   \n",
       "2             46.0           27.0    8.461538                     8.652812   \n",
       "3             41.0           27.0   21.014493                     9.151989   \n",
       "4             56.0           43.0    5.487805                     8.623977   \n",
       "\n",
       "   h2_closed_avg_simulated_throughput_time  \n",
       "0                                      NaN  \n",
       "1                                17.480474  \n",
       "2                                10.056297  \n",
       "3                                10.268588  \n",
       "4                                88.044488  \n",
       "\n",
       "[5 rows x 57 columns]"
      ]
     },
     "execution_count": 16,
     "metadata": {},
     "output_type": "execute_result"
    }
   ],
   "source": [
    "experiments = pd.read_csv(\"../results/experiments.csv\")\n",
    "experiments.head()"
   ]
  },
  {
   "cell_type": "code",
   "execution_count": 17,
   "id": "162c942b",
   "metadata": {},
   "outputs": [
    {
     "data": {
      "text/plain": [
       "{'F_priority_scheme': 'FCFS',\n",
       " 'F_number_of_agents': 3,\n",
       " 'F_hard_ceiling': 'NONE',\n",
       " 'ceiling_value': 2.5,\n",
       " 'burn_in': 0,\n",
       " 'days': 365,\n",
       " 'startdate': '2018-07-01',\n",
       " 'repetition': 0,\n",
       " 'closed_avg_simulated_NPS': -1,\n",
       " 'closed_avg_simulated_throughput_time': 90.21888255343302,\n",
       " 'closed_avg_predicted_NPS': -1,\n",
       " 'closed_avg_predicted_throughput_time': -1,\n",
       " 'closed_avg_predicted_NPS_priority': -1,\n",
       " 'closed_avg_initial_delay': -1,\n",
       " 'closed_avg_activity_start_delay': -1,\n",
       " 'closed_avg_duration_delayed': -1,\n",
       " 'all_avg_simulated_NPS': -1,\n",
       " 'all_avg_simulated_throughput_time': -1,\n",
       " 'all_avg_predicted_NPS': -1,\n",
       " 'all_avg_predicted_throughput_time': -1,\n",
       " 'all_avg_predicted_NPS_priority': -1,\n",
       " 'all_avg_initial_delay': -1,\n",
       " 'all_avg_activity_start_delay': -1,\n",
       " 'all_avg_duration_delayed': -1,\n",
       " 'cases_arrived': 722,\n",
       " 'cases_closed': 302,\n",
       " 'case_queued': -1,\n",
       " 'cases_assigned_at_end': -1,\n",
       " 'min_tracelen': 1,\n",
       " 'max_tracelen': 12,\n",
       " 'Simulation_duration_min': -1,\n",
       " 'RUN': 0,\n",
       " 'Done': 0,\n",
       " 'closed_avg_simulated_NPS_response': 9.063628179805889,\n",
       " 'n_promoters': 143.0,\n",
       " 'n_detractors': 96.0,\n",
       " 'n_neutrals': 63.0,\n",
       " 'SIM_NPS': 15.562913907284765,\n",
       " 'avg_daily_queue_waitingtime': 47.11298236743147,\n",
       " 'avg_n_cases_waiting_in_queue': 194.08219178082192,\n",
       " 'avg_n_busy_agents': 2.9726027397260277,\n",
       " 'h1_n_promoters': 143.0,\n",
       " 'h1_n_detractors': 96.0,\n",
       " 'h1_n_neutrals': 63.0,\n",
       " 'h1_SIM_NPS': 15.562913907284765,\n",
       " 'h1_closed_avg_simulated_NPS': 9.063628179805889,\n",
       " 'h1_closed_avg_simulated_throughput_time': 90.21888255343302,\n",
       " 'h1_cases_arrived': 389.0,\n",
       " 'h1_cases_closed': 302.0,\n",
       " 'h2_cases_arrived': 389.0,\n",
       " 'h2_cases_closed': 0.0,\n",
       " 'h2_n_promoters': nan,\n",
       " 'h2_n_detractors': nan,\n",
       " 'h2_n_neutrals': nan,\n",
       " 'h2_SIM_NPS': nan,\n",
       " 'h2_closed_avg_simulated_NPS': nan,\n",
       " 'h2_closed_avg_simulated_throughput_time': nan}"
      ]
     },
     "execution_count": 17,
     "metadata": {},
     "output_type": "execute_result"
    }
   ],
   "source": [
    "experiments.loc[0].to_dict()"
   ]
  },
  {
   "cell_type": "markdown",
   "id": "23e0dfdd",
   "metadata": {},
   "source": [
    "# Effects on case throughput time"
   ]
  },
  {
   "cell_type": "code",
   "execution_count": 18,
   "id": "a7ab550d",
   "metadata": {},
   "outputs": [
    {
     "data": {
      "text/plain": [
       "Index(['F_priority_scheme', 'F_number_of_agents', 'F_hard_ceiling',\n",
       "       'ceiling_value', 'burn_in', 'days', 'startdate', 'repetition',\n",
       "       'closed_avg_simulated_NPS', 'closed_avg_simulated_throughput_time',\n",
       "       'closed_avg_predicted_NPS', 'closed_avg_predicted_throughput_time',\n",
       "       'closed_avg_predicted_NPS_priority', 'closed_avg_initial_delay',\n",
       "       'closed_avg_activity_start_delay', 'closed_avg_duration_delayed',\n",
       "       'all_avg_simulated_NPS', 'all_avg_simulated_throughput_time',\n",
       "       'all_avg_predicted_NPS', 'all_avg_predicted_throughput_time',\n",
       "       'all_avg_predicted_NPS_priority', 'all_avg_initial_delay',\n",
       "       'all_avg_activity_start_delay', 'all_avg_duration_delayed',\n",
       "       'cases_arrived', 'cases_closed', 'case_queued', 'cases_assigned_at_end',\n",
       "       'min_tracelen', 'max_tracelen', 'Simulation_duration_min', 'RUN',\n",
       "       'Done', 'closed_avg_simulated_NPS_response', 'n_promoters',\n",
       "       'n_detractors', 'n_neutrals', 'SIM_NPS', 'avg_daily_queue_waitingtime',\n",
       "       'avg_n_cases_waiting_in_queue', 'avg_n_busy_agents', 'h1_n_promoters',\n",
       "       'h1_n_detractors', 'h1_n_neutrals', 'h1_SIM_NPS',\n",
       "       'h1_closed_avg_simulated_NPS',\n",
       "       'h1_closed_avg_simulated_throughput_time', 'h1_cases_arrived',\n",
       "       'h1_cases_closed', 'h2_cases_arrived', 'h2_cases_closed',\n",
       "       'h2_n_promoters', 'h2_n_detractors', 'h2_n_neutrals', 'h2_SIM_NPS',\n",
       "       'h2_closed_avg_simulated_NPS',\n",
       "       'h2_closed_avg_simulated_throughput_time'],\n",
       "      dtype='object')"
      ]
     },
     "execution_count": 18,
     "metadata": {},
     "output_type": "execute_result"
    }
   ],
   "source": [
    "experiments.columns"
   ]
  },
  {
   "cell_type": "code",
   "execution_count": 19,
   "id": "775853c5",
   "metadata": {},
   "outputs": [
    {
     "data": {
      "text/html": [
       "<div>\n",
       "<style scoped>\n",
       "    .dataframe tbody tr th:only-of-type {\n",
       "        vertical-align: middle;\n",
       "    }\n",
       "\n",
       "    .dataframe tbody tr th {\n",
       "        vertical-align: top;\n",
       "    }\n",
       "\n",
       "    .dataframe thead th {\n",
       "        text-align: right;\n",
       "    }\n",
       "</style>\n",
       "<table border=\"1\" class=\"dataframe\">\n",
       "  <thead>\n",
       "    <tr style=\"text-align: right;\">\n",
       "      <th></th>\n",
       "      <th></th>\n",
       "      <th>closed_avg_simulated_throughput_time</th>\n",
       "    </tr>\n",
       "    <tr>\n",
       "      <th>F_priority_scheme</th>\n",
       "      <th>F_number_of_agents</th>\n",
       "      <th></th>\n",
       "    </tr>\n",
       "  </thead>\n",
       "  <tbody>\n",
       "    <tr>\n",
       "      <th rowspan=\"4\" valign=\"top\">FCFS</th>\n",
       "      <th>3</th>\n",
       "      <td>107.292854</td>\n",
       "    </tr>\n",
       "    <tr>\n",
       "      <th>6</th>\n",
       "      <td>41.143234</td>\n",
       "    </tr>\n",
       "    <tr>\n",
       "      <th>9</th>\n",
       "      <td>6.206001</td>\n",
       "    </tr>\n",
       "    <tr>\n",
       "      <th>12</th>\n",
       "      <td>4.150067</td>\n",
       "    </tr>\n",
       "    <tr>\n",
       "      <th rowspan=\"4\" valign=\"top\">LRTF</th>\n",
       "      <th>3</th>\n",
       "      <td>59.886371</td>\n",
       "    </tr>\n",
       "    <tr>\n",
       "      <th>6</th>\n",
       "      <td>26.181105</td>\n",
       "    </tr>\n",
       "    <tr>\n",
       "      <th>9</th>\n",
       "      <td>6.066277</td>\n",
       "    </tr>\n",
       "    <tr>\n",
       "      <th>12</th>\n",
       "      <td>4.163162</td>\n",
       "    </tr>\n",
       "    <tr>\n",
       "      <th rowspan=\"4\" valign=\"top\">NPS</th>\n",
       "      <th>3</th>\n",
       "      <td>59.909384</td>\n",
       "    </tr>\n",
       "    <tr>\n",
       "      <th>6</th>\n",
       "      <td>27.569989</td>\n",
       "    </tr>\n",
       "    <tr>\n",
       "      <th>9</th>\n",
       "      <td>6.042617</td>\n",
       "    </tr>\n",
       "    <tr>\n",
       "      <th>12</th>\n",
       "      <td>4.161052</td>\n",
       "    </tr>\n",
       "    <tr>\n",
       "      <th rowspan=\"4\" valign=\"top\">SRTF</th>\n",
       "      <th>3</th>\n",
       "      <td>67.032266</td>\n",
       "    </tr>\n",
       "    <tr>\n",
       "      <th>6</th>\n",
       "      <td>30.971073</td>\n",
       "    </tr>\n",
       "    <tr>\n",
       "      <th>9</th>\n",
       "      <td>6.197746</td>\n",
       "    </tr>\n",
       "    <tr>\n",
       "      <th>12</th>\n",
       "      <td>4.159563</td>\n",
       "    </tr>\n",
       "  </tbody>\n",
       "</table>\n",
       "</div>"
      ],
      "text/plain": [
       "                                      closed_avg_simulated_throughput_time\n",
       "F_priority_scheme F_number_of_agents                                      \n",
       "FCFS              3                                             107.292854\n",
       "                  6                                              41.143234\n",
       "                  9                                               6.206001\n",
       "                  12                                              4.150067\n",
       "LRTF              3                                              59.886371\n",
       "                  6                                              26.181105\n",
       "                  9                                               6.066277\n",
       "                  12                                              4.163162\n",
       "NPS               3                                              59.909384\n",
       "                  6                                              27.569989\n",
       "                  9                                               6.042617\n",
       "                  12                                              4.161052\n",
       "SRTF              3                                              67.032266\n",
       "                  6                                              30.971073\n",
       "                  9                                               6.197746\n",
       "                  12                                              4.159563"
      ]
     },
     "execution_count": 19,
     "metadata": {},
     "output_type": "execute_result"
    }
   ],
   "source": [
    " #Crosstab AE by trace length\n",
    "    \n",
    "response = \"closed_avg_simulated_throughput_time\"\n",
    "factors = [\"F_priority_scheme\",\"F_number_of_agents\"]\n",
    "    \n",
    "pivottable = pd.pivot_table(experiments, \n",
    "                            values=response,\n",
    "                            columns=factors, \n",
    "                            aggfunc=np.mean).T\n",
    "\n",
    "#pivottable = pivottable.reset_index()\n",
    "\n",
    "pivottable"
   ]
  },
  {
   "cell_type": "code",
   "execution_count": 20,
   "id": "7ba42dc0",
   "metadata": {},
   "outputs": [
    {
     "name": "stdout",
     "output_type": "stream",
     "text": [
      "\\begin{tabular}{|l|l|r|}\n",
      "\\hline\n",
      "     &    &  closed\\_avg\\_simulated\\_throughput\\_time \\\\\n",
      "Priority scheme & Number of agents &                                       \\\\\n",
      "\\hline\n",
      "FCFS & 3  &                            107.292854 \\\\\n",
      "     & 6  &                             41.143234 \\\\\n",
      "     & 9  &                              6.206001 \\\\\n",
      "     & 12 &                              4.150067 \\\\\n",
      "LRTF & 3  &                             59.886371 \\\\\n",
      "     & 6  &                             26.181105 \\\\\n",
      "     & 9  &                              6.066277 \\\\\n",
      "     & 12 &                              4.163162 \\\\\n",
      "NPS & 3  &                             59.909384 \\\\\n",
      "     & 6  &                             27.569989 \\\\\n",
      "     & 9  &                              6.042617 \\\\\n",
      "     & 12 &                              4.161052 \\\\\n",
      "SRTF & 3  &                             67.032266 \\\\\n",
      "     & 6  &                             30.971073 \\\\\n",
      "     & 9  &                              6.197746 \\\\\n",
      "     & 12 &                              4.159563 \\\\\n",
      "\\hline\n",
      "\\end{tabular}\n",
      "\n"
     ]
    },
    {
     "name": "stderr",
     "output_type": "stream",
     "text": [
      "C:\\Users\\Mike\\AppData\\Local\\Temp\\ipykernel_9856\\1350266391.py:1: FutureWarning: In future versions `DataFrame.to_latex` is expected to utilise the base implementation of `Styler.to_latex` for formatting and rendering. The arguments signature may therefore change. It is recommended instead to use `DataFrame.style.to_latex` which also contains additional functionality.\n",
      "  string = str((pivottable.to_latex(index=True)))\n"
     ]
    }
   ],
   "source": [
    "\n",
    "\n",
    "string = str((pivottable.to_latex(index=True)))\n",
    "string = string.replace('!', '$\\pm$')\n",
    "\n",
    "string = string.replace(\"toprule\",\"hline\")\n",
    "string = string.replace(\"midrule\",\"hline\")\n",
    "string = string.replace(\"bottomrule\",\"hline\") #\n",
    "\n",
    "string = string.replace(\"MAE           &\",\"$MAE$           &\")\n",
    "string = string.replace(\"MAE\\_Etd\",\"$MAE_{EtD}$\")\n",
    "string = string.replace(\"MAE\\_Mtd\",\"$MAE_{MtD}$\")\n",
    "string = string.replace(\"MAE\\_Ptd\",\"$MAE_{PtD}$\")\n",
    "\n",
    "string = string.replace(\"llr\",\"|l|l|r|\")\n",
    "\n",
    "string = string.replace(\"data\",\"Loss function\")\n",
    "\n",
    "string = string.replace(\"loss\\_function &             &              &               &                  \\\\\",\"\")\n",
    "\n",
    "string = string.replace('F\\_number\\_of\\_agents', 'Number of agents')\n",
    "string = string.replace('F\\_priority\\_scheme', 'Priority scheme')\n",
    "string = string.replace('closed\\_avg\\_simulated\\_NPS', 'Simulated tNPS')\n",
    "\n",
    "pivottable\n",
    "print(string)"
   ]
  },
  {
   "cell_type": "code",
   "execution_count": null,
   "id": "a56715cd",
   "metadata": {},
   "outputs": [],
   "source": []
  },
  {
   "cell_type": "code",
   "execution_count": null,
   "id": "9b09dff1",
   "metadata": {},
   "outputs": [],
   "source": []
  },
  {
   "cell_type": "code",
   "execution_count": 21,
   "id": "38bd4d9d",
   "metadata": {},
   "outputs": [
    {
     "data": {
      "image/png": "[encoded data removed]",
      "text/plain": [
       "<Figure size 1152x720 with 1 Axes>"
      ]
     },
     "metadata": {
      "needs_background": "light"
     },
     "output_type": "display_data"
    }
   ],
   "source": [
    "fig = plt.figure(figsize=(16, 10))\n",
    "\n",
    "sns.boxplot(x=experiments.F_number_of_agents,\n",
    "            y=experiments[response],\n",
    "            hue=experiments.F_priority_scheme,\n",
    "            #hue_order = hue_order,\n",
    "            width=0.8,\n",
    "            dodge=True,\n",
    "            showfliers = False,\n",
    "            linewidth=1,\n",
    "            whis=1.5)\n",
    "\n",
    "plt.xlabel(\"Number of agents\")\n",
    "plt.ylabel(\"Throughput time in days\")\n",
    "\n",
    "plt.title(\"Throughput time performance\")\n",
    "\n",
    "\n",
    "plt.savefig(\"TT_performance.png\", dpi=200, bbox_inches = \"tight\")\n",
    "\n",
    "plt.show()"
   ]
  },
  {
   "cell_type": "code",
   "execution_count": 22,
   "id": "49d8bca8",
   "metadata": {},
   "outputs": [
    {
     "data": {
      "image/png": "[encoded data removed]",
      "text/plain": [
       "<Figure size 1152x432 with 2 Axes>"
      ]
     },
     "metadata": {
      "needs_background": "light"
     },
     "output_type": "display_data"
    }
   ],
   "source": [
    "response = \"closed_avg_simulated_throughput_time\"\n",
    "\n",
    "fig, ax = plt.subplots(\n",
    "    nrows=1,\n",
    "    ncols=2, figsize=(16, 6))\n",
    "\n",
    "st = fig.suptitle(\"Simulated throughput time performance for closed cases: Priority scheme vs. Number of agents\", fontsize=\"x-large\")\n",
    "\n",
    "\"\"\" divide to two plots\"\"\"\n",
    "\n",
    "width = 0.8\n",
    "linewidth = 1\n",
    "\n",
    "hue_order = [\"FCFS\",\"SRTF\",\"LRTF\",\"NPS\"]\n",
    "\n",
    "NONE = experiments.loc[experiments.F_hard_ceiling == \"NONE\"]\n",
    "\n",
    "sns.boxplot(x=NONE.F_number_of_agents,\n",
    "            y=NONE[response],\n",
    "            hue=NONE.F_priority_scheme,\n",
    "            hue_order = hue_order,\n",
    "            width=width,\n",
    "            dodge=True,\n",
    "            showfliers = False,\n",
    "            linewidth=linewidth,\n",
    "            whis=1.5,\n",
    "            ax=ax[0])\n",
    "\n",
    "\n",
    "SLA = experiments.loc[experiments.F_hard_ceiling == \"SLA\"]\n",
    "\n",
    "sns.boxplot(x=SLA.F_number_of_agents,\n",
    "            y=SLA[response],\n",
    "            hue=SLA.F_priority_scheme,\n",
    "            hue_order = hue_order,\n",
    "            width=width,\n",
    "            dodge=True,\n",
    "            showfliers = False,\n",
    "            linewidth=linewidth,\n",
    "            whis=1.5,\n",
    "            ax=ax[1])\n",
    "\n",
    "#fig.title(\"Simulated tNPS performance (after case completion)\")\n",
    "\n",
    "ax[0].set(ylabel='Simulated throughput time (days)', xlabel='No hard ceiling')#, ylim=[-93,-83])\n",
    "ax[0].legend([],[], frameon=False)\n",
    "\n",
    "ax[1].set(ylabel='Simulated throughput time (days)', xlabel='Hard ceiling = 2.5 days')#, ylim=[-93,-83])\n",
    "ax[1].legend(loc='lower right')\n",
    "\n",
    "plt.savefig(\"TT_performance.png\", dpi=200, bbox_inches = \"tight\")"
   ]
  },
  {
   "cell_type": "code",
   "execution_count": null,
   "id": "40a9fba7",
   "metadata": {},
   "outputs": [],
   "source": []
  },
  {
   "cell_type": "markdown",
   "id": "2b575a0b",
   "metadata": {},
   "source": [
    "# GLM: Gammra regression"
   ]
  },
  {
   "cell_type": "code",
   "execution_count": 23,
   "id": "2f180aac",
   "metadata": {},
   "outputs": [],
   "source": [
    "import statsmodels.api as sm\n",
    "#https://www.statsmodels.org/stable/glm.html"
   ]
  },
  {
   "cell_type": "code",
   "execution_count": 24,
   "id": "4d464fcd",
   "metadata": {},
   "outputs": [],
   "source": [
    "#sm.GLM()"
   ]
  },
  {
   "cell_type": "code",
   "execution_count": 25,
   "id": "0e8671e5",
   "metadata": {},
   "outputs": [
    {
     "data": {
      "text/plain": [
       "Index(['F_priority_scheme', 'F_number_of_agents', 'F_SLA', 'burn_in', 'days',\n",
       "       'startdate', 'service_level', 'repetition', 'closed_avg_simulated_NPS',\n",
       "       'closed_avg_simulated_throughput_time', 'closed_avg_predicted_NPS',\n",
       "       'closed_avg_predicted_throughput_time',\n",
       "       'closed_avg_predicted_NPS_priority', 'closed_avg_initial_delay',\n",
       "       'closed_avg_activity_start_delay', 'closed_avg_duration_delayed',\n",
       "       'all_avg_simulated_NPS', 'all_avg_simulated_throughput_time',\n",
       "       'all_avg_predicted_NPS', 'all_avg_predicted_throughput_time',\n",
       "       'all_avg_predicted_NPS_priority', 'all_avg_initial_delay',\n",
       "       'all_avg_activity_start_delay', 'all_avg_duration_delayed',\n",
       "       'cases_arrived', 'cases_closed', 'case_queued', 'cases_assigned_at_end',\n",
       "       'min_tracelen', 'max_tracelen', 'Simulation_duration_min', 'RUN',\n",
       "       'Done'],\n",
       "      dtype='object')"
      ]
     },
     "execution_count": 25,
     "metadata": {},
     "output_type": "execute_result"
    }
   ],
   "source": [
    "experiments.columns"
   ]
  },
  {
   "cell_type": "code",
   "execution_count": 26,
   "id": "4aff1414",
   "metadata": {},
   "outputs": [],
   "source": [
    "experiments[\"F_priority_scheme\"] = experiments.F_priority_scheme.astype('category')\n",
    "experiments[\"F_number_of_agents\"] = experiments.F_number_of_agents.astype('category')"
   ]
  },
  {
   "cell_type": "code",
   "execution_count": 27,
   "id": "8155c0ce",
   "metadata": {},
   "outputs": [],
   "source": [
    "formula = \"closed_avg_simulated_throughput_time ~ F_number_of_agents + F_priority_scheme + F_number_of_agents*F_priority_scheme\""
   ]
  },
  {
   "cell_type": "code",
   "execution_count": 28,
   "id": "5c7f16b5",
   "metadata": {},
   "outputs": [
    {
     "name": "stderr",
     "output_type": "stream",
     "text": [
      "C:\\Users\\Mike\\anaconda3\\envs\\PPM-RT-MODEL\\lib\\site-packages\\statsmodels\\genmod\\generalized_linear_model.py:298: DomainWarning: The inverse_power link function does not respect the domain of the Gamma family.\n",
      "  warnings.warn((f\"The {type(family.link).__name__} link function \"\n"
     ]
    }
   ],
   "source": [
    "import statsmodels.api as sm\n",
    "import statsmodels.formula.api as smf\n",
    "\n",
    "\"\"\"\n",
    "[statsmodels.genmod.families.links.Log,\n",
    " statsmodels.genmod.families.links.identity,\n",
    " statsmodels.genmod.families.links.inverse_power]\n",
    "\"\"\"\n",
    "link_fx = statsmodels.genmod.families.links.inverse_power()\n",
    "\n",
    "#Instantiate a gamma family model with the default link function.\n",
    "gamma_model = smf.glm(formula=formula, data=experiments, family=sm.families.Gamma(link_fx))"
   ]
  },
  {
   "cell_type": "code",
   "execution_count": 29,
   "id": "79e179af",
   "metadata": {},
   "outputs": [],
   "source": [
    "gamma_results = gamma_model.fit()"
   ]
  },
  {
   "cell_type": "code",
   "execution_count": 30,
   "id": "280ffb3f",
   "metadata": {},
   "outputs": [
    {
     "name": "stdout",
     "output_type": "stream",
     "text": [
      "                          Generalized Linear Model Regression Results                           \n",
      "================================================================================================\n",
      "Dep. Variable:     closed_avg_simulated_throughput_time   No. Observations:                 2000\n",
      "Model:                                              GLM   Df Residuals:                     1980\n",
      "Model Family:                                     Gamma   Df Model:                           19\n",
      "Link Function:                            inverse_power   Scale:                        0.023443\n",
      "Method:                                            IRLS   Log-Likelihood:                -4275.6\n",
      "Date:                                  Sat, 28 Jan 2023   Deviance:                       45.699\n",
      "Time:                                          21:01:37   Pearson chi2:                     46.4\n",
      "No. Iterations:                                       9   Pseudo R-squ. (CS):              1.000\n",
      "Covariance Type:                              nonrobust                                         \n",
      "=========================================================================================================================\n",
      "                                                            coef    std err          z      P>|z|      [0.025      0.975]\n",
      "-------------------------------------------------------------------------------------------------------------------------\n",
      "Intercept                                                 0.0043   6.55e-05     65.312      0.000       0.004       0.004\n",
      "F_number_of_agents[T.6]                                   0.0151      0.000     49.680      0.000       0.014       0.016\n",
      "F_number_of_agents[T.9]                                   0.1493      0.002     63.469      0.000       0.145       0.154\n",
      "F_number_of_agents[T.12]                                  0.2215      0.003     64.063      0.000       0.215       0.228\n",
      "F_priority_scheme[T.LRTF]                                 0.0629      0.001     61.030      0.000       0.061       0.065\n",
      "F_priority_scheme[T.NPS]                                  0.0626      0.001     61.010      0.000       0.061       0.065\n",
      "F_priority_scheme[T.NPS-SLA]                           1.548e-05   9.28e-05      0.167      0.867      -0.000       0.000\n",
      "F_priority_scheme[T.SRTF]                                 0.0343      0.001     57.718      0.000       0.033       0.035\n",
      "F_number_of_agents[T.6]:F_priority_scheme[T.LRTF]        -0.0053      0.002     -3.297      0.001      -0.008      -0.002\n",
      "F_number_of_agents[T.9]:F_priority_scheme[T.LRTF]        -0.0638      0.003    -18.372      0.000      -0.071      -0.057\n",
      "F_number_of_agents[T.12]:F_priority_scheme[T.LRTF]       -0.0616      0.005    -12.294      0.000      -0.071      -0.052\n",
      "F_number_of_agents[T.6]:F_priority_scheme[T.NPS]         -0.0053      0.002     -3.351      0.001      -0.008      -0.002\n",
      "F_number_of_agents[T.9]:F_priority_scheme[T.NPS]         -0.0595      0.004    -16.937      0.000      -0.066      -0.053\n",
      "F_number_of_agents[T.12]:F_priority_scheme[T.NPS]        -0.0603      0.005    -12.019      0.000      -0.070      -0.050\n",
      "F_number_of_agents[T.6]:F_priority_scheme[T.NPS-SLA]     -0.0008      0.000     -1.985      0.047      -0.002   -1.04e-05\n",
      "F_number_of_agents[T.9]:F_priority_scheme[T.NPS-SLA]      0.0025      0.003      0.753      0.451      -0.004       0.009\n",
      "F_number_of_agents[T.12]:F_priority_scheme[T.NPS-SLA]     0.0020      0.005      0.410      0.681      -0.008       0.012\n",
      "F_number_of_agents[T.6]:F_priority_scheme[T.SRTF]        -0.0034      0.001     -3.385      0.001      -0.005      -0.001\n",
      "F_number_of_agents[T.9]:F_priority_scheme[T.SRTF]        -0.0318      0.003     -9.327      0.000      -0.038      -0.025\n",
      "F_number_of_agents[T.12]:F_priority_scheme[T.SRTF]       -0.0323      0.005     -6.529      0.000      -0.042      -0.023\n",
      "=========================================================================================================================\n"
     ]
    }
   ],
   "source": [
    "print(gamma_results.summary())"
   ]
  },
  {
   "cell_type": "markdown",
   "id": "b546e391",
   "metadata": {},
   "source": [
    "# Performance analysis"
   ]
  },
  {
   "cell_type": "code",
   "execution_count": 33,
   "id": "e7dea35c",
   "metadata": {},
   "outputs": [
    {
     "data": {
      "text/plain": [
       "F_priority_scheme                                LRTF\n",
       "F_number_of_agents                                  9\n",
       "F_hard_ceiling                                   NONE\n",
       "ceiling_value                                     2.5\n",
       "burn_in                                             0\n",
       "days                                              365\n",
       "startdate                                  2018-07-01\n",
       "repetition                                          0\n",
       "closed_avg_simulated_NPS                           -1\n",
       "closed_avg_simulated_throughput_time          4.61643\n",
       "closed_avg_predicted_NPS                           -1\n",
       "closed_avg_predicted_throughput_time               -1\n",
       "closed_avg_predicted_NPS_priority                  -1\n",
       "closed_avg_initial_delay                           -1\n",
       "closed_avg_activity_start_delay                    -1\n",
       "closed_avg_duration_delayed                        -1\n",
       "all_avg_simulated_NPS                              -1\n",
       "all_avg_simulated_throughput_time                  -1\n",
       "all_avg_predicted_NPS                              -1\n",
       "all_avg_predicted_throughput_time                  -1\n",
       "all_avg_predicted_NPS_priority                     -1\n",
       "all_avg_initial_delay                              -1\n",
       "all_avg_activity_start_delay                       -1\n",
       "all_avg_duration_delayed                           -1\n",
       "cases_arrived                                     736\n",
       "cases_closed                                      722\n",
       "case_queued                                        -1\n",
       "cases_assigned_at_end                              -1\n",
       "min_tracelen                                        1\n",
       "max_tracelen                                       19\n",
       "Simulation_duration_min                            -1\n",
       "RUN                                                10\n",
       "Done                                                0\n",
       "closed_avg_simulated_NPS_response            9.069632\n",
       "n_promoters                                     334.0\n",
       "n_detractors                                    213.0\n",
       "n_neutrals                                      175.0\n",
       "SIM_NPS                                     16.759003\n",
       "avg_daily_queue_waitingtime                  0.457157\n",
       "avg_n_cases_waiting_in_queue                 1.221918\n",
       "avg_n_busy_agents                            6.657534\n",
       "h1_n_promoters                                  190.0\n",
       "h1_n_detractors                                 127.0\n",
       "h1_n_neutrals                                    93.0\n",
       "h1_SIM_NPS                                  15.365854\n",
       "h1_closed_avg_simulated_NPS                  9.006364\n",
       "h1_closed_avg_simulated_throughput_time      4.715339\n",
       "h1_cases_arrived                                410.0\n",
       "h1_cases_closed                                 410.0\n",
       "h2_cases_arrived                                410.0\n",
       "h2_cases_closed                                 312.0\n",
       "h2_n_promoters                                  144.0\n",
       "h2_n_detractors                                  86.0\n",
       "h2_n_neutrals                                    82.0\n",
       "h2_SIM_NPS                                  18.589744\n",
       "h2_closed_avg_simulated_NPS                  9.152774\n",
       "h2_closed_avg_simulated_throughput_time      4.486453\n",
       "case_completion_rate                         0.980978\n",
       "Name: 10, dtype: object"
      ]
     },
     "execution_count": 33,
     "metadata": {},
     "output_type": "execute_result"
    }
   ],
   "source": [
    "experiments.loc[10]"
   ]
  },
  {
   "cell_type": "code",
   "execution_count": 28,
   "id": "d03e623d",
   "metadata": {},
   "outputs": [],
   "source": [
    "experiments[\"case_completion_rate\"] = experiments[\"cases_closed\"] / experiments[\"cases_arrived\"]"
   ]
  },
  {
   "cell_type": "code",
   "execution_count": 32,
   "id": "33507bee",
   "metadata": {},
   "outputs": [
    {
     "data": {
      "text/plain": [
       "<matplotlib.legend.Legend at 0x1bdc57ff0a0>"
      ]
     },
     "execution_count": 32,
     "metadata": {},
     "output_type": "execute_result"
    },
    {
     "data": {
      "image/png": "[encoded data removed]",
      "text/plain": [
       "<Figure size 1152x432 with 2 Axes>"
      ]
     },
     "metadata": {
      "needs_background": "light"
     },
     "output_type": "display_data"
    }
   ],
   "source": [
    "response = \"case_completion_rate\"\n",
    "\n",
    "fig, ax = plt.subplots(\n",
    "    nrows=1,\n",
    "    ncols=2, figsize=(16, 6))\n",
    "\n",
    "st = fig.suptitle(response, fontsize=\"x-large\")\n",
    "\n",
    "\"\"\" divide to two plots\"\"\"\n",
    "\n",
    "width = 0.8\n",
    "linewidth = 1\n",
    "\n",
    "hue_order = [\"FCFS\",\"SRTF\",\"LRTF\",\"NPS\"]\n",
    "\n",
    "NONE = experiments.loc[experiments.F_hard_ceiling == \"NONE\"]\n",
    "\n",
    "sns.boxplot(x=NONE.F_number_of_agents,\n",
    "            y=NONE[response],\n",
    "            hue=NONE.F_priority_scheme,\n",
    "            hue_order = hue_order,\n",
    "            width=width,\n",
    "            dodge=True,\n",
    "            showfliers = False,\n",
    "            linewidth=linewidth,\n",
    "            whis=1.5,\n",
    "            ax=ax[0])\n",
    "\n",
    "\n",
    "SLA = experiments.loc[experiments.F_hard_ceiling == \"SLA\"]\n",
    "\n",
    "sns.boxplot(x=SLA.F_number_of_agents,\n",
    "            y=SLA[response],\n",
    "            hue=SLA.F_priority_scheme,\n",
    "            hue_order = hue_order,\n",
    "            width=width,\n",
    "            dodge=True,\n",
    "            showfliers = False,\n",
    "            linewidth=linewidth,\n",
    "            whis=1.5,\n",
    "            ax=ax[1])\n",
    "\n",
    "#fig.title(\"Simulated tNPS performance (after case completion)\")\n",
    "\n",
    "ax[0].set(ylabel=response, xlabel='No hard ceiling')#, ylim=[0, 120])\n",
    "ax[0].legend([],[], frameon=False)\n",
    "\n",
    "ax[1].set(ylabel=response, xlabel='Hard ceiling = 2.5 days')#, ylim=[0, 120])\n",
    "ax[1].legend(loc='lower right')\n",
    "\n",
    "#plt.savefig(\"WT_performance.png\", dpi=200, bbox_inches = \"tight\")"
   ]
  },
  {
   "cell_type": "markdown",
   "id": "6e03ed83",
   "metadata": {},
   "source": [
    "# Average number of cases waiting in queue"
   ]
  },
  {
   "cell_type": "code",
   "execution_count": 34,
   "id": "b091e04d",
   "metadata": {},
   "outputs": [
    {
     "data": {
      "text/plain": [
       "<matplotlib.legend.Legend at 0x1bdc5e18130>"
      ]
     },
     "execution_count": 34,
     "metadata": {},
     "output_type": "execute_result"
    },
    {
     "data": {
      "image/png": "[encoded data removed]",
      "text/plain": [
       "<Figure size 1152x432 with 2 Axes>"
      ]
     },
     "metadata": {
      "needs_background": "light"
     },
     "output_type": "display_data"
    }
   ],
   "source": [
    "response = \"avg_n_cases_waiting_in_queue\"\n",
    "\n",
    "fig, ax = plt.subplots(\n",
    "    nrows=1,\n",
    "    ncols=2, figsize=(16, 6))\n",
    "\n",
    "st = fig.suptitle(response, fontsize=\"x-large\")\n",
    "\n",
    "\"\"\" divide to two plots\"\"\"\n",
    "\n",
    "width = 0.8\n",
    "linewidth = 1\n",
    "\n",
    "hue_order = [\"FCFS\",\"SRTF\",\"LRTF\",\"NPS\"]\n",
    "\n",
    "NONE = experiments.loc[experiments.F_hard_ceiling == \"NONE\"]\n",
    "\n",
    "sns.boxplot(x=NONE.F_number_of_agents,\n",
    "            y=NONE[response],\n",
    "            hue=NONE.F_priority_scheme,\n",
    "            hue_order = hue_order,\n",
    "            width=width,\n",
    "            dodge=True,\n",
    "            showfliers = False,\n",
    "            linewidth=linewidth,\n",
    "            whis=1.5,\n",
    "            ax=ax[0])\n",
    "\n",
    "\n",
    "SLA = experiments.loc[experiments.F_hard_ceiling == \"SLA\"]\n",
    "\n",
    "sns.boxplot(x=SLA.F_number_of_agents,\n",
    "            y=SLA[response],\n",
    "            hue=SLA.F_priority_scheme,\n",
    "            hue_order = hue_order,\n",
    "            width=width,\n",
    "            dodge=True,\n",
    "            showfliers = False,\n",
    "            linewidth=linewidth,\n",
    "            whis=1.5,\n",
    "            ax=ax[1])\n",
    "\n",
    "#fig.title(\"Simulated tNPS performance (after case completion)\")\n",
    "\n",
    "ax[0].set(ylabel=response, xlabel='No hard ceiling')#, ylim=[0, 120])\n",
    "ax[0].legend([],[], frameon=False)\n",
    "\n",
    "ax[1].set(ylabel=response, xlabel='Hard ceiling = 2.5 days')#, ylim=[0, 120])\n",
    "ax[1].legend(loc='lower right')\n",
    "\n",
    "#plt.savefig(\"WT_performance.png\", dpi=200, bbox_inches = \"tight\")"
   ]
  },
  {
   "cell_type": "markdown",
   "id": "f58ddc2e",
   "metadata": {},
   "source": [
    "# Waiting time in queue"
   ]
  },
  {
   "cell_type": "code",
   "execution_count": 35,
   "id": "a8485973",
   "metadata": {},
   "outputs": [
    {
     "data": {
      "image/png": "[encoded data removed]",
      "text/plain": [
       "<Figure size 1152x432 with 2 Axes>"
      ]
     },
     "metadata": {
      "needs_background": "light"
     },
     "output_type": "display_data"
    }
   ],
   "source": [
    "response = \"avg_daily_queue_waitingtime\"\n",
    "\n",
    "fig, ax = plt.subplots(\n",
    "    nrows=1,\n",
    "    ncols=2, figsize=(16, 6))\n",
    "\n",
    "st = fig.suptitle(\"Simulated queue waiting time performance for closed cases: Priority scheme vs. Number of agents\", fontsize=\"x-large\")\n",
    "\n",
    "\"\"\" divide to two plots\"\"\"\n",
    "\n",
    "width = 0.8\n",
    "linewidth = 1\n",
    "\n",
    "hue_order = [\"FCFS\",\"SRTF\",\"LRTF\",\"NPS\"]\n",
    "\n",
    "NONE = experiments.loc[experiments.F_hard_ceiling == \"NONE\"]\n",
    "\n",
    "sns.boxplot(x=NONE.F_number_of_agents,\n",
    "            y=NONE[response],\n",
    "            hue=NONE.F_priority_scheme,\n",
    "            hue_order = hue_order,\n",
    "            width=width,\n",
    "            dodge=True,\n",
    "            showfliers = False,\n",
    "            linewidth=linewidth,\n",
    "            whis=1.5,\n",
    "            ax=ax[0])\n",
    "\n",
    "\n",
    "SLA = experiments.loc[experiments.F_hard_ceiling == \"SLA\"]\n",
    "\n",
    "sns.boxplot(x=SLA.F_number_of_agents,\n",
    "            y=SLA[response],\n",
    "            hue=SLA.F_priority_scheme,\n",
    "            hue_order = hue_order,\n",
    "            width=width,\n",
    "            dodge=True,\n",
    "            showfliers = False,\n",
    "            linewidth=linewidth,\n",
    "            whis=1.5,\n",
    "            ax=ax[1])\n",
    "\n",
    "#fig.title(\"Simulated tNPS performance (after case completion)\")\n",
    "\n",
    "ax[0].set(ylabel='Simulated avg. queue waiting time (days)', xlabel='No hard ceiling')#, ylim=[0, 120])\n",
    "ax[0].legend([],[], frameon=False)\n",
    "\n",
    "ax[1].set(ylabel='Simulated avg. queue waiting time (days)', xlabel='Hard ceiling = 2.5 days')#, ylim=[0, 120])\n",
    "ax[1].legend(loc='upper right')\n",
    "\n",
    "plt.savefig(\"WT_performance.png\", dpi=200, bbox_inches = \"tight\")"
   ]
  },
  {
   "cell_type": "code",
   "execution_count": null,
   "id": "1b19c65f",
   "metadata": {},
   "outputs": [],
   "source": []
  }
 ],
 "metadata": {
  "kernelspec": {
   "display_name": "Python 3 (ipykernel)",
   "language": "python",
   "name": "python3"
  },
  "language_info": {
   "codemirror_mode": {
    "name": "ipython",
    "version": 3
   },
   "file_extension": ".py",
   "mimetype": "text/x-python",
   "name": "python",
   "nbconvert_exporter": "python",
   "pygments_lexer": "ipython3",
   "version": "3.8.13"
  }
 },
 "nbformat": 4,
 "nbformat_minor": 5
}
