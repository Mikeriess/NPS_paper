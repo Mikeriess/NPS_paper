{
 "cells": [
  {
   "cell_type": "markdown",
   "id": "d8ba4e64",
   "metadata": {},
   "source": [
    "# Study 1: Fit with existing data from salesforce"
   ]
  },
  {
   "cell_type": "code",
   "execution_count": 118,
   "id": "1d664c53",
   "metadata": {},
   "outputs": [],
   "source": [
    "# No changes to the analysis here"
   ]
  },
  {
   "cell_type": "code",
   "execution_count": 6,
   "id": "af735159",
   "metadata": {},
   "outputs": [
    {
     "data": {
      "text/plain": [
       "19.09090909090909"
      ]
     },
     "execution_count": 6,
     "metadata": {},
     "output_type": "execute_result"
    }
   ],
   "source": [
    "#estimated time\n",
    "((4 * 7 * 2 * 100 * 9)/60)/44"
   ]
  },
  {
   "cell_type": "markdown",
   "id": "8d76887e",
   "metadata": {},
   "source": [
    "# Study 2: Performance of proposed approaches"
   ]
  },
  {
   "cell_type": "code",
   "execution_count": 144,
   "id": "eda694b7",
   "metadata": {},
   "outputs": [],
   "source": [
    "import pandas as pd\n",
    "import numpy as np\n",
    "import statsmodels\n",
    "import seaborn as sns\n",
    "import scipy\n",
    "import matplotlib.pyplot as plt\n",
    "import seaborn as sns"
   ]
  },
  {
   "cell_type": "code",
   "execution_count": 145,
   "id": "d00c6cfa",
   "metadata": {},
   "outputs": [
    {
     "data": {
      "text/html": [
       "<div>\n",
       "<style scoped>\n",
       "    .dataframe tbody tr th:only-of-type {\n",
       "        vertical-align: middle;\n",
       "    }\n",
       "\n",
       "    .dataframe tbody tr th {\n",
       "        vertical-align: top;\n",
       "    }\n",
       "\n",
       "    .dataframe thead th {\n",
       "        text-align: right;\n",
       "    }\n",
       "</style>\n",
       "<table border=\"1\" class=\"dataframe\">\n",
       "  <thead>\n",
       "    <tr style=\"text-align: right;\">\n",
       "      <th></th>\n",
       "      <th>F_priority_scheme</th>\n",
       "      <th>F_number_of_agents</th>\n",
       "      <th>F_hard_ceiling</th>\n",
       "      <th>ceiling_value</th>\n",
       "      <th>burn_in</th>\n",
       "      <th>days</th>\n",
       "      <th>startdate</th>\n",
       "      <th>repetition</th>\n",
       "      <th>closed_avg_simulated_NPS</th>\n",
       "      <th>closed_avg_simulated_throughput_time</th>\n",
       "      <th>...</th>\n",
       "      <th>h1_cases_arrived</th>\n",
       "      <th>h1_cases_closed</th>\n",
       "      <th>h2_cases_arrived</th>\n",
       "      <th>h2_cases_closed</th>\n",
       "      <th>h2_n_promoters</th>\n",
       "      <th>h2_n_detractors</th>\n",
       "      <th>h2_n_neutrals</th>\n",
       "      <th>h2_SIM_NPS</th>\n",
       "      <th>h2_closed_avg_simulated_NPS</th>\n",
       "      <th>h2_closed_avg_simulated_throughput_time</th>\n",
       "    </tr>\n",
       "  </thead>\n",
       "  <tbody>\n",
       "    <tr>\n",
       "      <th>0</th>\n",
       "      <td>FCFS</td>\n",
       "      <td>3</td>\n",
       "      <td>NONE</td>\n",
       "      <td>2.5</td>\n",
       "      <td>0</td>\n",
       "      <td>365</td>\n",
       "      <td>2018-07-01</td>\n",
       "      <td>0</td>\n",
       "      <td>-1</td>\n",
       "      <td>90.218883</td>\n",
       "      <td>...</td>\n",
       "      <td>389.0</td>\n",
       "      <td>302.0</td>\n",
       "      <td>389.0</td>\n",
       "      <td>0.0</td>\n",
       "      <td>NaN</td>\n",
       "      <td>NaN</td>\n",
       "      <td>NaN</td>\n",
       "      <td>NaN</td>\n",
       "      <td>NaN</td>\n",
       "      <td>NaN</td>\n",
       "    </tr>\n",
       "    <tr>\n",
       "      <th>1</th>\n",
       "      <td>SRTF</td>\n",
       "      <td>3</td>\n",
       "      <td>NONE</td>\n",
       "      <td>2.5</td>\n",
       "      <td>0</td>\n",
       "      <td>365</td>\n",
       "      <td>2018-07-01</td>\n",
       "      <td>0</td>\n",
       "      <td>-1</td>\n",
       "      <td>25.034114</td>\n",
       "      <td>...</td>\n",
       "      <td>362.0</td>\n",
       "      <td>183.0</td>\n",
       "      <td>362.0</td>\n",
       "      <td>106.0</td>\n",
       "      <td>34.0</td>\n",
       "      <td>42.0</td>\n",
       "      <td>30.0</td>\n",
       "      <td>-7.547170</td>\n",
       "      <td>8.128492</td>\n",
       "      <td>17.480474</td>\n",
       "    </tr>\n",
       "    <tr>\n",
       "      <th>2</th>\n",
       "      <td>LRTF</td>\n",
       "      <td>3</td>\n",
       "      <td>NONE</td>\n",
       "      <td>2.5</td>\n",
       "      <td>0</td>\n",
       "      <td>365</td>\n",
       "      <td>2018-07-01</td>\n",
       "      <td>0</td>\n",
       "      <td>-1</td>\n",
       "      <td>12.111148</td>\n",
       "      <td>...</td>\n",
       "      <td>389.0</td>\n",
       "      <td>147.0</td>\n",
       "      <td>389.0</td>\n",
       "      <td>130.0</td>\n",
       "      <td>57.0</td>\n",
       "      <td>46.0</td>\n",
       "      <td>27.0</td>\n",
       "      <td>8.461538</td>\n",
       "      <td>8.652812</td>\n",
       "      <td>10.056297</td>\n",
       "    </tr>\n",
       "    <tr>\n",
       "      <th>3</th>\n",
       "      <td>NPS</td>\n",
       "      <td>3</td>\n",
       "      <td>NONE</td>\n",
       "      <td>2.5</td>\n",
       "      <td>0</td>\n",
       "      <td>365</td>\n",
       "      <td>2018-07-01</td>\n",
       "      <td>0</td>\n",
       "      <td>-1</td>\n",
       "      <td>13.714178</td>\n",
       "      <td>...</td>\n",
       "      <td>381.0</td>\n",
       "      <td>158.0</td>\n",
       "      <td>381.0</td>\n",
       "      <td>138.0</td>\n",
       "      <td>70.0</td>\n",
       "      <td>41.0</td>\n",
       "      <td>27.0</td>\n",
       "      <td>21.014493</td>\n",
       "      <td>9.151989</td>\n",
       "      <td>10.268588</td>\n",
       "    </tr>\n",
       "    <tr>\n",
       "      <th>4</th>\n",
       "      <td>FCFS</td>\n",
       "      <td>6</td>\n",
       "      <td>NONE</td>\n",
       "      <td>2.5</td>\n",
       "      <td>0</td>\n",
       "      <td>365</td>\n",
       "      <td>2018-07-01</td>\n",
       "      <td>0</td>\n",
       "      <td>-1</td>\n",
       "      <td>53.041304</td>\n",
       "      <td>...</td>\n",
       "      <td>413.0</td>\n",
       "      <td>413.0</td>\n",
       "      <td>413.0</td>\n",
       "      <td>164.0</td>\n",
       "      <td>65.0</td>\n",
       "      <td>56.0</td>\n",
       "      <td>43.0</td>\n",
       "      <td>5.487805</td>\n",
       "      <td>8.623977</td>\n",
       "      <td>88.044488</td>\n",
       "    </tr>\n",
       "  </tbody>\n",
       "</table>\n",
       "<p>5 rows × 57 columns</p>\n",
       "</div>"
      ],
      "text/plain": [
       "  F_priority_scheme  F_number_of_agents F_hard_ceiling  ceiling_value  \\\n",
       "0              FCFS                   3           NONE            2.5   \n",
       "1              SRTF                   3           NONE            2.5   \n",
       "2              LRTF                   3           NONE            2.5   \n",
       "3               NPS                   3           NONE            2.5   \n",
       "4              FCFS                   6           NONE            2.5   \n",
       "\n",
       "   burn_in  days   startdate  repetition  closed_avg_simulated_NPS  \\\n",
       "0        0   365  2018-07-01           0                        -1   \n",
       "1        0   365  2018-07-01           0                        -1   \n",
       "2        0   365  2018-07-01           0                        -1   \n",
       "3        0   365  2018-07-01           0                        -1   \n",
       "4        0   365  2018-07-01           0                        -1   \n",
       "\n",
       "   closed_avg_simulated_throughput_time  ...  h1_cases_arrived  \\\n",
       "0                             90.218883  ...             389.0   \n",
       "1                             25.034114  ...             362.0   \n",
       "2                             12.111148  ...             389.0   \n",
       "3                             13.714178  ...             381.0   \n",
       "4                             53.041304  ...             413.0   \n",
       "\n",
       "   h1_cases_closed  h2_cases_arrived  h2_cases_closed  h2_n_promoters  \\\n",
       "0            302.0             389.0              0.0             NaN   \n",
       "1            183.0             362.0            106.0            34.0   \n",
       "2            147.0             389.0            130.0            57.0   \n",
       "3            158.0             381.0            138.0            70.0   \n",
       "4            413.0             413.0            164.0            65.0   \n",
       "\n",
       "   h2_n_detractors  h2_n_neutrals  h2_SIM_NPS  h2_closed_avg_simulated_NPS  \\\n",
       "0              NaN            NaN         NaN                          NaN   \n",
       "1             42.0           30.0   -7.547170                     8.128492   \n",
       "2             46.0           27.0    8.461538                     8.652812   \n",
       "3             41.0           27.0   21.014493                     9.151989   \n",
       "4             56.0           43.0    5.487805                     8.623977   \n",
       "\n",
       "   h2_closed_avg_simulated_throughput_time  \n",
       "0                                      NaN  \n",
       "1                                17.480474  \n",
       "2                                10.056297  \n",
       "3                                10.268588  \n",
       "4                                88.044488  \n",
       "\n",
       "[5 rows x 57 columns]"
      ]
     },
     "execution_count": 145,
     "metadata": {},
     "output_type": "execute_result"
    }
   ],
   "source": [
    "experiments = pd.read_csv(\"../results/experiments.csv\")\n",
    "experiments.head()"
   ]
  },
  {
   "cell_type": "code",
   "execution_count": 146,
   "id": "dfd813da",
   "metadata": {},
   "outputs": [
    {
     "data": {
      "text/plain": [
       "{'F_priority_scheme': 'FCFS',\n",
       " 'F_number_of_agents': 3,\n",
       " 'F_hard_ceiling': 'NONE',\n",
       " 'ceiling_value': 2.5,\n",
       " 'burn_in': 0,\n",
       " 'days': 365,\n",
       " 'startdate': '2018-07-01',\n",
       " 'repetition': 0,\n",
       " 'closed_avg_simulated_NPS': -1,\n",
       " 'closed_avg_simulated_throughput_time': 90.21888255343302,\n",
       " 'closed_avg_predicted_NPS': -1,\n",
       " 'closed_avg_predicted_throughput_time': -1,\n",
       " 'closed_avg_predicted_NPS_priority': -1,\n",
       " 'closed_avg_initial_delay': -1,\n",
       " 'closed_avg_activity_start_delay': -1,\n",
       " 'closed_avg_duration_delayed': -1,\n",
       " 'all_avg_simulated_NPS': -1,\n",
       " 'all_avg_simulated_throughput_time': -1,\n",
       " 'all_avg_predicted_NPS': -1,\n",
       " 'all_avg_predicted_throughput_time': -1,\n",
       " 'all_avg_predicted_NPS_priority': -1,\n",
       " 'all_avg_initial_delay': -1,\n",
       " 'all_avg_activity_start_delay': -1,\n",
       " 'all_avg_duration_delayed': -1,\n",
       " 'cases_arrived': 722,\n",
       " 'cases_closed': 302,\n",
       " 'case_queued': -1,\n",
       " 'cases_assigned_at_end': -1,\n",
       " 'min_tracelen': 1,\n",
       " 'max_tracelen': 12,\n",
       " 'Simulation_duration_min': -1,\n",
       " 'RUN': 0,\n",
       " 'Done': 0,\n",
       " 'closed_avg_simulated_NPS_response': 9.063628179805889,\n",
       " 'n_promoters': 143.0,\n",
       " 'n_detractors': 96.0,\n",
       " 'n_neutrals': 63.0,\n",
       " 'SIM_NPS': 15.562913907284765,\n",
       " 'avg_daily_queue_waitingtime': 47.11298236743147,\n",
       " 'avg_n_cases_waiting_in_queue': 194.08219178082192,\n",
       " 'avg_n_busy_agents': 2.9726027397260277,\n",
       " 'h1_n_promoters': 143.0,\n",
       " 'h1_n_detractors': 96.0,\n",
       " 'h1_n_neutrals': 63.0,\n",
       " 'h1_SIM_NPS': 15.562913907284765,\n",
       " 'h1_closed_avg_simulated_NPS': 9.063628179805889,\n",
       " 'h1_closed_avg_simulated_throughput_time': 90.21888255343302,\n",
       " 'h1_cases_arrived': 389.0,\n",
       " 'h1_cases_closed': 302.0,\n",
       " 'h2_cases_arrived': 389.0,\n",
       " 'h2_cases_closed': 0.0,\n",
       " 'h2_n_promoters': nan,\n",
       " 'h2_n_detractors': nan,\n",
       " 'h2_n_neutrals': nan,\n",
       " 'h2_SIM_NPS': nan,\n",
       " 'h2_closed_avg_simulated_NPS': nan,\n",
       " 'h2_closed_avg_simulated_throughput_time': nan}"
      ]
     },
     "execution_count": 146,
     "metadata": {},
     "output_type": "execute_result"
    }
   ],
   "source": [
    "experiments.loc[0].to_dict()"
   ]
  },
  {
   "cell_type": "markdown",
   "id": "ee6ae2e0",
   "metadata": {},
   "source": [
    "# Effects on customer tNPS"
   ]
  },
  {
   "cell_type": "markdown",
   "id": "b803f0f1",
   "metadata": {},
   "source": [
    "### Means"
   ]
  },
  {
   "cell_type": "code",
   "execution_count": 147,
   "id": "eb98f817",
   "metadata": {},
   "outputs": [
    {
     "data": {
      "text/html": [
       "<div>\n",
       "<style scoped>\n",
       "    .dataframe tbody tr th:only-of-type {\n",
       "        vertical-align: middle;\n",
       "    }\n",
       "\n",
       "    .dataframe tbody tr th {\n",
       "        vertical-align: top;\n",
       "    }\n",
       "\n",
       "    .dataframe thead th {\n",
       "        text-align: right;\n",
       "    }\n",
       "</style>\n",
       "<table border=\"1\" class=\"dataframe\">\n",
       "  <thead>\n",
       "    <tr style=\"text-align: right;\">\n",
       "      <th></th>\n",
       "      <th></th>\n",
       "      <th></th>\n",
       "      <th>SIM_NPS</th>\n",
       "    </tr>\n",
       "    <tr>\n",
       "      <th>F_hard_ceiling</th>\n",
       "      <th>F_priority_scheme</th>\n",
       "      <th>F_number_of_agents</th>\n",
       "      <th></th>\n",
       "    </tr>\n",
       "  </thead>\n",
       "  <tbody>\n",
       "    <tr>\n",
       "      <th rowspan=\"16\" valign=\"top\">NONE</th>\n",
       "      <th rowspan=\"4\" valign=\"top\">FCFS</th>\n",
       "      <th>3</th>\n",
       "      <td>9.907081</td>\n",
       "    </tr>\n",
       "    <tr>\n",
       "      <th>6</th>\n",
       "      <td>11.924699</td>\n",
       "    </tr>\n",
       "    <tr>\n",
       "      <th>9</th>\n",
       "      <td>15.376416</td>\n",
       "    </tr>\n",
       "    <tr>\n",
       "      <th>12</th>\n",
       "      <td>15.819253</td>\n",
       "    </tr>\n",
       "    <tr>\n",
       "      <th rowspan=\"4\" valign=\"top\">LRTF</th>\n",
       "      <th>3</th>\n",
       "      <td>14.103975</td>\n",
       "    </tr>\n",
       "    <tr>\n",
       "      <th>6</th>\n",
       "      <td>14.212890</td>\n",
       "    </tr>\n",
       "    <tr>\n",
       "      <th>9</th>\n",
       "      <td>15.457909</td>\n",
       "    </tr>\n",
       "    <tr>\n",
       "      <th>12</th>\n",
       "      <td>15.691653</td>\n",
       "    </tr>\n",
       "    <tr>\n",
       "      <th rowspan=\"4\" valign=\"top\">NPS</th>\n",
       "      <th>3</th>\n",
       "      <td>14.429961</td>\n",
       "    </tr>\n",
       "    <tr>\n",
       "      <th>6</th>\n",
       "      <td>14.513380</td>\n",
       "    </tr>\n",
       "    <tr>\n",
       "      <th>9</th>\n",
       "      <td>15.664980</td>\n",
       "    </tr>\n",
       "    <tr>\n",
       "      <th>12</th>\n",
       "      <td>15.803783</td>\n",
       "    </tr>\n",
       "    <tr>\n",
       "      <th rowspan=\"4\" valign=\"top\">SRTF</th>\n",
       "      <th>3</th>\n",
       "      <td>13.919338</td>\n",
       "    </tr>\n",
       "    <tr>\n",
       "      <th>6</th>\n",
       "      <td>14.633447</td>\n",
       "    </tr>\n",
       "    <tr>\n",
       "      <th>9</th>\n",
       "      <td>15.154745</td>\n",
       "    </tr>\n",
       "    <tr>\n",
       "      <th>12</th>\n",
       "      <td>16.113106</td>\n",
       "    </tr>\n",
       "    <tr>\n",
       "      <th rowspan=\"16\" valign=\"top\">SLA</th>\n",
       "      <th rowspan=\"4\" valign=\"top\">FCFS</th>\n",
       "      <th>3</th>\n",
       "      <td>9.722875</td>\n",
       "    </tr>\n",
       "    <tr>\n",
       "      <th>6</th>\n",
       "      <td>11.758124</td>\n",
       "    </tr>\n",
       "    <tr>\n",
       "      <th>9</th>\n",
       "      <td>15.086855</td>\n",
       "    </tr>\n",
       "    <tr>\n",
       "      <th>12</th>\n",
       "      <td>15.864718</td>\n",
       "    </tr>\n",
       "    <tr>\n",
       "      <th rowspan=\"4\" valign=\"top\">LRTF</th>\n",
       "      <th>3</th>\n",
       "      <td>9.888087</td>\n",
       "    </tr>\n",
       "    <tr>\n",
       "      <th>6</th>\n",
       "      <td>11.772532</td>\n",
       "    </tr>\n",
       "    <tr>\n",
       "      <th>9</th>\n",
       "      <td>15.313263</td>\n",
       "    </tr>\n",
       "    <tr>\n",
       "      <th>12</th>\n",
       "      <td>15.712204</td>\n",
       "    </tr>\n",
       "    <tr>\n",
       "      <th rowspan=\"4\" valign=\"top\">NPS</th>\n",
       "      <th>3</th>\n",
       "      <td>9.679748</td>\n",
       "    </tr>\n",
       "    <tr>\n",
       "      <th>6</th>\n",
       "      <td>11.504972</td>\n",
       "    </tr>\n",
       "    <tr>\n",
       "      <th>9</th>\n",
       "      <td>15.283985</td>\n",
       "    </tr>\n",
       "    <tr>\n",
       "      <th>12</th>\n",
       "      <td>15.742137</td>\n",
       "    </tr>\n",
       "    <tr>\n",
       "      <th rowspan=\"4\" valign=\"top\">SRTF</th>\n",
       "      <th>3</th>\n",
       "      <td>9.950810</td>\n",
       "    </tr>\n",
       "    <tr>\n",
       "      <th>6</th>\n",
       "      <td>11.859605</td>\n",
       "    </tr>\n",
       "    <tr>\n",
       "      <th>9</th>\n",
       "      <td>15.279690</td>\n",
       "    </tr>\n",
       "    <tr>\n",
       "      <th>12</th>\n",
       "      <td>15.830169</td>\n",
       "    </tr>\n",
       "  </tbody>\n",
       "</table>\n",
       "</div>"
      ],
      "text/plain": [
       "                                                       SIM_NPS\n",
       "F_hard_ceiling F_priority_scheme F_number_of_agents           \n",
       "NONE           FCFS              3                    9.907081\n",
       "                                 6                   11.924699\n",
       "                                 9                   15.376416\n",
       "                                 12                  15.819253\n",
       "               LRTF              3                   14.103975\n",
       "                                 6                   14.212890\n",
       "                                 9                   15.457909\n",
       "                                 12                  15.691653\n",
       "               NPS               3                   14.429961\n",
       "                                 6                   14.513380\n",
       "                                 9                   15.664980\n",
       "                                 12                  15.803783\n",
       "               SRTF              3                   13.919338\n",
       "                                 6                   14.633447\n",
       "                                 9                   15.154745\n",
       "                                 12                  16.113106\n",
       "SLA            FCFS              3                    9.722875\n",
       "                                 6                   11.758124\n",
       "                                 9                   15.086855\n",
       "                                 12                  15.864718\n",
       "               LRTF              3                    9.888087\n",
       "                                 6                   11.772532\n",
       "                                 9                   15.313263\n",
       "                                 12                  15.712204\n",
       "               NPS               3                    9.679748\n",
       "                                 6                   11.504972\n",
       "                                 9                   15.283985\n",
       "                                 12                  15.742137\n",
       "               SRTF              3                    9.950810\n",
       "                                 6                   11.859605\n",
       "                                 9                   15.279690\n",
       "                                 12                  15.830169"
      ]
     },
     "execution_count": 147,
     "metadata": {},
     "output_type": "execute_result"
    }
   ],
   "source": [
    " #Crosstab AE by trace length\n",
    "    \n",
    "response = \"SIM_NPS\"\n",
    "factors = [\"F_hard_ceiling\",\"F_priority_scheme\",\"F_number_of_agents\"]\n",
    "    \n",
    "pivottable = pd.pivot_table(experiments, \n",
    "                            values=response,\n",
    "                            columns=factors, \n",
    "                            aggfunc=np.mean).T\n",
    "\n",
    "#pivottable = pivottable.reset_index()\n",
    "\n",
    "pivottable"
   ]
  },
  {
   "cell_type": "code",
   "execution_count": 148,
   "id": "cda64b1f",
   "metadata": {},
   "outputs": [
    {
     "name": "stdout",
     "output_type": "stream",
     "text": [
      "\\begin{tabular}{l|l|l|r|}\n",
      "\\hline\n",
      "    &      &    &    SIM\\_NPS \\\\\n",
      "F\\_hard\\_ceiling & Priority scheme & Number of agents &            \\\\\n",
      "\\hline\n",
      "NONE & FCFS & 3  &   9.907081 \\\\\n",
      "    &      & 6  &  11.924699 \\\\\n",
      "    &      & 9  &  15.376416 \\\\\n",
      "    &      & 12 &  15.819253 \\\\\n",
      "    & LRTF & 3  &  14.103975 \\\\\n",
      "    &      & 6  &  14.212890 \\\\\n",
      "    &      & 9  &  15.457909 \\\\\n",
      "    &      & 12 &  15.691653 \\\\\n",
      "    & NPS & 3  &  14.429961 \\\\\n",
      "    &      & 6  &  14.513380 \\\\\n",
      "    &      & 9  &  15.664980 \\\\\n",
      "    &      & 12 &  15.803783 \\\\\n",
      "    & SRTF & 3  &  13.919338 \\\\\n",
      "    &      & 6  &  14.633447 \\\\\n",
      "    &      & 9  &  15.154745 \\\\\n",
      "    &      & 12 &  16.113106 \\\\\n",
      "SLA & FCFS & 3  &   9.722875 \\\\\n",
      "    &      & 6  &  11.758124 \\\\\n",
      "    &      & 9  &  15.086855 \\\\\n",
      "    &      & 12 &  15.864718 \\\\\n",
      "    & LRTF & 3  &   9.888087 \\\\\n",
      "    &      & 6  &  11.772532 \\\\\n",
      "    &      & 9  &  15.313263 \\\\\n",
      "    &      & 12 &  15.712204 \\\\\n",
      "    & NPS & 3  &   9.679748 \\\\\n",
      "    &      & 6  &  11.504972 \\\\\n",
      "    &      & 9  &  15.283985 \\\\\n",
      "    &      & 12 &  15.742137 \\\\\n",
      "    & SRTF & 3  &   9.950810 \\\\\n",
      "    &      & 6  &  11.859605 \\\\\n",
      "    &      & 9  &  15.279690 \\\\\n",
      "    &      & 12 &  15.830169 \\\\\n",
      "\\hline\n",
      "\\end{tabular}\n",
      "\n"
     ]
    },
    {
     "name": "stderr",
     "output_type": "stream",
     "text": [
      "C:\\Users\\Mike\\AppData\\Local\\Temp\\ipykernel_25244\\1350266391.py:1: FutureWarning: In future versions `DataFrame.to_latex` is expected to utilise the base implementation of `Styler.to_latex` for formatting and rendering. The arguments signature may therefore change. It is recommended instead to use `DataFrame.style.to_latex` which also contains additional functionality.\n",
      "  string = str((pivottable.to_latex(index=True)))\n"
     ]
    }
   ],
   "source": [
    "\n",
    "\n",
    "string = str((pivottable.to_latex(index=True)))\n",
    "string = string.replace('!', '$\\pm$')\n",
    "\n",
    "string = string.replace(\"toprule\",\"hline\")\n",
    "string = string.replace(\"midrule\",\"hline\")\n",
    "string = string.replace(\"bottomrule\",\"hline\") #\n",
    "\n",
    "string = string.replace(\"MAE           &\",\"$MAE$           &\")\n",
    "string = string.replace(\"MAE\\_Etd\",\"$MAE_{EtD}$\")\n",
    "string = string.replace(\"MAE\\_Mtd\",\"$MAE_{MtD}$\")\n",
    "string = string.replace(\"MAE\\_Ptd\",\"$MAE_{PtD}$\")\n",
    "\n",
    "string = string.replace(\"llr\",\"|l|l|r|\")\n",
    "\n",
    "string = string.replace(\"data\",\"Loss function\")\n",
    "\n",
    "string = string.replace(\"loss\\_function &             &              &               &                  \\\\\",\"\")\n",
    "\n",
    "string = string.replace('F\\_number\\_of\\_agents', 'Number of agents')\n",
    "string = string.replace('F\\_priority\\_scheme', 'Priority scheme')\n",
    "string = string.replace('closed\\_avg\\_simulated\\_NPS', 'Simulated tNPS')\n",
    "\n",
    "pivottable\n",
    "print(string)"
   ]
  },
  {
   "cell_type": "markdown",
   "id": "9be36f63",
   "metadata": {},
   "source": [
    "### F-test"
   ]
  },
  {
   "cell_type": "code",
   "execution_count": 149,
   "id": "0df0bf24",
   "metadata": {},
   "outputs": [],
   "source": [
    "def f_test(group1, group2, log_trans=False):\n",
    "    \n",
    "    #log transform\n",
    "    if log_trans == True:\n",
    "        group1 = np.log(1+group1)\n",
    "        group2 = np.log(1+group2)\n",
    "    \n",
    "    f = np.var(group1, ddof=1)/np.var(group2, ddof=1)\n",
    "    nun = group1.size-1\n",
    "    dun = group2.size-1\n",
    "    p_value = 1-scipy.stats.f.cdf(f, nun, dun)\n",
    "    return f, p_value\n",
    "  "
   ]
  },
  {
   "cell_type": "code",
   "execution_count": 150,
   "id": "555d88ec",
   "metadata": {},
   "outputs": [
    {
     "data": {
      "text/plain": [
       "(1.0591458305525179, 0.20844509993373317)"
      ]
     },
     "execution_count": 150,
     "metadata": {},
     "output_type": "execute_result"
    }
   ],
   "source": [
    "baseline = experiments.loc[experiments.F_priority_scheme == \"FCFS\", response]\n",
    "candidate = experiments.loc[experiments.F_priority_scheme == \"NPS\", response]\n",
    "\n",
    "#perform f_test:\n",
    "f_value, p_value = f_test(baseline.values, candidate.values, log_trans=False)\n",
    "f_value, p_value"
   ]
  },
  {
   "cell_type": "markdown",
   "id": "cbf9a6da",
   "metadata": {},
   "source": [
    "### Boxplot"
   ]
  },
  {
   "cell_type": "code",
   "execution_count": 151,
   "id": "5dd2c166",
   "metadata": {},
   "outputs": [],
   "source": [
    "import matplotlib.pyplot as plt"
   ]
  },
  {
   "cell_type": "code",
   "execution_count": 156,
   "id": "3cf4f6bc",
   "metadata": {},
   "outputs": [
    {
     "data": {
      "image/png": "[encoded data removed]",
      "text/plain": [
       "<Figure size 1152x720 with 1 Axes>"
      ]
     },
     "metadata": {
      "needs_background": "light"
     },
     "output_type": "display_data"
    }
   ],
   "source": [
    "fig = plt.figure(figsize=(16, 10))\n",
    "\n",
    "hue_order = [\"FCFS\",\"SRTF\",\"LRTF\",\"NPS\"]\n",
    "\n",
    "sns.boxplot(x=experiments.F_number_of_agents,\n",
    "            y=experiments[response],\n",
    "            hue=experiments.F_priority_scheme,\n",
    "            hue_order = hue_order,\n",
    "            width=0.8,\n",
    "            dodge=True,\n",
    "            showfliers = False,\n",
    "            linewidth=1,\n",
    "            whis=1.5)\n",
    "\n",
    "plt.xlabel(\"Number of agents\")\n",
    "plt.ylabel(\"Simulated tNPS\")\n",
    "\n",
    "plt.title(\"Simulated tNPS performance (after case completion)\")\n",
    "\n",
    "\n",
    "plt.savefig(\"NPS_performance.png\", dpi=200, bbox_inches = \"tight\")\n",
    "\n",
    "plt.show()"
   ]
  },
  {
   "cell_type": "raw",
   "id": "6fca0ef0",
   "metadata": {},
   "source": [
    "def f_test(group1, group2, log_trans=False):\n",
    "    \n",
    "    #log transform\n",
    "    if log_trans == True:\n",
    "        group1 = np.log(1+group1)\n",
    "        group2 = np.log(1+group2)\n",
    "    \n",
    "    f = np.var(group1, ddof=1)/np.var(group2, ddof=1)\n",
    "    nun = group1.size-1\n",
    "    dun = group2.size-1\n",
    "    p_value = 1-scipy.stats.f.cdf(f, nun, dun)\n",
    "    return f, p_value\n",
    "  "
   ]
  },
  {
   "cell_type": "raw",
   "id": "926d8831",
   "metadata": {},
   "source": [
    "schemes = ['LRTF',\"SRTF\",\"NPS\",\"NPS-SLA\"]\n",
    "agents = [3,6,9,12]\n",
    "\n",
    "res = {\"Num_agents\":[],\n",
    "      \"Priority_scheme\":[],\n",
    "      \"f_value\":[],\n",
    "      \"p_value\":[]}\n",
    "\n",
    "#do a comparison for each dataset\n",
    "for n in agents:\n",
    "    results = experiments.loc[experiments.F_number_of_agents == n]\n",
    "    \n",
    "    #do a comparison with MAE for each of the three losses\n",
    "    for scheme in schemes:\n",
    "        \n",
    "        #get MAE vectors, n = 10\n",
    "        baseline = results.loc[results.F_priority_scheme == \"FCFS\",response]\n",
    "        scheme_i = results.loc[results.F_priority_scheme == scheme, response]\n",
    "        \n",
    "        #perform f_test:\n",
    "        f_value, p_value = f_test(baseline.values, scheme_i.values, log_trans=False)\n",
    "        \n",
    "        #append results\n",
    "        res[\"Num_agents\"].append(n)\n",
    "        res[\"Priority_scheme\"].append(scheme)\n",
    "        res[\"f_value\"].append(np.round(f_value,decimals=3))\n",
    "        res[\"p_value\"].append(np.round(p_value,decimals=3))\n",
    "res = pd.DataFrame(res)"
   ]
  },
  {
   "cell_type": "raw",
   "id": "367171a7",
   "metadata": {},
   "source": [
    "res"
   ]
  },
  {
   "cell_type": "markdown",
   "id": "d76570ca",
   "metadata": {},
   "source": [
    "## Linear model"
   ]
  },
  {
   "cell_type": "code",
   "execution_count": 129,
   "id": "3f1a4227",
   "metadata": {},
   "outputs": [],
   "source": [
    "import statsmodels.api as sm\n",
    "import statsmodels.formula.api as smf\n",
    "#https://www.statsmodels.org/dev/example_formulas.html"
   ]
  },
  {
   "cell_type": "code",
   "execution_count": 130,
   "id": "6cda6974",
   "metadata": {},
   "outputs": [],
   "source": [
    "formula = response + \"~ F_number_of_agents + F_priority_scheme + F_number_of_agents*F_priority_scheme\""
   ]
  },
  {
   "cell_type": "code",
   "execution_count": 131,
   "id": "a794a939",
   "metadata": {},
   "outputs": [],
   "source": [
    "experiments[\"F_priority_scheme\"] = experiments.F_priority_scheme.astype('category')\n",
    "experiments[\"F_number_of_agents\"] = experiments.F_number_of_agents.astype('category')"
   ]
  },
  {
   "cell_type": "code",
   "execution_count": 132,
   "id": "b80c55b6",
   "metadata": {},
   "outputs": [],
   "source": [
    "ols_model = smf.ols(formula=formula, data=experiments)"
   ]
  },
  {
   "cell_type": "code",
   "execution_count": 133,
   "id": "46b5f295",
   "metadata": {},
   "outputs": [],
   "source": [
    "ols_results = ols_model.fit()"
   ]
  },
  {
   "cell_type": "code",
   "execution_count": 134,
   "id": "df01152b",
   "metadata": {},
   "outputs": [
    {
     "name": "stdout",
     "output_type": "stream",
     "text": [
      "                            OLS Regression Results                            \n",
      "==============================================================================\n",
      "Dep. Variable:                SIM_NPS   R-squared:                       0.532\n",
      "Model:                            OLS   Adj. R-squared:                  0.385\n",
      "Method:                 Least Squares   F-statistic:                     3.630\n",
      "Date:                Tue, 31 Jan 2023   Prob (F-statistic):           0.000333\n",
      "Time:                        14:47:09   Log-Likelihood:                -121.35\n",
      "No. Observations:                  64   AIC:                             274.7\n",
      "Df Residuals:                      48   BIC:                             309.2\n",
      "Df Model:                          15                                         \n",
      "Covariance Type:            nonrobust                                         \n",
      "======================================================================================================================\n",
      "                                                         coef    std err          t      P>|t|      [0.025      0.975]\n",
      "----------------------------------------------------------------------------------------------------------------------\n",
      "Intercept                                             11.9181      0.930     12.809      0.000      10.047      13.789\n",
      "F_number_of_agents[T.6]                               -1.5492      1.316     -1.177      0.245      -4.195       1.096\n",
      "F_number_of_agents[T.9]                                2.2019      1.316      1.673      0.101      -0.444       4.847\n",
      "F_number_of_agents[T.12]                               2.1527      1.316      1.636      0.108      -0.493       4.798\n",
      "F_priority_scheme[T.LRTF]                              1.0994      1.316      0.835      0.408      -1.546       3.745\n",
      "F_priority_scheme[T.NPS]                               3.1364      1.316      2.384      0.021       0.491       5.782\n",
      "F_priority_scheme[T.SRTF]                             -2.2296      1.316     -1.694      0.097      -4.875       0.416\n",
      "F_number_of_agents[T.6]:F_priority_scheme[T.LRTF]     -0.8914      1.861     -0.479      0.634      -4.633       2.850\n",
      "F_number_of_agents[T.9]:F_priority_scheme[T.LRTF]     -0.1565      1.861     -0.084      0.933      -3.898       3.585\n",
      "F_number_of_agents[T.12]:F_priority_scheme[T.LRTF]    -0.4320      1.861     -0.232      0.817      -4.173       3.309\n",
      "F_number_of_agents[T.6]:F_priority_scheme[T.NPS]      -0.9759      1.861     -0.524      0.602      -4.717       2.766\n",
      "F_number_of_agents[T.9]:F_priority_scheme[T.NPS]      -3.7060      1.861     -1.992      0.052      -7.447       0.035\n",
      "F_number_of_agents[T.12]:F_priority_scheme[T.NPS]     -2.8102      1.861     -1.510      0.138      -6.552       0.931\n",
      "F_number_of_agents[T.6]:F_priority_scheme[T.SRTF]      3.9585      1.861      2.127      0.039       0.217       7.700\n",
      "F_number_of_agents[T.9]:F_priority_scheme[T.SRTF]      2.4160      1.861      1.298      0.200      -1.325       6.157\n",
      "F_number_of_agents[T.12]:F_priority_scheme[T.SRTF]     3.0770      1.861      1.654      0.105      -0.664       6.818\n",
      "==============================================================================\n",
      "Omnibus:                        2.106   Durbin-Watson:                   1.633\n",
      "Prob(Omnibus):                  0.349   Jarque-Bera (JB):                1.333\n",
      "Skew:                           0.239   Prob(JB):                        0.514\n",
      "Kurtosis:                       3.522   Cond. No.                         23.0\n",
      "==============================================================================\n",
      "\n",
      "Notes:\n",
      "[1] Standard Errors assume that the covariance matrix of the errors is correctly specified.\n"
     ]
    }
   ],
   "source": [
    "print(ols_results.summary())"
   ]
  },
  {
   "cell_type": "markdown",
   "id": "80bea179",
   "metadata": {},
   "source": [
    "# New measurement:"
   ]
  },
  {
   "cell_type": "code",
   "execution_count": 135,
   "id": "42225b75",
   "metadata": {},
   "outputs": [],
   "source": [
    "#NPS = % promoters - % detractors"
   ]
  },
  {
   "cell_type": "code",
   "execution_count": 136,
   "id": "eb14d569",
   "metadata": {},
   "outputs": [
    {
     "data": {
      "text/plain": [
       "'\\nUsing our approach, there should be more promoters\\n\\nfor each experiment:\\n\\n    Calculate NPS score\\n\\n'"
      ]
     },
     "execution_count": 136,
     "metadata": {},
     "output_type": "execute_result"
    }
   ],
   "source": [
    "\"\"\"\n",
    "Using our approach, there should be more promoters\n",
    "\n",
    "for each experiment:\n",
    "\n",
    "    Calculate NPS score\n",
    "\n",
    "\"\"\""
   ]
  },
  {
   "cell_type": "code",
   "execution_count": null,
   "id": "dd57cd51",
   "metadata": {},
   "outputs": [],
   "source": []
  },
  {
   "cell_type": "code",
   "execution_count": null,
   "id": "1e8588cf",
   "metadata": {},
   "outputs": [],
   "source": []
  },
  {
   "cell_type": "code",
   "execution_count": null,
   "id": "8ef6f50f",
   "metadata": {},
   "outputs": [],
   "source": []
  },
  {
   "cell_type": "code",
   "execution_count": null,
   "id": "25283673",
   "metadata": {},
   "outputs": [],
   "source": []
  },
  {
   "cell_type": "code",
   "execution_count": null,
   "id": "6671ca2e",
   "metadata": {},
   "outputs": [],
   "source": []
  },
  {
   "cell_type": "code",
   "execution_count": null,
   "id": "3fbcc28d",
   "metadata": {},
   "outputs": [],
   "source": []
  },
  {
   "cell_type": "code",
   "execution_count": 157,
   "id": "fde0244a",
   "metadata": {},
   "outputs": [
    {
     "data": {
      "text/plain": [
       "<matplotlib.legend.Legend at 0x1a41da83f40>"
      ]
     },
     "execution_count": 157,
     "metadata": {},
     "output_type": "execute_result"
    },
    {
     "data": {
      "image/png": "[encoded data removed]",
      "text/plain": [
       "<Figure size 1152x432 with 2 Axes>"
      ]
     },
     "metadata": {
      "needs_background": "light"
     },
     "output_type": "display_data"
    }
   ],
   "source": [
    "response = \"SIM_NPS\"\n",
    "\n",
    "fig, ax = plt.subplots(\n",
    "    nrows=1,\n",
    "    ncols=2, figsize=(16, 6))\n",
    "\n",
    "st = fig.suptitle(\"Simulated NPS performance for closed cases: Priority scheme vs. Number of agents\", fontsize=\"x-large\")\n",
    "\n",
    "\"\"\" divide to two plots\"\"\"\n",
    "\n",
    "width = 0.8\n",
    "linewidth = 1\n",
    "\n",
    "hue_order = [\"FCFS\",\"SRTF\",\"LRTF\",\"NPS\"]\n",
    "\n",
    "NONE = experiments.loc[experiments.F_hard_ceiling == \"NONE\"]\n",
    "\n",
    "sns.boxplot(x=NONE.F_number_of_agents,\n",
    "            y=NONE[response],\n",
    "            hue=NONE.F_priority_scheme,\n",
    "            hue_order = hue_order,\n",
    "            width=width,\n",
    "            dodge=True,\n",
    "            showfliers = False,\n",
    "            linewidth=linewidth,\n",
    "            whis=1.5,\n",
    "            ax=ax[0])\n",
    "\n",
    "\n",
    "SLA = experiments.loc[experiments.F_hard_ceiling == \"SLA\"]\n",
    "\n",
    "sns.boxplot(x=SLA.F_number_of_agents,\n",
    "            y=SLA[response],\n",
    "            hue=SLA.F_priority_scheme,\n",
    "            hue_order = hue_order,\n",
    "            width=width,\n",
    "            dodge=True,\n",
    "            showfliers = False,\n",
    "            linewidth=linewidth,\n",
    "            whis=1.5,\n",
    "            ax=ax[1])\n",
    "\n",
    "#fig.title(\"Simulated tNPS performance (after case completion)\")\n",
    "\n",
    "ax[0].set(ylabel='Simulated tNPS', xlabel='No hard ceiling')#, ylim=[-93,-83])\n",
    "ax[0].legend([],[], frameon=False)\n",
    "\n",
    "ax[1].set(ylabel='Simulated tNPS', xlabel='Hard ceiling = 2.5 days')#, ylim=[-93,-83])\n",
    "ax[1].legend(loc='lower right')\n"
   ]
  },
  {
   "cell_type": "code",
   "execution_count": null,
   "id": "6a5e630f",
   "metadata": {},
   "outputs": [],
   "source": []
  },
  {
   "cell_type": "markdown",
   "id": "2456fe56",
   "metadata": {},
   "source": [
    "# Divided by periods"
   ]
  },
  {
   "cell_type": "code",
   "execution_count": 138,
   "id": "7faa5761",
   "metadata": {},
   "outputs": [],
   "source": [
    "#experiments.loc[0]"
   ]
  },
  {
   "cell_type": "code",
   "execution_count": 139,
   "id": "11dc8f6c",
   "metadata": {},
   "outputs": [],
   "source": [
    "RUN = 0\n",
    "TS = pd.read_csv(\"../results/\"+str(RUN)+\"/\"+str(RUN)+\"_timeseries.csv\")"
   ]
  },
  {
   "cell_type": "code",
   "execution_count": 140,
   "id": "f54ab681",
   "metadata": {},
   "outputs": [],
   "source": [
    "#TS"
   ]
  },
  {
   "cell_type": "code",
   "execution_count": 141,
   "id": "18b4a114",
   "metadata": {},
   "outputs": [],
   "source": [
    "h1=0\n",
    "h2=182"
   ]
  },
  {
   "cell_type": "code",
   "execution_count": 142,
   "id": "9bbf1cba",
   "metadata": {},
   "outputs": [
    {
     "data": {
      "text/plain": [
       "'\\nDo this in the post-processing and name the results as unique variables\\n'"
      ]
     },
     "execution_count": 142,
     "metadata": {},
     "output_type": "execute_result"
    }
   ],
   "source": [
    "\"\"\"\n",
    "Do this in the post-processing and name the results as unique variables\n",
    "\"\"\""
   ]
  },
  {
   "cell_type": "markdown",
   "id": "e3ff56d7",
   "metadata": {},
   "source": [
    "https://stackoverflow.com/questions/27426668/row-titles-for-matplotlib-subplot"
   ]
  },
  {
   "cell_type": "code",
   "execution_count": 158,
   "id": "8487bc92",
   "metadata": {},
   "outputs": [
    {
     "data": {
      "text/plain": [
       "<matplotlib.legend.Legend at 0x1a41e038880>"
      ]
     },
     "execution_count": 158,
     "metadata": {},
     "output_type": "execute_result"
    },
    {
     "data": {
      "image/png": "[encoded data removed]",
      "text/plain": [
       "<Figure size 1152x864 with 4 Axes>"
      ]
     },
     "metadata": {
      "needs_background": "light"
     },
     "output_type": "display_data"
    }
   ],
   "source": [
    "fig, ax = plt.subplots(\n",
    "    nrows=2,\n",
    "    ncols=2, \n",
    "    figsize=(16, 12))\n",
    "\n",
    "st = fig.suptitle(\"Simulated NPS performance for closed cases: Priority scheme vs. Number of agents\", fontsize=\"x-large\")\n",
    "\n",
    "\"\"\" divide to two plots\"\"\"\n",
    "\n",
    "width = 0.8\n",
    "linewidth = 1\n",
    "\n",
    "hue_order = [\"FCFS\",\"SRTF\",\"LRTF\",\"NPS\"]\n",
    "\n",
    "\"\"\"\n",
    "ROW 1\n",
    "\"\"\"\n",
    "response = \"h1_SIM_NPS\"\n",
    "\n",
    "NONE = experiments.loc[experiments.F_hard_ceiling == \"NONE\"]\n",
    "\n",
    "sns.boxplot(x=NONE.F_number_of_agents,\n",
    "            y=NONE[response],\n",
    "            hue=NONE.F_priority_scheme,\n",
    "            hue_order = hue_order,\n",
    "            width=width,\n",
    "            dodge=True,\n",
    "            showfliers = False,\n",
    "            linewidth=linewidth,\n",
    "            whis=1.5,\n",
    "            ax=ax[0,0])\n",
    "\n",
    "\n",
    "SLA = experiments.loc[experiments.F_hard_ceiling == \"SLA\"]\n",
    "\n",
    "sns.boxplot(x=SLA.F_number_of_agents,\n",
    "            y=SLA[response],\n",
    "            hue=SLA.F_priority_scheme,\n",
    "            hue_order = hue_order,\n",
    "            width=width,\n",
    "            dodge=True,\n",
    "            showfliers = False,\n",
    "            linewidth=linewidth,\n",
    "            whis=1.5,\n",
    "            ax=ax[0,1])\n",
    "\n",
    "\"\"\"\n",
    "Row 2\n",
    "\"\"\"\n",
    "response = \"h2_SIM_NPS\"\n",
    "\n",
    "NONE = experiments.loc[experiments.F_hard_ceiling == \"NONE\"]\n",
    "\n",
    "sns.boxplot(x=NONE.F_number_of_agents,\n",
    "            y=NONE[response],\n",
    "            hue=NONE.F_priority_scheme,\n",
    "            hue_order = hue_order,\n",
    "            width=width,\n",
    "            dodge=True,\n",
    "            showfliers = False,\n",
    "            linewidth=linewidth,\n",
    "            whis=1.5,\n",
    "            ax=ax[1,0])\n",
    "\n",
    "\n",
    "SLA = experiments.loc[experiments.F_hard_ceiling == \"SLA\"]\n",
    "\n",
    "sns.boxplot(x=SLA.F_number_of_agents,\n",
    "            y=SLA[response],\n",
    "            hue=SLA.F_priority_scheme,\n",
    "            hue_order = hue_order,\n",
    "            width=width,\n",
    "            dodge=True,\n",
    "            showfliers = False,\n",
    "            linewidth=linewidth,\n",
    "            whis=1.5,\n",
    "            ax=ax[1,1])\n",
    "\n",
    "\n",
    "#fig.title(\"Simulated tNPS performance (after case completion)\")\n",
    "\n",
    "ax[0,0].set(ylabel='Simulated tNPS (H1)', xlabel='(H1): No hard ceiling')#, ylim=[-93,-83])\n",
    "ax[0,0].legend([],[], frameon=False)\n",
    "\n",
    "ax[0,1].set(ylabel='Simulated tNPS (H1)', xlabel='(H1): Hard ceiling = 2.5 days')#, ylim=[-93,-83])\n",
    "ax[0,1].legend([],[], frameon=False)\n",
    "\n",
    "\n",
    "#ax[0,1].set_title(\"test\")\n",
    "\n",
    "\n",
    "ax[1,0].set(ylabel='Simulated tNPS (H2)', xlabel='(H2): No hard ceiling')#, ylim=[-93,-83])\n",
    "ax[1,0].legend([],[], frameon=False)\n",
    "\n",
    "ax[1,1].set(ylabel='Simulated tNPS (H2)', xlabel='(H2): Hard ceiling = 2.5 days')#, ylim=[-93,-83])\n",
    "ax[1,1].legend(loc='lower right')\n"
   ]
  },
  {
   "cell_type": "code",
   "execution_count": null,
   "id": "045e3e07",
   "metadata": {},
   "outputs": [],
   "source": []
  }
 ],
 "metadata": {
  "kernelspec": {
   "display_name": "Python 3 (ipykernel)",
   "language": "python",
   "name": "python3"
  },
  "language_info": {
   "codemirror_mode": {
    "name": "ipython",
    "version": 3
   },
   "file_extension": ".py",
   "mimetype": "text/x-python",
   "name": "python",
   "nbconvert_exporter": "python",
   "pygments_lexer": "ipython3",
   "version": "3.8.13"
  }
 },
 "nbformat": 4,
 "nbformat_minor": 5
}
